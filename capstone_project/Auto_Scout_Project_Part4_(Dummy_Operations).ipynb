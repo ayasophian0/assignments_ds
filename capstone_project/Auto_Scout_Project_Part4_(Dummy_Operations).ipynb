{
 "cells": [
  {
   "cell_type": "code",
   "execution_count": 437,
   "id": "482ad933-935d-43d4-85e0-b6c7a9991bdb",
   "metadata": {},
   "outputs": [],
   "source": [
    "import pandas as pd\n",
    "import numpy as np\n",
    "import re\n",
    "import seaborn as sns\n",
    "import matplotlib.pyplot as plt\n",
    "\n",
    "import warnings \n",
    "warnings.filterwarnings('ignore')\n",
    "\n",
    "sns.set_style(\"darkgrid\")\n",
    "pd.set_option('display.max_columns', 100)\n",
    "pd.set_option('display.max_rows', 1000)"
   ]
  },
  {
   "cell_type": "code",
   "execution_count": 438,
   "id": "1a220a1c-359d-4ab1-81dc-ab55b0dc9dd6",
   "metadata": {},
   "outputs": [],
   "source": [
    "df0 = pd.read_csv(\"auto_scout_part3.csv\")\n",
    "df = df0.copy()"
   ]
  },
  {
   "cell_type": "code",
   "execution_count": 439,
   "id": "ec1200ca-c57e-480b-a753-2b7f629742f9",
   "metadata": {},
   "outputs": [
    {
     "data": {
      "text/plain": [
       "(23466, 35)"
      ]
     },
     "execution_count": 439,
     "metadata": {},
     "output_type": "execute_result"
    }
   ],
   "source": [
    "df.shape"
   ]
  },
  {
   "cell_type": "code",
   "execution_count": 440,
   "id": "25d12125-f05e-4c5a-8773-62fa279d3afe",
   "metadata": {},
   "outputs": [
    {
     "data": {
      "text/html": [
       "<div>\n",
       "<style scoped>\n",
       "    .dataframe tbody tr th:only-of-type {\n",
       "        vertical-align: middle;\n",
       "    }\n",
       "\n",
       "    .dataframe tbody tr th {\n",
       "        vertical-align: top;\n",
       "    }\n",
       "\n",
       "    .dataframe thead th {\n",
       "        text-align: right;\n",
       "    }\n",
       "</style>\n",
       "<table border=\"1\" class=\"dataframe\">\n",
       "  <thead>\n",
       "    <tr style=\"text-align: right;\">\n",
       "      <th></th>\n",
       "      <th>index</th>\n",
       "      <th>make_model</th>\n",
       "      <th>make</th>\n",
       "      <th>model</th>\n",
       "      <th>price</th>\n",
       "      <th>body_type</th>\n",
       "      <th>type</th>\n",
       "      <th>doors</th>\n",
       "      <th>origin_country</th>\n",
       "      <th>warranty</th>\n",
       "      <th>mileage</th>\n",
       "      <th>first_registration</th>\n",
       "      <th>gearbox</th>\n",
       "      <th>fuel_type</th>\n",
       "      <th>color</th>\n",
       "      <th>paint</th>\n",
       "      <th>seller</th>\n",
       "      <th>seats</th>\n",
       "      <th>engine_size</th>\n",
       "      <th>gears</th>\n",
       "      <th>drivetrain</th>\n",
       "      <th>cylinders</th>\n",
       "      <th>empty_weight</th>\n",
       "      <th>full_service_history</th>\n",
       "      <th>emission_class</th>\n",
       "      <th>upholstery_color</th>\n",
       "      <th>upholstery</th>\n",
       "      <th>previous_owner</th>\n",
       "      <th>horse_power</th>\n",
       "      <th>fuel_consumption</th>\n",
       "      <th>comfort_convenience</th>\n",
       "      <th>safety_security</th>\n",
       "      <th>entertainment</th>\n",
       "      <th>extras</th>\n",
       "      <th>current_location</th>\n",
       "    </tr>\n",
       "  </thead>\n",
       "  <tbody>\n",
       "    <tr>\n",
       "      <th>22555</th>\n",
       "      <td>26922</td>\n",
       "      <td>Volvo XC60</td>\n",
       "      <td>Volvo</td>\n",
       "      <td>XC60</td>\n",
       "      <td>54890.0</td>\n",
       "      <td>Off-Road/Pick-up</td>\n",
       "      <td>Used</td>\n",
       "      <td>5.0</td>\n",
       "      <td>Germany</td>\n",
       "      <td>Yes</td>\n",
       "      <td>71000.0</td>\n",
       "      <td>2018.0</td>\n",
       "      <td>Automatic</td>\n",
       "      <td>Benzine</td>\n",
       "      <td>Grey</td>\n",
       "      <td>Metallic</td>\n",
       "      <td>Dealer</td>\n",
       "      <td>5.0</td>\n",
       "      <td>1.9</td>\n",
       "      <td>8.0</td>\n",
       "      <td>4WD</td>\n",
       "      <td>4.0</td>\n",
       "      <td>2394.000000</td>\n",
       "      <td>Yes</td>\n",
       "      <td>Euro 6</td>\n",
       "      <td>Black</td>\n",
       "      <td>Full Leather</td>\n",
       "      <td>1.0</td>\n",
       "      <td>230.0</td>\n",
       "      <td>2.10</td>\n",
       "      <td>Deluxe</td>\n",
       "      <td>Deluxe</td>\n",
       "      <td>Premium</td>\n",
       "      <td>Standard</td>\n",
       "      <td>DE</td>\n",
       "    </tr>\n",
       "    <tr>\n",
       "      <th>12862</th>\n",
       "      <td>14339</td>\n",
       "      <td>Skoda Kodiaq</td>\n",
       "      <td>Skoda</td>\n",
       "      <td>Kodiaq</td>\n",
       "      <td>45990.0</td>\n",
       "      <td>Off-Road/Pick-up</td>\n",
       "      <td>Used</td>\n",
       "      <td>5.0</td>\n",
       "      <td>Germany</td>\n",
       "      <td>Yes</td>\n",
       "      <td>28300.0</td>\n",
       "      <td>2020.0</td>\n",
       "      <td>Manual</td>\n",
       "      <td>Diesel</td>\n",
       "      <td>Grey</td>\n",
       "      <td>Metallic</td>\n",
       "      <td>Dealer</td>\n",
       "      <td>5.0</td>\n",
       "      <td>1.9</td>\n",
       "      <td>7.0</td>\n",
       "      <td>4WD</td>\n",
       "      <td>4.0</td>\n",
       "      <td>1895.000000</td>\n",
       "      <td>Yes</td>\n",
       "      <td>Under Class</td>\n",
       "      <td>Black</td>\n",
       "      <td>Full Leather</td>\n",
       "      <td>1.0</td>\n",
       "      <td>230.0</td>\n",
       "      <td>6.20</td>\n",
       "      <td>Deluxe</td>\n",
       "      <td>Premium</td>\n",
       "      <td>Premium</td>\n",
       "      <td>Standard</td>\n",
       "      <td>DE</td>\n",
       "    </tr>\n",
       "    <tr>\n",
       "      <th>14061</th>\n",
       "      <td>15711</td>\n",
       "      <td>Dacia Duster</td>\n",
       "      <td>Dacia</td>\n",
       "      <td>Duster</td>\n",
       "      <td>18500.0</td>\n",
       "      <td>Off-Road/Pick-up</td>\n",
       "      <td>Used</td>\n",
       "      <td>4.0</td>\n",
       "      <td>Spain</td>\n",
       "      <td>Yes</td>\n",
       "      <td>49481.0</td>\n",
       "      <td>2019.0</td>\n",
       "      <td>Manual</td>\n",
       "      <td>Benzine</td>\n",
       "      <td>Red</td>\n",
       "      <td>Metallic</td>\n",
       "      <td>Dealer</td>\n",
       "      <td>5.0</td>\n",
       "      <td>1.3</td>\n",
       "      <td>6.0</td>\n",
       "      <td>Front</td>\n",
       "      <td>4.0</td>\n",
       "      <td>1307.372263</td>\n",
       "      <td>Yes</td>\n",
       "      <td>Euro 6</td>\n",
       "      <td>Black</td>\n",
       "      <td>Cloth</td>\n",
       "      <td>1.0</td>\n",
       "      <td>122.0</td>\n",
       "      <td>6.05</td>\n",
       "      <td>Premium</td>\n",
       "      <td>Premium</td>\n",
       "      <td>Standard</td>\n",
       "      <td>Standard</td>\n",
       "      <td>DE</td>\n",
       "    </tr>\n",
       "  </tbody>\n",
       "</table>\n",
       "</div>"
      ],
      "text/plain": [
       "       index    make_model   make   model    price         body_type  type  \\\n",
       "22555  26922    Volvo XC60  Volvo    XC60  54890.0  Off-Road/Pick-up  Used   \n",
       "12862  14339  Skoda Kodiaq  Skoda  Kodiaq  45990.0  Off-Road/Pick-up  Used   \n",
       "14061  15711  Dacia Duster  Dacia  Duster  18500.0  Off-Road/Pick-up  Used   \n",
       "\n",
       "       doors origin_country warranty  mileage  first_registration    gearbox  \\\n",
       "22555    5.0        Germany      Yes  71000.0              2018.0  Automatic   \n",
       "12862    5.0        Germany      Yes  28300.0              2020.0     Manual   \n",
       "14061    4.0          Spain      Yes  49481.0              2019.0     Manual   \n",
       "\n",
       "      fuel_type color     paint  seller  seats  engine_size  gears drivetrain  \\\n",
       "22555   Benzine  Grey  Metallic  Dealer    5.0          1.9    8.0        4WD   \n",
       "12862    Diesel  Grey  Metallic  Dealer    5.0          1.9    7.0        4WD   \n",
       "14061   Benzine   Red  Metallic  Dealer    5.0          1.3    6.0      Front   \n",
       "\n",
       "       cylinders  empty_weight full_service_history emission_class  \\\n",
       "22555        4.0   2394.000000                  Yes         Euro 6   \n",
       "12862        4.0   1895.000000                  Yes    Under Class   \n",
       "14061        4.0   1307.372263                  Yes         Euro 6   \n",
       "\n",
       "      upholstery_color    upholstery  previous_owner  horse_power  \\\n",
       "22555            Black  Full Leather             1.0        230.0   \n",
       "12862            Black  Full Leather             1.0        230.0   \n",
       "14061            Black         Cloth             1.0        122.0   \n",
       "\n",
       "       fuel_consumption comfort_convenience safety_security entertainment  \\\n",
       "22555              2.10              Deluxe          Deluxe       Premium   \n",
       "12862              6.20              Deluxe         Premium       Premium   \n",
       "14061              6.05             Premium         Premium      Standard   \n",
       "\n",
       "         extras current_location  \n",
       "22555  Standard               DE  \n",
       "12862  Standard               DE  \n",
       "14061  Standard               DE  "
      ]
     },
     "execution_count": 440,
     "metadata": {},
     "output_type": "execute_result"
    }
   ],
   "source": [
    "df.sample(3)"
   ]
  },
  {
   "cell_type": "code",
   "execution_count": 441,
   "id": "53b1b504-1b1c-475c-8e7d-9755f78d4ff2",
   "metadata": {},
   "outputs": [],
   "source": [
    "## Analyze Dataset in relation to target column"
   ]
  },
  {
   "cell_type": "code",
   "execution_count": 442,
   "id": "90a3dcfb-8b21-4588-bd29-ca27e58831ed",
   "metadata": {},
   "outputs": [
    {
     "data": {
      "text/plain": [
       "index                -0.074571\n",
       "price                 1.000000\n",
       "doors                -0.002326\n",
       "mileage              -0.397121\n",
       "first_registration    0.378592\n",
       "seats                -0.022777\n",
       "engine_size           0.449031\n",
       "gears                 0.238688\n",
       "cylinders             0.431803\n",
       "empty_weight          0.582551\n",
       "previous_owner       -0.217414\n",
       "horse_power           0.642658\n",
       "fuel_consumption      0.272828\n",
       "Name: price, dtype: float64"
      ]
     },
     "execution_count": 442,
     "metadata": {},
     "output_type": "execute_result"
    }
   ],
   "source": [
    "df.corr(numeric_only=True).price"
   ]
  },
  {
   "cell_type": "code",
   "execution_count": 443,
   "id": "0fa30c97-8cf3-40fa-8388-2864d8b07379",
   "metadata": {},
   "outputs": [
    {
     "data": {
      "text/plain": [
       "body_type\n",
       "Compact             15942.252602\n",
       "Convertible         20974.080620\n",
       "Coupe               29398.671093\n",
       "Off-Road/Pick-up    29776.944680\n",
       "Sedan               23232.642793\n",
       "Station wagon       22909.094669\n",
       "Name: price, dtype: float64"
      ]
     },
     "execution_count": 443,
     "metadata": {},
     "output_type": "execute_result"
    }
   ],
   "source": [
    "df.groupby('body_type')['price'].mean()"
   ]
  },
  {
   "cell_type": "code",
   "execution_count": 444,
   "id": "27acee2b-5276-4868-8fc8-53273371caba",
   "metadata": {},
   "outputs": [
    {
     "data": {
      "text/plain": [
       "type\n",
       "Demonstration     45172.945113\n",
       "Employee's car    38105.178641\n",
       "Pre-registered    31303.228976\n",
       "Used              21486.280803\n",
       "Name: price, dtype: float64"
      ]
     },
     "execution_count": 444,
     "metadata": {},
     "output_type": "execute_result"
    }
   ],
   "source": [
    "df.groupby('type')['price'].mean()"
   ]
  },
  {
   "cell_type": "code",
   "execution_count": 445,
   "id": "00c72d85-6363-4e52-a2a7-040c6f5bf733",
   "metadata": {},
   "outputs": [
    {
     "data": {
      "text/plain": [
       "origin_country\n",
       "Austria            18704.030769\n",
       "Belgium            19817.017045\n",
       "Bulgaria           41990.000000\n",
       "Croatia            50985.000000\n",
       "Czechia            29929.291667\n",
       "Denmark            29183.611111\n",
       "European Union     26969.880556\n",
       "France             16788.827869\n",
       "Germany            26943.262046\n",
       "Hungary            35512.315789\n",
       "Italy              16269.534629\n",
       "Japan              32152.777778\n",
       "Luxembourg         42833.125000\n",
       "Malta              14690.000000\n",
       "Mexico            250000.000000\n",
       "Netherlands        10862.158809\n",
       "Poland             24006.166667\n",
       "Romania            18745.153846\n",
       "Slovakia           31742.500000\n",
       "Slovenia           31883.000000\n",
       "Spain              19889.888768\n",
       "Sweden             12196.666667\n",
       "Switzerland        14063.333333\n",
       "United States      35829.200000\n",
       "Name: price, dtype: float64"
      ]
     },
     "execution_count": 445,
     "metadata": {},
     "output_type": "execute_result"
    }
   ],
   "source": [
    "df.groupby('origin_country')['price'].mean()"
   ]
  },
  {
   "cell_type": "code",
   "execution_count": 446,
   "id": "bfabc0aa-0f9b-4065-876b-ccf0221e57b7",
   "metadata": {},
   "outputs": [
    {
     "data": {
      "text/plain": [
       "warranty\n",
       "No     21489.600265\n",
       "Yes    25286.201877\n",
       "Name: price, dtype: float64"
      ]
     },
     "execution_count": 446,
     "metadata": {},
     "output_type": "execute_result"
    }
   ],
   "source": [
    "df.groupby('warranty')['price'].mean()"
   ]
  },
  {
   "cell_type": "code",
   "execution_count": 447,
   "id": "0cde17dd-25ba-498b-bdee-27a66352f519",
   "metadata": {},
   "outputs": [
    {
     "data": {
      "text/plain": [
       "gearbox\n",
       "Automatic    36409.303003\n",
       "Manual       19716.627966\n",
       "Name: price, dtype: float64"
      ]
     },
     "execution_count": 447,
     "metadata": {},
     "output_type": "execute_result"
    }
   ],
   "source": [
    "df.groupby('gearbox')['price'].mean()"
   ]
  },
  {
   "cell_type": "code",
   "execution_count": 448,
   "id": "c30cf5a9-0bfc-4b53-aae6-f2f250937926",
   "metadata": {},
   "outputs": [
    {
     "data": {
      "text/plain": [
       "fuel_type\n",
       "Benzine          24154.862592\n",
       "Diesel           22244.761449\n",
       "Electric         34137.948882\n",
       "Hybrid           27957.368421\n",
       "Hybrid/Diesel    52659.600000\n",
       "Lpg              13650.466981\n",
       "Others           22529.598485\n",
       "Name: price, dtype: float64"
      ]
     },
     "execution_count": 448,
     "metadata": {},
     "output_type": "execute_result"
    }
   ],
   "source": [
    "df.groupby('fuel_type')['price'].mean()"
   ]
  },
  {
   "cell_type": "code",
   "execution_count": 449,
   "id": "11218977-9a94-4b7e-b861-0f197da63d28",
   "metadata": {},
   "outputs": [],
   "source": [
    "df.loc[df[df.fuel_type == 'Hybrid/Diesel'].index, 'fuel_type'] = 'Hybrid'"
   ]
  },
  {
   "cell_type": "code",
   "execution_count": 450,
   "id": "fabdd6a3-6a76-4550-89d8-683eec882700",
   "metadata": {},
   "outputs": [
    {
     "data": {
      "text/plain": [
       "fuel_type\n",
       "Benzine     24154.862592\n",
       "Diesel      22244.761449\n",
       "Electric    34137.948882\n",
       "Hybrid      28152.797468\n",
       "Lpg         13650.466981\n",
       "Others      22529.598485\n",
       "Name: price, dtype: float64"
      ]
     },
     "execution_count": 450,
     "metadata": {},
     "output_type": "execute_result"
    }
   ],
   "source": [
    "df.groupby('fuel_type')['price'].mean()"
   ]
  },
  {
   "cell_type": "code",
   "execution_count": 451,
   "id": "d0e07608-4b00-45ec-8aaf-a783073ae8ab",
   "metadata": {},
   "outputs": [],
   "source": [
    "df.loc[df[df.fuel_type == 'Others'].index, 'fuel_type'] = np.nan"
   ]
  },
  {
   "cell_type": "code",
   "execution_count": 452,
   "id": "b45f43d1-6939-4592-b5aa-48435254a587",
   "metadata": {},
   "outputs": [
    {
     "data": {
      "text/plain": [
       "264"
      ]
     },
     "execution_count": 452,
     "metadata": {},
     "output_type": "execute_result"
    }
   ],
   "source": [
    "df.fuel_type.isnull().sum()"
   ]
  },
  {
   "cell_type": "code",
   "execution_count": 453,
   "id": "fedb3802-043e-4d41-a281-19151b8c7342",
   "metadata": {},
   "outputs": [],
   "source": [
    "df.fuel_type = df.groupby(['make', 'body_type'])['fuel_type'].transform(lambda x: x.fillna(x.mode()[0]))"
   ]
  },
  {
   "cell_type": "code",
   "execution_count": 454,
   "id": "e6b6976f-f5cd-4546-9712-054582f5b08c",
   "metadata": {},
   "outputs": [
    {
     "data": {
      "text/plain": [
       "0"
      ]
     },
     "execution_count": 454,
     "metadata": {},
     "output_type": "execute_result"
    }
   ],
   "source": [
    "df.fuel_type.isnull().sum()"
   ]
  },
  {
   "cell_type": "code",
   "execution_count": 455,
   "id": "2390cd92-bbee-4cda-ae75-1bb458948fcd",
   "metadata": {},
   "outputs": [
    {
     "data": {
      "text/plain": [
       "fuel_type\n",
       "Benzine     15031\n",
       "Diesel       7257\n",
       "Hybrid        653\n",
       "Electric      313\n",
       "Lpg           212\n",
       "Name: count, dtype: int64"
      ]
     },
     "execution_count": 455,
     "metadata": {},
     "output_type": "execute_result"
    }
   ],
   "source": [
    "df.fuel_type.value_counts()"
   ]
  },
  {
   "cell_type": "code",
   "execution_count": 456,
   "id": "824ce5ed-c420-4702-a0d5-90dcd4ac3831",
   "metadata": {},
   "outputs": [],
   "source": [
    "df.loc[df[(df.engine_size == 0.0) & ~(df.fuel_type == 'Electric')].index, 'engine_size'] = np.nan"
   ]
  },
  {
   "cell_type": "code",
   "execution_count": 457,
   "id": "6861fb4c-d86d-4443-a3b2-e6c6b649d2a1",
   "metadata": {},
   "outputs": [],
   "source": [
    "df.engine_size = df.groupby(['make', 'fuel_type'])['engine_size'].transform(lambda x: x.fillna(x.mode()[0]))"
   ]
  },
  {
   "cell_type": "code",
   "execution_count": 458,
   "id": "8ca220a2-b3da-4a57-9915-a300d898380d",
   "metadata": {},
   "outputs": [
    {
     "data": {
      "text/plain": [
       "0"
      ]
     },
     "execution_count": 458,
     "metadata": {},
     "output_type": "execute_result"
    }
   ],
   "source": [
    "df.engine_size.isnull().sum()"
   ]
  },
  {
   "cell_type": "code",
   "execution_count": 459,
   "id": "7425fe2b-111c-4454-ae82-39d486669e30",
   "metadata": {},
   "outputs": [
    {
     "data": {
      "text/plain": [
       "fuel_type\n",
       "Benzine     24111.234249\n",
       "Diesel      22286.765606\n",
       "Electric    34137.948882\n",
       "Hybrid      28053.781011\n",
       "Lpg         13650.466981\n",
       "Name: price, dtype: float64"
      ]
     },
     "execution_count": 459,
     "metadata": {},
     "output_type": "execute_result"
    }
   ],
   "source": [
    "df.groupby('fuel_type')['price'].mean()"
   ]
  },
  {
   "cell_type": "code",
   "execution_count": 460,
   "id": "ee1f8cd1-cc81-48cc-932f-4a0306b020f8",
   "metadata": {},
   "outputs": [
    {
     "data": {
      "text/plain": [
       "color\n",
       "Beige     15270.935323\n",
       "Black     26158.425704\n",
       "Blue      23031.492139\n",
       "Bronze    16767.000000\n",
       "Brown     18584.089710\n",
       "Gold      24983.947368\n",
       "Green     27137.888889\n",
       "Grey      24686.835867\n",
       "Orange    23332.216000\n",
       "Red       21041.394191\n",
       "Silver    21423.327508\n",
       "Violet    12809.682927\n",
       "White     22112.647482\n",
       "Yellow    25187.655172\n",
       "Name: price, dtype: float64"
      ]
     },
     "execution_count": 460,
     "metadata": {},
     "output_type": "execute_result"
    }
   ],
   "source": [
    "df.groupby('color')['price'].mean()"
   ]
  },
  {
   "cell_type": "code",
   "execution_count": 461,
   "id": "6a082fef-5186-4b0d-8694-bc783505a051",
   "metadata": {},
   "outputs": [
    {
     "data": {
      "text/plain": [
       "paint\n",
       "Metallic     25829.777400\n",
       "Uni/basic    20942.286872\n",
       "Name: price, dtype: float64"
      ]
     },
     "execution_count": 461,
     "metadata": {},
     "output_type": "execute_result"
    }
   ],
   "source": [
    "df.groupby('paint')['price'].mean()"
   ]
  },
  {
   "cell_type": "code",
   "execution_count": 462,
   "id": "73506da4-f6a8-4363-a4df-082e572d80f6",
   "metadata": {},
   "outputs": [
    {
     "data": {
      "text/plain": [
       "seller\n",
       "Dealer            24395.753924\n",
       "Private seller    14597.695704\n",
       "Name: price, dtype: float64"
      ]
     },
     "execution_count": 462,
     "metadata": {},
     "output_type": "execute_result"
    }
   ],
   "source": [
    "df.groupby('seller')['price'].mean()"
   ]
  },
  {
   "cell_type": "code",
   "execution_count": 463,
   "id": "c882fb56-e56d-45c4-a378-030785685097",
   "metadata": {},
   "outputs": [
    {
     "data": {
      "text/plain": [
       "seats\n",
       "0.0      9400.000000\n",
       "1.0      8625.000000\n",
       "2.0     33396.856061\n",
       "3.0     22732.347826\n",
       "4.0     22874.786438\n",
       "5.0     23073.194457\n",
       "6.0     50284.875000\n",
       "7.0     37767.156977\n",
       "8.0     34362.780488\n",
       "9.0     32399.257143\n",
       "17.0    59990.000000\n",
       "Name: price, dtype: float64"
      ]
     },
     "execution_count": 463,
     "metadata": {},
     "output_type": "execute_result"
    }
   ],
   "source": [
    "df.groupby('seats')['price'].mean()"
   ]
  },
  {
   "cell_type": "code",
   "execution_count": 464,
   "id": "d8752439-34f5-4606-b59e-1dae844d4683",
   "metadata": {},
   "outputs": [
    {
     "data": {
      "text/plain": [
       "Index([3910, 3915, 4463, 10649, 10758, 11033, 12090, 12138, 13491, 13612,\n",
       "       21179],\n",
       "      dtype='int64')"
      ]
     },
     "execution_count": 464,
     "metadata": {},
     "output_type": "execute_result"
    }
   ],
   "source": [
    "df[df.seats.isin([0, 17])].index"
   ]
  },
  {
   "cell_type": "code",
   "execution_count": 465,
   "id": "18fb4044-7388-4f37-b215-8e1ae5604cd4",
   "metadata": {},
   "outputs": [],
   "source": [
    "df.drop(df[df.seats.isin([0, 17])].index, axis=0, inplace=True)"
   ]
  },
  {
   "cell_type": "code",
   "execution_count": 466,
   "id": "ecffbdd6-77ab-4df0-973b-c74d5beee973",
   "metadata": {},
   "outputs": [
    {
     "data": {
      "text/plain": [
       "seats\n",
       "1.0     8625.000000\n",
       "2.0    33396.856061\n",
       "3.0    22732.347826\n",
       "4.0    22874.786438\n",
       "5.0    23073.194457\n",
       "6.0    50284.875000\n",
       "7.0    37767.156977\n",
       "8.0    34362.780488\n",
       "9.0    32399.257143\n",
       "Name: price, dtype: float64"
      ]
     },
     "execution_count": 466,
     "metadata": {},
     "output_type": "execute_result"
    }
   ],
   "source": [
    "df.groupby('seats')['price'].mean()"
   ]
  },
  {
   "cell_type": "code",
   "execution_count": 467,
   "id": "9a5a4bc2-4c22-4c51-bcf1-91f23dff4d3c",
   "metadata": {},
   "outputs": [
    {
     "data": {
      "text/plain": [
       "(23455, 35)"
      ]
     },
     "execution_count": 467,
     "metadata": {},
     "output_type": "execute_result"
    }
   ],
   "source": [
    "df.shape"
   ]
  },
  {
   "cell_type": "code",
   "execution_count": 468,
   "id": "d0382277-45be-4d0a-9d09-75dc25df57d1",
   "metadata": {},
   "outputs": [
    {
     "data": {
      "text/plain": [
       "gears\n",
       "1.0    31209.594904\n",
       "4.0    10801.500000\n",
       "5.0    14163.376392\n",
       "6.0    21579.608281\n",
       "7.0    33234.040000\n",
       "8.0    44876.675506\n",
       "Name: price, dtype: float64"
      ]
     },
     "execution_count": 468,
     "metadata": {},
     "output_type": "execute_result"
    }
   ],
   "source": [
    "df.groupby('gears')['price'].mean()"
   ]
  },
  {
   "cell_type": "code",
   "execution_count": 469,
   "id": "28888983-5905-4397-999f-ed8866dcba70",
   "metadata": {},
   "outputs": [
    {
     "data": {
      "text/plain": [
       "drivetrain\n",
       "4WD      45179.790181\n",
       "Front    18729.598404\n",
       "Rear     37798.718681\n",
       "Name: price, dtype: float64"
      ]
     },
     "execution_count": 469,
     "metadata": {},
     "output_type": "execute_result"
    }
   ],
   "source": [
    "df.groupby('drivetrain')['price'].mean()"
   ]
  },
  {
   "cell_type": "code",
   "execution_count": 470,
   "id": "3aeb2499-1271-4952-b39a-10f2bbe0081e",
   "metadata": {},
   "outputs": [
    {
     "data": {
      "text/plain": [
       "cylinders\n",
       "0.0     34336.784946\n",
       "1.0     38723.280576\n",
       "2.0     16444.975904\n",
       "3.0     17807.688354\n",
       "4.0     21269.390349\n",
       "5.0     13871.186472\n",
       "6.0     50787.743567\n",
       "7.0     85929.166667\n",
       "8.0     75610.075342\n",
       "11.0    71990.000000\n",
       "12.0    65358.555556\n",
       "16.0     1250.000000\n",
       "Name: price, dtype: float64"
      ]
     },
     "execution_count": 470,
     "metadata": {},
     "output_type": "execute_result"
    }
   ],
   "source": [
    "df.groupby('cylinders')['price'].mean() ## Use engine_size instead of cylinders"
   ]
  },
  {
   "cell_type": "code",
   "execution_count": 471,
   "id": "4f72744b-1fa4-4de1-b2de-537c9918ef80",
   "metadata": {},
   "outputs": [
    {
     "data": {
      "text/plain": [
       "full_service_history\n",
       "No     20763.224444\n",
       "Yes    26826.568346\n",
       "Name: price, dtype: float64"
      ]
     },
     "execution_count": 471,
     "metadata": {},
     "output_type": "execute_result"
    }
   ],
   "source": [
    "df.groupby('full_service_history')['price'].mean()"
   ]
  },
  {
   "cell_type": "code",
   "execution_count": 472,
   "id": "44498539-877c-4ccd-ae2b-a16f6315d784",
   "metadata": {},
   "outputs": [
    {
     "data": {
      "text/plain": [
       "emission_class\n",
       "Euro 1         16555.577778\n",
       "Euro 2         13764.069231\n",
       "Euro 3          7607.562212\n",
       "Euro 4          8605.379933\n",
       "Euro 5         13290.939244\n",
       "Euro 6         29374.797810\n",
       "Under Class    21985.114453\n",
       "Name: price, dtype: float64"
      ]
     },
     "execution_count": 472,
     "metadata": {},
     "output_type": "execute_result"
    }
   ],
   "source": [
    "df.groupby('emission_class')['price'].mean()"
   ]
  },
  {
   "cell_type": "code",
   "execution_count": 473,
   "id": "86540091-0a1c-424f-a65f-7c8013d87008",
   "metadata": {},
   "outputs": [
    {
     "data": {
      "text/plain": [
       "upholstery_color\n",
       "Beige     25482.069061\n",
       "Black     23935.972555\n",
       "Blue      15717.826087\n",
       "Brown     35040.394619\n",
       "Green     69284.300000\n",
       "Grey      19579.287375\n",
       "Orange    23273.742857\n",
       "Other     23984.815418\n",
       "Red       20591.840708\n",
       "White     18065.078947\n",
       "Yellow    21020.000000\n",
       "Name: price, dtype: float64"
      ]
     },
     "execution_count": 473,
     "metadata": {},
     "output_type": "execute_result"
    }
   ],
   "source": [
    "df.groupby('upholstery_color')['price'].mean()"
   ]
  },
  {
   "cell_type": "code",
   "execution_count": 474,
   "id": "d555e910-b9c8-4c8c-b8d4-5d522e0c0870",
   "metadata": {},
   "outputs": [
    {
     "data": {
      "text/plain": [
       "upholstery\n",
       "Alcantara       35394.603905\n",
       "Cloth           17578.568486\n",
       "Full Leather    34262.107740\n",
       "Other           22610.321364\n",
       "Part Leather    25899.870117\n",
       "Velour          17715.096970\n",
       "Name: price, dtype: float64"
      ]
     },
     "execution_count": 474,
     "metadata": {},
     "output_type": "execute_result"
    }
   ],
   "source": [
    "df.groupby('upholstery')['price'].mean()"
   ]
  },
  {
   "cell_type": "code",
   "execution_count": 475,
   "id": "b9d4773d-4bb5-4acd-a19d-248032e3dccc",
   "metadata": {},
   "outputs": [
    {
     "data": {
      "text/plain": [
       "comfort_convenience\n",
       "Deluxe      41513.672671\n",
       "Premium     23661.028015\n",
       "Standard    15475.714540\n",
       "Name: price, dtype: float64"
      ]
     },
     "execution_count": 475,
     "metadata": {},
     "output_type": "execute_result"
    }
   ],
   "source": [
    "df.groupby('comfort_convenience')['price'].mean()"
   ]
  },
  {
   "cell_type": "code",
   "execution_count": 476,
   "id": "3f59bc70-dc9b-43e5-8d02-b25c8d022096",
   "metadata": {},
   "outputs": [
    {
     "data": {
      "text/plain": [
       "safety_security\n",
       "Deluxe      44793.222919\n",
       "Premium     25593.926053\n",
       "Standard    16208.288493\n",
       "Name: price, dtype: float64"
      ]
     },
     "execution_count": 476,
     "metadata": {},
     "output_type": "execute_result"
    }
   ],
   "source": [
    "df.groupby('safety_security')['price'].mean()"
   ]
  },
  {
   "cell_type": "code",
   "execution_count": 477,
   "id": "a7ea4ad2-dd74-45cb-8718-386adae43346",
   "metadata": {},
   "outputs": [
    {
     "data": {
      "text/plain": [
       "entertainment\n",
       "Deluxe      57863.441948\n",
       "Premium     30448.451067\n",
       "Standard    17368.944949\n",
       "Name: price, dtype: float64"
      ]
     },
     "execution_count": 477,
     "metadata": {},
     "output_type": "execute_result"
    }
   ],
   "source": [
    "df.groupby('entertainment')['price'].mean()"
   ]
  },
  {
   "cell_type": "code",
   "execution_count": 478,
   "id": "86bdea4b-e2db-44f6-9e66-72aeff0d1f73",
   "metadata": {},
   "outputs": [
    {
     "data": {
      "text/plain": [
       "extras\n",
       "Deluxe      42355.692308\n",
       "Premium     36830.782946\n",
       "Standard    21877.705785\n",
       "Name: price, dtype: float64"
      ]
     },
     "execution_count": 478,
     "metadata": {},
     "output_type": "execute_result"
    }
   ],
   "source": [
    "df.groupby('extras')['price'].mean()"
   ]
  },
  {
   "cell_type": "code",
   "execution_count": 479,
   "id": "b0573a84-c4ed-4e7f-864a-5860844d1bda",
   "metadata": {},
   "outputs": [
    {
     "data": {
      "text/plain": [
       "current_location\n",
       "AT    21249.054717\n",
       "BE    24144.977626\n",
       "BG    25500.000000\n",
       "DE    28144.713659\n",
       "ES    20891.705413\n",
       "FR    21319.349352\n",
       "IT    17341.858142\n",
       "LU    22568.322581\n",
       "NL    14368.233210\n",
       "Name: price, dtype: float64"
      ]
     },
     "execution_count": 479,
     "metadata": {},
     "output_type": "execute_result"
    }
   ],
   "source": [
    "df.groupby('current_location')['price'].mean()"
   ]
  },
  {
   "cell_type": "code",
   "execution_count": null,
   "id": "4f61c3d9-35da-43f0-9c94-ac8075145475",
   "metadata": {},
   "outputs": [],
   "source": []
  },
  {
   "cell_type": "code",
   "execution_count": 480,
   "id": "cbd86a13-3fd2-4266-a456-4c346a392155",
   "metadata": {},
   "outputs": [],
   "source": [
    "## Downsize Dataset"
   ]
  },
  {
   "cell_type": "code",
   "execution_count": 481,
   "id": "4a3a08fb-9f7e-46dc-9951-c84106f72d5e",
   "metadata": {},
   "outputs": [
    {
     "name": "stdout",
     "output_type": "stream",
     "text": [
      "<class 'pandas.core.frame.DataFrame'>\n",
      "Index: 23455 entries, 0 to 23465\n",
      "Data columns (total 35 columns):\n",
      " #   Column                Non-Null Count  Dtype  \n",
      "---  ------                --------------  -----  \n",
      " 0   index                 23455 non-null  int64  \n",
      " 1   make_model            23455 non-null  object \n",
      " 2   make                  23455 non-null  object \n",
      " 3   model                 23455 non-null  object \n",
      " 4   price                 23455 non-null  float64\n",
      " 5   body_type             23455 non-null  object \n",
      " 6   type                  23455 non-null  object \n",
      " 7   doors                 23455 non-null  float64\n",
      " 8   origin_country        23455 non-null  object \n",
      " 9   warranty              23455 non-null  object \n",
      " 10  mileage               23455 non-null  float64\n",
      " 11  first_registration    23455 non-null  float64\n",
      " 12  gearbox               23455 non-null  object \n",
      " 13  fuel_type             23455 non-null  object \n",
      " 14  color                 23455 non-null  object \n",
      " 15  paint                 23455 non-null  object \n",
      " 16  seller                23455 non-null  object \n",
      " 17  seats                 23455 non-null  float64\n",
      " 18  engine_size           23455 non-null  float64\n",
      " 19  gears                 23455 non-null  float64\n",
      " 20  drivetrain            23455 non-null  object \n",
      " 21  cylinders             23455 non-null  float64\n",
      " 22  empty_weight          23455 non-null  float64\n",
      " 23  full_service_history  23455 non-null  object \n",
      " 24  emission_class        23455 non-null  object \n",
      " 25  upholstery_color      23455 non-null  object \n",
      " 26  upholstery            23455 non-null  object \n",
      " 27  previous_owner        23455 non-null  float64\n",
      " 28  horse_power           23455 non-null  float64\n",
      " 29  fuel_consumption      23455 non-null  float64\n",
      " 30  comfort_convenience   23455 non-null  object \n",
      " 31  safety_security       23455 non-null  object \n",
      " 32  entertainment         23455 non-null  object \n",
      " 33  extras                23455 non-null  object \n",
      " 34  current_location      23455 non-null  object \n",
      "dtypes: float64(12), int64(1), object(22)\n",
      "memory usage: 6.4+ MB\n"
     ]
    }
   ],
   "source": [
    "df.info()"
   ]
  },
  {
   "cell_type": "code",
   "execution_count": 482,
   "id": "d93cc9b9-60c4-4e2e-b473-2a3833290cf9",
   "metadata": {},
   "outputs": [
    {
     "data": {
      "text/plain": [
       "index                -0.074421\n",
       "price                 1.000000\n",
       "doors                -0.002322\n",
       "mileage              -0.396970\n",
       "first_registration    0.378433\n",
       "seats                -0.027040\n",
       "engine_size           0.462161\n",
       "gears                 0.238624\n",
       "cylinders             0.431863\n",
       "empty_weight          0.582455\n",
       "previous_owner       -0.217288\n",
       "horse_power           0.642684\n",
       "fuel_consumption      0.272785\n",
       "Name: price, dtype: float64"
      ]
     },
     "execution_count": 482,
     "metadata": {},
     "output_type": "execute_result"
    }
   ],
   "source": [
    "df.corr(numeric_only=True).price"
   ]
  },
  {
   "cell_type": "code",
   "execution_count": 483,
   "id": "4b1cd2f3-a468-43c0-961f-d2f3c77e4645",
   "metadata": {},
   "outputs": [],
   "source": [
    "df.drop(['index', 'doors', 'seats', 'cylinders'], axis=1, inplace=True)"
   ]
  },
  {
   "cell_type": "code",
   "execution_count": 484,
   "id": "be3487a2-8e0e-4c59-bba6-c297118d61c9",
   "metadata": {},
   "outputs": [],
   "source": [
    "df.drop(['current_location', 'upholstery_color'], axis=1, inplace=True)"
   ]
  },
  {
   "cell_type": "code",
   "execution_count": 485,
   "id": "885b625e-9c1e-4cd8-be62-a7819cafa4d6",
   "metadata": {},
   "outputs": [
    {
     "data": {
      "text/plain": [
       "(23455, 29)"
      ]
     },
     "execution_count": 485,
     "metadata": {},
     "output_type": "execute_result"
    }
   ],
   "source": [
    "df.shape"
   ]
  },
  {
   "cell_type": "code",
   "execution_count": 486,
   "id": "c7d24f32-24f9-4686-aeaa-e44115d97c43",
   "metadata": {},
   "outputs": [
    {
     "data": {
      "text/plain": [
       "Index(['make_model', 'make', 'model', 'price', 'body_type', 'type',\n",
       "       'origin_country', 'warranty', 'mileage', 'first_registration',\n",
       "       'gearbox', 'fuel_type', 'color', 'paint', 'seller', 'engine_size',\n",
       "       'gears', 'drivetrain', 'empty_weight', 'full_service_history',\n",
       "       'emission_class', 'upholstery', 'previous_owner', 'horse_power',\n",
       "       'fuel_consumption', 'comfort_convenience', 'safety_security',\n",
       "       'entertainment', 'extras'],\n",
       "      dtype='object')"
      ]
     },
     "execution_count": 486,
     "metadata": {},
     "output_type": "execute_result"
    }
   ],
   "source": [
    "df.columns"
   ]
  },
  {
   "cell_type": "code",
   "execution_count": 487,
   "id": "823b0ab6-f472-42cc-ae29-c2f68794c457",
   "metadata": {},
   "outputs": [],
   "source": [
    "df.drop(['origin_country', 'paint',], axis=1, inplace=True)"
   ]
  },
  {
   "cell_type": "code",
   "execution_count": 488,
   "id": "6fa5794b-b8c8-46e0-b8be-2ba425758310",
   "metadata": {},
   "outputs": [],
   "source": [
    "df.drop(df[df.upholstery == 'Other'].index, axis=0, inplace=True)"
   ]
  },
  {
   "cell_type": "code",
   "execution_count": 489,
   "id": "5525c376-3a5c-42c1-ab85-da91e754f930",
   "metadata": {},
   "outputs": [
    {
     "data": {
      "text/plain": [
       "upholstery\n",
       "Alcantara       35394.603905\n",
       "Cloth           17578.568486\n",
       "Full Leather    34262.107740\n",
       "Part Leather    25899.870117\n",
       "Velour          17715.096970\n",
       "Name: price, dtype: float64"
      ]
     },
     "execution_count": 489,
     "metadata": {},
     "output_type": "execute_result"
    }
   ],
   "source": [
    "df.groupby('upholstery')['price'].mean()"
   ]
  },
  {
   "cell_type": "code",
   "execution_count": 490,
   "id": "e34d6340-f6f1-48f4-a460-1c77b8770ed2",
   "metadata": {},
   "outputs": [
    {
     "data": {
      "text/plain": [
       "make_model               object\n",
       "make                     object\n",
       "model                    object\n",
       "price                   float64\n",
       "body_type                object\n",
       "type                     object\n",
       "warranty                 object\n",
       "mileage                 float64\n",
       "first_registration      float64\n",
       "gearbox                  object\n",
       "fuel_type                object\n",
       "color                    object\n",
       "seller                   object\n",
       "engine_size             float64\n",
       "gears                   float64\n",
       "drivetrain               object\n",
       "empty_weight            float64\n",
       "full_service_history     object\n",
       "emission_class           object\n",
       "upholstery               object\n",
       "previous_owner          float64\n",
       "horse_power             float64\n",
       "fuel_consumption        float64\n",
       "comfort_convenience      object\n",
       "safety_security          object\n",
       "entertainment            object\n",
       "extras                   object\n",
       "dtype: object"
      ]
     },
     "execution_count": 490,
     "metadata": {},
     "output_type": "execute_result"
    }
   ],
   "source": [
    "df.dtypes"
   ]
  },
  {
   "cell_type": "code",
   "execution_count": 491,
   "id": "ed47e866-cebd-4453-8f51-a992245f7eac",
   "metadata": {},
   "outputs": [],
   "source": [
    "df['make_model'] = df.make + ' ' + df.model"
   ]
  },
  {
   "cell_type": "code",
   "execution_count": 492,
   "id": "0cd4589d-f5e4-4984-97ac-c682a9dbabab",
   "metadata": {},
   "outputs": [],
   "source": [
    "df.drop('model', axis=1, inplace=True)"
   ]
  },
  {
   "cell_type": "code",
   "execution_count": 493,
   "id": "bdd0bc36-0a57-4dc0-aa38-b7c09d73e50c",
   "metadata": {},
   "outputs": [
    {
     "data": {
      "text/html": [
       "<div>\n",
       "<style scoped>\n",
       "    .dataframe tbody tr th:only-of-type {\n",
       "        vertical-align: middle;\n",
       "    }\n",
       "\n",
       "    .dataframe tbody tr th {\n",
       "        vertical-align: top;\n",
       "    }\n",
       "\n",
       "    .dataframe thead th {\n",
       "        text-align: right;\n",
       "    }\n",
       "</style>\n",
       "<table border=\"1\" class=\"dataframe\">\n",
       "  <thead>\n",
       "    <tr style=\"text-align: right;\">\n",
       "      <th></th>\n",
       "      <th>make_model</th>\n",
       "      <th>make</th>\n",
       "      <th>price</th>\n",
       "      <th>body_type</th>\n",
       "      <th>type</th>\n",
       "      <th>warranty</th>\n",
       "      <th>mileage</th>\n",
       "      <th>first_registration</th>\n",
       "      <th>gearbox</th>\n",
       "      <th>fuel_type</th>\n",
       "      <th>color</th>\n",
       "      <th>seller</th>\n",
       "      <th>engine_size</th>\n",
       "      <th>gears</th>\n",
       "      <th>drivetrain</th>\n",
       "      <th>empty_weight</th>\n",
       "      <th>full_service_history</th>\n",
       "      <th>emission_class</th>\n",
       "      <th>upholstery</th>\n",
       "      <th>previous_owner</th>\n",
       "      <th>horse_power</th>\n",
       "      <th>fuel_consumption</th>\n",
       "      <th>comfort_convenience</th>\n",
       "      <th>safety_security</th>\n",
       "      <th>entertainment</th>\n",
       "      <th>extras</th>\n",
       "    </tr>\n",
       "  </thead>\n",
       "  <tbody>\n",
       "    <tr>\n",
       "      <th>13286</th>\n",
       "      <td>Skoda Superb</td>\n",
       "      <td>Skoda</td>\n",
       "      <td>35990.0</td>\n",
       "      <td>Sedan</td>\n",
       "      <td>Used</td>\n",
       "      <td>Yes</td>\n",
       "      <td>67649.0</td>\n",
       "      <td>2020.0</td>\n",
       "      <td>Manual</td>\n",
       "      <td>Benzine</td>\n",
       "      <td>Blue</td>\n",
       "      <td>Dealer</td>\n",
       "      <td>1.3</td>\n",
       "      <td>6.0</td>\n",
       "      <td>Front</td>\n",
       "      <td>1730.0</td>\n",
       "      <td>Yes</td>\n",
       "      <td>Euro 6</td>\n",
       "      <td>Cloth</td>\n",
       "      <td>1.0</td>\n",
       "      <td>122.0</td>\n",
       "      <td>1.4</td>\n",
       "      <td>Deluxe</td>\n",
       "      <td>Deluxe</td>\n",
       "      <td>Premium</td>\n",
       "      <td>Standard</td>\n",
       "    </tr>\n",
       "  </tbody>\n",
       "</table>\n",
       "</div>"
      ],
      "text/plain": [
       "         make_model   make    price body_type  type warranty  mileage  \\\n",
       "13286  Skoda Superb  Skoda  35990.0     Sedan  Used      Yes  67649.0   \n",
       "\n",
       "       first_registration gearbox fuel_type color  seller  engine_size  gears  \\\n",
       "13286              2020.0  Manual   Benzine  Blue  Dealer          1.3    6.0   \n",
       "\n",
       "      drivetrain  empty_weight full_service_history emission_class upholstery  \\\n",
       "13286      Front        1730.0                  Yes         Euro 6      Cloth   \n",
       "\n",
       "       previous_owner  horse_power  fuel_consumption comfort_convenience  \\\n",
       "13286             1.0        122.0               1.4              Deluxe   \n",
       "\n",
       "      safety_security entertainment    extras  \n",
       "13286          Deluxe       Premium  Standard  "
      ]
     },
     "execution_count": 493,
     "metadata": {},
     "output_type": "execute_result"
    }
   ],
   "source": [
    "df.sample()"
   ]
  },
  {
   "cell_type": "code",
   "execution_count": 494,
   "id": "63a7212b-0ab3-456f-adbb-c898538beac2",
   "metadata": {},
   "outputs": [
    {
     "data": {
      "text/plain": [
       "Index(['make_model', 'make', 'price', 'body_type', 'type', 'warranty',\n",
       "       'mileage', 'first_registration', 'gearbox', 'fuel_type', 'color',\n",
       "       'seller', 'engine_size', 'gears', 'drivetrain', 'empty_weight',\n",
       "       'full_service_history', 'emission_class', 'upholstery',\n",
       "       'previous_owner', 'horse_power', 'fuel_consumption',\n",
       "       'comfort_convenience', 'safety_security', 'entertainment', 'extras'],\n",
       "      dtype='object')"
      ]
     },
     "execution_count": 494,
     "metadata": {},
     "output_type": "execute_result"
    }
   ],
   "source": [
    "df.columns"
   ]
  },
  {
   "cell_type": "code",
   "execution_count": 495,
   "id": "24a500ed-99ff-4b6e-9002-878e5a184589",
   "metadata": {},
   "outputs": [],
   "source": [
    "df = df.reset_index(drop=True)"
   ]
  },
  {
   "cell_type": "code",
   "execution_count": 496,
   "id": "d4a185a6-6876-4f11-b902-a79c649f5b2f",
   "metadata": {},
   "outputs": [
    {
     "data": {
      "text/plain": [
       "RangeIndex(start=0, stop=22898, step=1)"
      ]
     },
     "execution_count": 496,
     "metadata": {},
     "output_type": "execute_result"
    }
   ],
   "source": [
    "df.index"
   ]
  },
  {
   "cell_type": "code",
   "execution_count": 497,
   "id": "04560f05-5425-4320-b1dd-d1e11f61a7eb",
   "metadata": {},
   "outputs": [],
   "source": [
    "df.to_csv('auto_scout_part4.csv', index=False)"
   ]
  },
  {
   "cell_type": "code",
   "execution_count": 498,
   "id": "8c6a853c-2cac-4d30-b8f7-351cf94e715d",
   "metadata": {},
   "outputs": [],
   "source": [
    "dfx = pd.read_csv('auto_scout_part4.csv')"
   ]
  },
  {
   "cell_type": "code",
   "execution_count": null,
   "id": "629fb306-8783-4dab-8002-dd2af1b8136d",
   "metadata": {},
   "outputs": [],
   "source": []
  },
  {
   "cell_type": "code",
   "execution_count": 563,
   "id": "a60267ea-4914-466b-8c67-ef0b1799542e",
   "metadata": {},
   "outputs": [],
   "source": [
    "## Dummy operations"
   ]
  },
  {
   "cell_type": "code",
   "execution_count": 565,
   "id": "92b01b57-b9f2-4f72-b64a-ea41eb64d022",
   "metadata": {},
   "outputs": [],
   "source": [
    "df['make_model'] = df.make_model.factorize()[0] + 1"
   ]
  },
  {
   "cell_type": "code",
   "execution_count": 569,
   "id": "764f4094-e111-466c-a4e4-8e03af01fff6",
   "metadata": {},
   "outputs": [
    {
     "data": {
      "text/plain": [
       "body_type\n",
       "Off-Road/Pick-up    4617\n",
       "Station wagon       4415\n",
       "Sedan               4333\n",
       "Compact             4120\n",
       "Coupe               2889\n",
       "Convertible         2524\n",
       "Name: count, dtype: int64"
      ]
     },
     "execution_count": 569,
     "metadata": {},
     "output_type": "execute_result"
    }
   ],
   "source": [
    "df.body_type.value_counts()"
   ]
  },
  {
   "cell_type": "code",
   "execution_count": 571,
   "id": "9ae60757-6a91-48d1-9864-f4987ea7ad2d",
   "metadata": {},
   "outputs": [],
   "source": [
    "df['body_type'] = df.body_type.map({'Off-Road/Pick-up': 2, 'Station wagon': 1, 'Sedan': 0, 'Compact': 3, 'Coupe': 4, 'Convertible': 5})"
   ]
  },
  {
   "cell_type": "code",
   "execution_count": 573,
   "id": "f84c4850-3862-4a35-a1f9-7a6546e252c3",
   "metadata": {},
   "outputs": [],
   "source": [
    "df['type'] = df.type.map({'Used': 0, 'Demonstration': 1, 'Pre-registered': 2, \"Employee's car\": 3})"
   ]
  },
  {
   "cell_type": "code",
   "execution_count": 575,
   "id": "9d822bf8-76cc-401b-aca3-a32f748ea779",
   "metadata": {},
   "outputs": [],
   "source": [
    "df['warranty'] = df.warranty.factorize()[0]"
   ]
  },
  {
   "cell_type": "code",
   "execution_count": 577,
   "id": "99888af6-966e-47e9-8de8-1f10bca53981",
   "metadata": {},
   "outputs": [],
   "source": [
    "df['gearbox'] = df.gearbox.map({'Manual': 0, 'Automatic': 1})"
   ]
  },
  {
   "cell_type": "code",
   "execution_count": 579,
   "id": "1b54feb5-c9f4-40c5-ade0-ff71b300ca88",
   "metadata": {},
   "outputs": [
    {
     "data": {
      "text/plain": [
       "fuel_type\n",
       "Benzine     14673\n",
       "Diesel       7087\n",
       "Hybrid        642\n",
       "Electric      297\n",
       "Lpg           199\n",
       "Name: count, dtype: int64"
      ]
     },
     "execution_count": 579,
     "metadata": {},
     "output_type": "execute_result"
    }
   ],
   "source": [
    "df.fuel_type.value_counts()"
   ]
  },
  {
   "cell_type": "code",
   "execution_count": 581,
   "id": "fa879695-e83c-4410-8ac9-8dce16978cde",
   "metadata": {},
   "outputs": [],
   "source": [
    "df['fuel_type'] = df.fuel_type.map({'Benzine': 0, 'Diesel': 1, 'Hybrid': 2, 'Electric': 3, 'Lpg': 4})"
   ]
  },
  {
   "cell_type": "code",
   "execution_count": 585,
   "id": "9192a19c-1a99-49a0-969c-27f09ec8ee09",
   "metadata": {},
   "outputs": [],
   "source": [
    "df['color'] = df.color.factorize()[0] + 1"
   ]
  },
  {
   "cell_type": "code",
   "execution_count": 587,
   "id": "273e512a-aaa5-455f-b1bd-f49f1f3b2e29",
   "metadata": {},
   "outputs": [],
   "source": [
    "df['seller'] = df.seller.map({'Dealer': 0, 'Private seller': 1})"
   ]
  },
  {
   "cell_type": "code",
   "execution_count": 589,
   "id": "2a3f2bc2-e8c7-4a81-84cb-f4ac22a5f3ea",
   "metadata": {},
   "outputs": [],
   "source": [
    "df.drop(df[df.gears == 4.0].index, axis=0, inplace=True)"
   ]
  },
  {
   "cell_type": "code",
   "execution_count": 591,
   "id": "82b8694b-846c-4bfa-b413-46d361e59ec6",
   "metadata": {},
   "outputs": [
    {
     "data": {
      "text/plain": [
       "gears\n",
       "6.0    12467\n",
       "5.0     5244\n",
       "8.0     2675\n",
       "7.0     1667\n",
       "1.0      759\n",
       "Name: count, dtype: int64"
      ]
     },
     "execution_count": 591,
     "metadata": {},
     "output_type": "execute_result"
    }
   ],
   "source": [
    "df.gears.value_counts()"
   ]
  },
  {
   "cell_type": "code",
   "execution_count": 593,
   "id": "dc290c60-e69c-4afb-b46d-34bc5c557668",
   "metadata": {},
   "outputs": [
    {
     "data": {
      "text/plain": [
       "(22812, 26)"
      ]
     },
     "execution_count": 593,
     "metadata": {},
     "output_type": "execute_result"
    }
   ],
   "source": [
    "df.shape"
   ]
  },
  {
   "cell_type": "code",
   "execution_count": 595,
   "id": "bf533952-c558-47ad-8277-c38752f1c238",
   "metadata": {},
   "outputs": [
    {
     "data": {
      "text/plain": [
       "drivetrain\n",
       "Front    18104\n",
       "4WD       3367\n",
       "Rear      1341\n",
       "Name: count, dtype: int64"
      ]
     },
     "execution_count": 595,
     "metadata": {},
     "output_type": "execute_result"
    }
   ],
   "source": [
    "df.drivetrain.value_counts()"
   ]
  },
  {
   "cell_type": "code",
   "execution_count": 597,
   "id": "1a48e5a7-7b0c-42dc-8674-63ee5119fdbf",
   "metadata": {},
   "outputs": [],
   "source": [
    "df['drivetrain'] = df.drivetrain.map({'Front': 0, '4WD': 1, 'Rear': 2})"
   ]
  },
  {
   "cell_type": "code",
   "execution_count": 599,
   "id": "d63275bf-e716-40d0-8988-35e6fb0b20c6",
   "metadata": {},
   "outputs": [],
   "source": [
    "df['full_service_history'] = df.full_service_history.map({'No': 0, 'Yes': 1})"
   ]
  },
  {
   "cell_type": "code",
   "execution_count": 601,
   "id": "f007a55b-d370-425f-891a-9fdd6dfaa1ae",
   "metadata": {},
   "outputs": [
    {
     "data": {
      "text/plain": [
       "emission_class\n",
       "Euro 6         11457\n",
       "Under Class     7140\n",
       "Euro 5          2184\n",
       "Euro 4          1447\n",
       "Euro 3           422\n",
       "Euro 2           122\n",
       "Euro 1            40\n",
       "Name: count, dtype: int64"
      ]
     },
     "execution_count": 601,
     "metadata": {},
     "output_type": "execute_result"
    }
   ],
   "source": [
    "df.emission_class.value_counts()"
   ]
  },
  {
   "cell_type": "code",
   "execution_count": 603,
   "id": "713afb9e-b4d8-40e8-b1e2-9de4a1b76d40",
   "metadata": {},
   "outputs": [],
   "source": [
    "df['emission_class'] = df.emission_class.map({\n",
    "    'Under Class': 6,\n",
    "    'Euro 1': 1,\n",
    "    'Euro 2': 2,\n",
    "    'Euro 3': 3,\n",
    "    'Euro 4': 4,\n",
    "    'Euro 5': 5,\n",
    "    'Euro 6': 0\n",
    "})"
   ]
  },
  {
   "cell_type": "code",
   "execution_count": 605,
   "id": "46886267-0fee-460d-9ce9-42d3ad06d5d0",
   "metadata": {},
   "outputs": [
    {
     "data": {
      "text/plain": [
       "upholstery\n",
       "Cloth           12727\n",
       "Full Leather     6070\n",
       "Part Leather     3138\n",
       "Alcantara         715\n",
       "Velour            162\n",
       "Name: count, dtype: int64"
      ]
     },
     "execution_count": 605,
     "metadata": {},
     "output_type": "execute_result"
    }
   ],
   "source": [
    "df.upholstery.value_counts()"
   ]
  },
  {
   "cell_type": "code",
   "execution_count": 607,
   "id": "e7e6e8b6-b066-4fa2-bd51-84f924552eb6",
   "metadata": {},
   "outputs": [],
   "source": [
    "df['upholstery'] = df.upholstery.map({\n",
    "    'Cloth': 0,\n",
    "    'Velour': 4,\n",
    "    'Part Leather': 2,\n",
    "    'Full Leather': 1,\n",
    "    'Alcantara': 3\n",
    "})"
   ]
  },
  {
   "cell_type": "code",
   "execution_count": 609,
   "id": "efbf7c70-8f33-4e2f-8aa5-e477dd440372",
   "metadata": {},
   "outputs": [],
   "source": [
    "df['comfort_convenience'] = df.comfort_convenience.map({'Standard': 0, 'Premium': 1, 'Deluxe': 2})"
   ]
  },
  {
   "cell_type": "code",
   "execution_count": 611,
   "id": "e21f257c-92c7-4acc-a9d5-b914aa975abf",
   "metadata": {},
   "outputs": [],
   "source": [
    "df['safety_security'] = df.safety_security.map({'Standard': 0, 'Premium': 1, 'Deluxe': 2})"
   ]
  },
  {
   "cell_type": "code",
   "execution_count": 613,
   "id": "c521f33d-fd8a-4d61-a314-37b3d847df72",
   "metadata": {},
   "outputs": [],
   "source": [
    "df['entertainment'] = df.entertainment.map({'Standard': 0, 'Premium': 1, 'Deluxe': 2})"
   ]
  },
  {
   "cell_type": "code",
   "execution_count": 615,
   "id": "bb7e1d7e-3c14-43a0-8f7b-fa1832a652f7",
   "metadata": {},
   "outputs": [],
   "source": [
    "df['extras'] = df.extras.map({'Standard': 0, 'Premium': 1, 'Deluxe': 2})"
   ]
  },
  {
   "cell_type": "code",
   "execution_count": 617,
   "id": "665b4bc7-a75c-4e1d-b749-03a3e331507e",
   "metadata": {},
   "outputs": [
    {
     "data": {
      "text/plain": [
       "(22812, 26)"
      ]
     },
     "execution_count": 617,
     "metadata": {},
     "output_type": "execute_result"
    }
   ],
   "source": [
    "df.shape"
   ]
  },
  {
   "cell_type": "code",
   "execution_count": 619,
   "id": "6fa45337-b72f-4ba5-a860-6eb4a02e5dcc",
   "metadata": {},
   "outputs": [
    {
     "data": {
      "text/plain": [
       "make_model                int64\n",
       "make                     object\n",
       "price                   float64\n",
       "body_type                 int64\n",
       "type                      int64\n",
       "warranty                  int64\n",
       "mileage                 float64\n",
       "first_registration      float64\n",
       "gearbox                   int64\n",
       "fuel_type                 int64\n",
       "color                     int64\n",
       "seller                    int64\n",
       "engine_size             float64\n",
       "gears                   float64\n",
       "drivetrain                int64\n",
       "empty_weight            float64\n",
       "full_service_history      int64\n",
       "emission_class            int64\n",
       "upholstery                int64\n",
       "previous_owner          float64\n",
       "horse_power             float64\n",
       "fuel_consumption        float64\n",
       "comfort_convenience       int64\n",
       "safety_security           int64\n",
       "entertainment             int64\n",
       "extras                    int64\n",
       "dtype: object"
      ]
     },
     "execution_count": 619,
     "metadata": {},
     "output_type": "execute_result"
    }
   ],
   "source": [
    "df.dtypes"
   ]
  },
  {
   "cell_type": "code",
   "execution_count": 627,
   "id": "1c90657b-3f03-4f0c-8610-8d2532224ddb",
   "metadata": {},
   "outputs": [],
   "source": [
    "df[pd.get_dummies(df.make, dtype='float').columns] = pd.get_dummies(df.make, dtype='float')"
   ]
  },
  {
   "cell_type": "code",
   "execution_count": 631,
   "id": "eb6b3a79-a00e-4255-a43d-81087725d1ae",
   "metadata": {},
   "outputs": [],
   "source": [
    "df.drop('make', axis=1, inplace=True)"
   ]
  },
  {
   "cell_type": "code",
   "execution_count": 633,
   "id": "e92f10b7-88d0-461a-afc8-09d96e287c66",
   "metadata": {},
   "outputs": [
    {
     "data": {
      "text/html": [
       "<div>\n",
       "<style scoped>\n",
       "    .dataframe tbody tr th:only-of-type {\n",
       "        vertical-align: middle;\n",
       "    }\n",
       "\n",
       "    .dataframe tbody tr th {\n",
       "        vertical-align: top;\n",
       "    }\n",
       "\n",
       "    .dataframe thead th {\n",
       "        text-align: right;\n",
       "    }\n",
       "</style>\n",
       "<table border=\"1\" class=\"dataframe\">\n",
       "  <thead>\n",
       "    <tr style=\"text-align: right;\">\n",
       "      <th></th>\n",
       "      <th>make_model</th>\n",
       "      <th>price</th>\n",
       "      <th>body_type</th>\n",
       "      <th>type</th>\n",
       "      <th>warranty</th>\n",
       "      <th>mileage</th>\n",
       "      <th>first_registration</th>\n",
       "      <th>gearbox</th>\n",
       "      <th>fuel_type</th>\n",
       "      <th>color</th>\n",
       "      <th>seller</th>\n",
       "      <th>engine_size</th>\n",
       "      <th>gears</th>\n",
       "      <th>drivetrain</th>\n",
       "      <th>empty_weight</th>\n",
       "      <th>full_service_history</th>\n",
       "      <th>emission_class</th>\n",
       "      <th>upholstery</th>\n",
       "      <th>previous_owner</th>\n",
       "      <th>horse_power</th>\n",
       "      <th>fuel_consumption</th>\n",
       "      <th>comfort_convenience</th>\n",
       "      <th>safety_security</th>\n",
       "      <th>entertainment</th>\n",
       "      <th>extras</th>\n",
       "      <th>Dacia</th>\n",
       "      <th>Fiat</th>\n",
       "      <th>Ford</th>\n",
       "      <th>Hyundai</th>\n",
       "      <th>Mercedes-Benz</th>\n",
       "      <th>Nissan</th>\n",
       "      <th>Opel</th>\n",
       "      <th>Peugeot</th>\n",
       "      <th>Renault</th>\n",
       "      <th>SEAT</th>\n",
       "      <th>Skoda</th>\n",
       "      <th>Toyota</th>\n",
       "      <th>Volvo</th>\n",
       "    </tr>\n",
       "  </thead>\n",
       "  <tbody>\n",
       "    <tr>\n",
       "      <th>3311</th>\n",
       "      <td>207</td>\n",
       "      <td>33900.0</td>\n",
       "      <td>2</td>\n",
       "      <td>1</td>\n",
       "      <td>1</td>\n",
       "      <td>2050.0</td>\n",
       "      <td>2020.0</td>\n",
       "      <td>0</td>\n",
       "      <td>0</td>\n",
       "      <td>4</td>\n",
       "      <td>0</td>\n",
       "      <td>1.5</td>\n",
       "      <td>8.0</td>\n",
       "      <td>1</td>\n",
       "      <td>1875.0</td>\n",
       "      <td>1</td>\n",
       "      <td>0</td>\n",
       "      <td>0</td>\n",
       "      <td>1.0</td>\n",
       "      <td>230.0</td>\n",
       "      <td>1.5</td>\n",
       "      <td>1</td>\n",
       "      <td>1</td>\n",
       "      <td>1</td>\n",
       "      <td>0</td>\n",
       "      <td>0.0</td>\n",
       "      <td>0.0</td>\n",
       "      <td>0.0</td>\n",
       "      <td>0.0</td>\n",
       "      <td>0.0</td>\n",
       "      <td>0.0</td>\n",
       "      <td>1.0</td>\n",
       "      <td>0.0</td>\n",
       "      <td>0.0</td>\n",
       "      <td>0.0</td>\n",
       "      <td>0.0</td>\n",
       "      <td>0.0</td>\n",
       "      <td>0.0</td>\n",
       "    </tr>\n",
       "  </tbody>\n",
       "</table>\n",
       "</div>"
      ],
      "text/plain": [
       "      make_model    price  body_type  type  warranty  mileage  \\\n",
       "3311         207  33900.0          2     1         1   2050.0   \n",
       "\n",
       "      first_registration  gearbox  fuel_type  color  seller  engine_size  \\\n",
       "3311              2020.0        0          0      4       0          1.5   \n",
       "\n",
       "      gears  drivetrain  empty_weight  full_service_history  emission_class  \\\n",
       "3311    8.0           1        1875.0                     1               0   \n",
       "\n",
       "      upholstery  previous_owner  horse_power  fuel_consumption  \\\n",
       "3311           0             1.0        230.0               1.5   \n",
       "\n",
       "      comfort_convenience  safety_security  entertainment  extras  Dacia  \\\n",
       "3311                    1                1              1       0    0.0   \n",
       "\n",
       "      Fiat  Ford  Hyundai  Mercedes-Benz  Nissan  Opel  Peugeot  Renault  \\\n",
       "3311   0.0   0.0      0.0            0.0     0.0   1.0      0.0      0.0   \n",
       "\n",
       "      SEAT  Skoda  Toyota  Volvo  \n",
       "3311   0.0    0.0     0.0    0.0  "
      ]
     },
     "execution_count": 633,
     "metadata": {},
     "output_type": "execute_result"
    }
   ],
   "source": [
    "df.sample()"
   ]
  },
  {
   "cell_type": "code",
   "execution_count": 635,
   "id": "b9cc7857-7177-4434-b584-9bc4da694719",
   "metadata": {},
   "outputs": [],
   "source": [
    "df = df.astype('float')"
   ]
  },
  {
   "cell_type": "code",
   "execution_count": 637,
   "id": "8a52405c-784a-49a1-8144-20be81f711e8",
   "metadata": {},
   "outputs": [
    {
     "name": "stdout",
     "output_type": "stream",
     "text": [
      "<class 'pandas.core.frame.DataFrame'>\n",
      "Index: 22812 entries, 0 to 22897\n",
      "Data columns (total 38 columns):\n",
      " #   Column                Non-Null Count  Dtype  \n",
      "---  ------                --------------  -----  \n",
      " 0   make_model            22812 non-null  float64\n",
      " 1   price                 22812 non-null  float64\n",
      " 2   body_type             22812 non-null  float64\n",
      " 3   type                  22812 non-null  float64\n",
      " 4   warranty              22812 non-null  float64\n",
      " 5   mileage               22812 non-null  float64\n",
      " 6   first_registration    22812 non-null  float64\n",
      " 7   gearbox               22812 non-null  float64\n",
      " 8   fuel_type             22812 non-null  float64\n",
      " 9   color                 22812 non-null  float64\n",
      " 10  seller                22812 non-null  float64\n",
      " 11  engine_size           22812 non-null  float64\n",
      " 12  gears                 22812 non-null  float64\n",
      " 13  drivetrain            22812 non-null  float64\n",
      " 14  empty_weight          22812 non-null  float64\n",
      " 15  full_service_history  22812 non-null  float64\n",
      " 16  emission_class        22812 non-null  float64\n",
      " 17  upholstery            22812 non-null  float64\n",
      " 18  previous_owner        22812 non-null  float64\n",
      " 19  horse_power           22812 non-null  float64\n",
      " 20  fuel_consumption      22812 non-null  float64\n",
      " 21  comfort_convenience   22812 non-null  float64\n",
      " 22  safety_security       22812 non-null  float64\n",
      " 23  entertainment         22812 non-null  float64\n",
      " 24  extras                22812 non-null  float64\n",
      " 25  Dacia                 22812 non-null  float64\n",
      " 26  Fiat                  22812 non-null  float64\n",
      " 27  Ford                  22812 non-null  float64\n",
      " 28  Hyundai               22812 non-null  float64\n",
      " 29  Mercedes-Benz         22812 non-null  float64\n",
      " 30  Nissan                22812 non-null  float64\n",
      " 31  Opel                  22812 non-null  float64\n",
      " 32  Peugeot               22812 non-null  float64\n",
      " 33  Renault               22812 non-null  float64\n",
      " 34  SEAT                  22812 non-null  float64\n",
      " 35  Skoda                 22812 non-null  float64\n",
      " 36  Toyota                22812 non-null  float64\n",
      " 37  Volvo                 22812 non-null  float64\n",
      "dtypes: float64(38)\n",
      "memory usage: 6.8 MB\n"
     ]
    }
   ],
   "source": [
    "df.info()"
   ]
  },
  {
   "cell_type": "code",
   "execution_count": 641,
   "id": "ae54f076-2688-4927-aa18-6f4e16590016",
   "metadata": {},
   "outputs": [
    {
     "data": {
      "text/plain": [
       "make_model             -0.164978\n",
       "price                   1.000000\n",
       "body_type              -0.015360\n",
       "type                    0.207731\n",
       "warranty                0.083429\n",
       "mileage                -0.396836\n",
       "first_registration      0.377660\n",
       "gearbox                 0.324500\n",
       "fuel_type              -0.011603\n",
       "color                  -0.074384\n",
       "seller                 -0.115549\n",
       "engine_size             0.463492\n",
       "gears                   0.239930\n",
       "drivetrain              0.391300\n",
       "empty_weight            0.581780\n",
       "full_service_history    0.134816\n",
       "emission_class         -0.213923\n",
       "upholstery              0.224692\n",
       "previous_owner         -0.217046\n",
       "horse_power             0.642935\n",
       "fuel_consumption        0.275761\n",
       "comfort_convenience     0.397864\n",
       "safety_security         0.355846\n",
       "entertainment           0.363108\n",
       "extras                  0.220328\n",
       "Dacia                  -0.101309\n",
       "Fiat                   -0.103428\n",
       "Ford                    0.087652\n",
       "Hyundai                -0.050131\n",
       "Mercedes-Benz           0.430213\n",
       "Nissan                 -0.013627\n",
       "Opel                   -0.091542\n",
       "Peugeot                -0.105204\n",
       "Renault                -0.096698\n",
       "SEAT                   -0.055925\n",
       "Skoda                   0.001324\n",
       "Toyota                 -0.010765\n",
       "Volvo                   0.052435\n",
       "Name: price, dtype: float64"
      ]
     },
     "execution_count": 641,
     "metadata": {},
     "output_type": "execute_result"
    }
   ],
   "source": [
    "df.corr().price"
   ]
  },
  {
   "cell_type": "code",
   "execution_count": 647,
   "id": "7582fbba-dd41-44b9-a88d-3e01db81612d",
   "metadata": {},
   "outputs": [],
   "source": [
    "df.to_csv('auto_scout_final.csv', index=False)"
   ]
  },
  {
   "cell_type": "code",
   "execution_count": null,
   "id": "f9994db6-c07d-4b81-8c23-19295e010bf2",
   "metadata": {},
   "outputs": [],
   "source": []
  }
 ],
 "metadata": {
  "kernelspec": {
   "display_name": "Python 3 (ipykernel)",
   "language": "python",
   "name": "python3"
  },
  "language_info": {
   "codemirror_mode": {
    "name": "ipython",
    "version": 3
   },
   "file_extension": ".py",
   "mimetype": "text/x-python",
   "name": "python",
   "nbconvert_exporter": "python",
   "pygments_lexer": "ipython3",
   "version": "3.12.4"
  }
 },
 "nbformat": 4,
 "nbformat_minor": 5
}
