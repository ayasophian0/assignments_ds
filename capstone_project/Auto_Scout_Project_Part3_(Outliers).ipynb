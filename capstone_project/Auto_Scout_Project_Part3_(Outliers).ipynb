{
 "cells": [
  {
   "cell_type": "code",
   "execution_count": 1,
   "id": "3262b0c8-0124-416b-83d8-2f2dc73d6654",
   "metadata": {},
   "outputs": [],
   "source": [
    "import pandas as pd\n",
    "import numpy as np\n",
    "import re\n",
    "import seaborn as sns\n",
    "import matplotlib.pyplot as plt\n",
    "\n",
    "import warnings \n",
    "warnings.filterwarnings('ignore')\n",
    "\n",
    "sns.set_style(\"darkgrid\")\n",
    "pd.set_option('display.max_columns', 100)\n",
    "pd.set_option('display.max_rows', 1000)"
   ]
  },
  {
   "cell_type": "code",
   "execution_count": 2,
   "id": "c54414d0-4d88-4846-b5a8-db15dbac4289",
   "metadata": {},
   "outputs": [],
   "source": [
    "df0 = pd.read_csv(\"auto_scout_part2.csv\")\n",
    "df = df0.copy()"
   ]
  },
  {
   "cell_type": "code",
   "execution_count": 3,
   "id": "854973f7-13b2-43e8-a613-4b1fb264a4c2",
   "metadata": {},
   "outputs": [
    {
     "data": {
      "text/html": [
       "<div>\n",
       "<style scoped>\n",
       "    .dataframe tbody tr th:only-of-type {\n",
       "        vertical-align: middle;\n",
       "    }\n",
       "\n",
       "    .dataframe tbody tr th {\n",
       "        vertical-align: top;\n",
       "    }\n",
       "\n",
       "    .dataframe thead th {\n",
       "        text-align: right;\n",
       "    }\n",
       "</style>\n",
       "<table border=\"1\" class=\"dataframe\">\n",
       "  <thead>\n",
       "    <tr style=\"text-align: right;\">\n",
       "      <th></th>\n",
       "      <th>make_model</th>\n",
       "      <th>make</th>\n",
       "      <th>model</th>\n",
       "      <th>price</th>\n",
       "      <th>body_type</th>\n",
       "      <th>type</th>\n",
       "      <th>doors</th>\n",
       "      <th>origin_country</th>\n",
       "      <th>warranty</th>\n",
       "      <th>mileage</th>\n",
       "      <th>first_registration</th>\n",
       "      <th>gearbox</th>\n",
       "      <th>fuel_type</th>\n",
       "      <th>color</th>\n",
       "      <th>paint</th>\n",
       "      <th>seller</th>\n",
       "      <th>seats</th>\n",
       "      <th>engine_size</th>\n",
       "      <th>gears</th>\n",
       "      <th>drivetrain</th>\n",
       "      <th>cylinders</th>\n",
       "      <th>empty_weight</th>\n",
       "      <th>full_service_history</th>\n",
       "      <th>emission_class</th>\n",
       "      <th>upholstery_color</th>\n",
       "      <th>upholstery</th>\n",
       "      <th>previous_owner</th>\n",
       "      <th>horse_power</th>\n",
       "      <th>fuel_consumption</th>\n",
       "      <th>comfort_convenience</th>\n",
       "      <th>safety_security</th>\n",
       "      <th>entertainment</th>\n",
       "      <th>extras</th>\n",
       "      <th>current_location</th>\n",
       "    </tr>\n",
       "  </thead>\n",
       "  <tbody>\n",
       "    <tr>\n",
       "      <th>0</th>\n",
       "      <td>Mercedes-Benz A 160</td>\n",
       "      <td>Mercedes-Benz</td>\n",
       "      <td>A 160</td>\n",
       "      <td>16950.0</td>\n",
       "      <td>Compact</td>\n",
       "      <td>Used</td>\n",
       "      <td>5.0</td>\n",
       "      <td>Spain</td>\n",
       "      <td>No</td>\n",
       "      <td>120200.0</td>\n",
       "      <td>2016.0</td>\n",
       "      <td>Automatic</td>\n",
       "      <td>Diesel</td>\n",
       "      <td>Black</td>\n",
       "      <td>Metallic</td>\n",
       "      <td>Dealer</td>\n",
       "      <td>5.0</td>\n",
       "      <td>1.4</td>\n",
       "      <td>6.0</td>\n",
       "      <td>Front</td>\n",
       "      <td>4.0</td>\n",
       "      <td>1270.625000</td>\n",
       "      <td>No</td>\n",
       "      <td>Under Class</td>\n",
       "      <td>Black</td>\n",
       "      <td>Part Leather</td>\n",
       "      <td>1.0</td>\n",
       "      <td>122.0</td>\n",
       "      <td>3.800000</td>\n",
       "      <td>Deluxe</td>\n",
       "      <td>Premium</td>\n",
       "      <td>Standard</td>\n",
       "      <td>Standard</td>\n",
       "      <td>ES</td>\n",
       "    </tr>\n",
       "    <tr>\n",
       "      <th>1</th>\n",
       "      <td>Mercedes-Benz EQE 350</td>\n",
       "      <td>Mercedes-Benz</td>\n",
       "      <td>EQE 350</td>\n",
       "      <td>80900.0</td>\n",
       "      <td>Compact</td>\n",
       "      <td>Pre-registered</td>\n",
       "      <td>4.0</td>\n",
       "      <td>Spain</td>\n",
       "      <td>No</td>\n",
       "      <td>5000.0</td>\n",
       "      <td>2022.0</td>\n",
       "      <td>Automatic</td>\n",
       "      <td>Electric</td>\n",
       "      <td>Grey</td>\n",
       "      <td>Uni/basic</td>\n",
       "      <td>Dealer</td>\n",
       "      <td>5.0</td>\n",
       "      <td>0.0</td>\n",
       "      <td>9.0</td>\n",
       "      <td>Front</td>\n",
       "      <td>1.0</td>\n",
       "      <td>1676.379136</td>\n",
       "      <td>No</td>\n",
       "      <td>Under Class</td>\n",
       "      <td>Black</td>\n",
       "      <td>Part Leather</td>\n",
       "      <td>1.0</td>\n",
       "      <td>109.0</td>\n",
       "      <td>4.142905</td>\n",
       "      <td>Deluxe</td>\n",
       "      <td>Premium</td>\n",
       "      <td>Premium</td>\n",
       "      <td>Standard</td>\n",
       "      <td>ES</td>\n",
       "    </tr>\n",
       "    <tr>\n",
       "      <th>2</th>\n",
       "      <td>Mercedes-Benz A 45 AMG</td>\n",
       "      <td>Mercedes-Benz</td>\n",
       "      <td>A 45 AMG</td>\n",
       "      <td>69900.0</td>\n",
       "      <td>Compact</td>\n",
       "      <td>Used</td>\n",
       "      <td>5.0</td>\n",
       "      <td>Spain</td>\n",
       "      <td>No</td>\n",
       "      <td>18900.0</td>\n",
       "      <td>2020.0</td>\n",
       "      <td>Automatic</td>\n",
       "      <td>Benzine</td>\n",
       "      <td>Grey</td>\n",
       "      <td>Uni/basic</td>\n",
       "      <td>Dealer</td>\n",
       "      <td>5.0</td>\n",
       "      <td>1.9</td>\n",
       "      <td>8.0</td>\n",
       "      <td>4WD</td>\n",
       "      <td>4.0</td>\n",
       "      <td>1528.611111</td>\n",
       "      <td>No</td>\n",
       "      <td>Under Class</td>\n",
       "      <td>Black</td>\n",
       "      <td>Part Leather</td>\n",
       "      <td>1.0</td>\n",
       "      <td>230.0</td>\n",
       "      <td>8.400000</td>\n",
       "      <td>Deluxe</td>\n",
       "      <td>Premium</td>\n",
       "      <td>Premium</td>\n",
       "      <td>Standard</td>\n",
       "      <td>ES</td>\n",
       "    </tr>\n",
       "    <tr>\n",
       "      <th>3</th>\n",
       "      <td>Mercedes-Benz A 35 AMG</td>\n",
       "      <td>Mercedes-Benz</td>\n",
       "      <td>A 35 AMG</td>\n",
       "      <td>46990.0</td>\n",
       "      <td>Compact</td>\n",
       "      <td>Used</td>\n",
       "      <td>5.0</td>\n",
       "      <td>Spain</td>\n",
       "      <td>No</td>\n",
       "      <td>18995.0</td>\n",
       "      <td>2020.0</td>\n",
       "      <td>Automatic</td>\n",
       "      <td>Benzine</td>\n",
       "      <td>Yellow</td>\n",
       "      <td>Uni/basic</td>\n",
       "      <td>Dealer</td>\n",
       "      <td>5.0</td>\n",
       "      <td>1.9</td>\n",
       "      <td>7.0</td>\n",
       "      <td>4WD</td>\n",
       "      <td>4.0</td>\n",
       "      <td>1460.000000</td>\n",
       "      <td>No</td>\n",
       "      <td>Under Class</td>\n",
       "      <td>Black</td>\n",
       "      <td>Part Leather</td>\n",
       "      <td>1.0</td>\n",
       "      <td>230.0</td>\n",
       "      <td>7.300000</td>\n",
       "      <td>Standard</td>\n",
       "      <td>Standard</td>\n",
       "      <td>Standard</td>\n",
       "      <td>Standard</td>\n",
       "      <td>ES</td>\n",
       "    </tr>\n",
       "    <tr>\n",
       "      <th>4</th>\n",
       "      <td>Mercedes-Benz A 45 AMG</td>\n",
       "      <td>Mercedes-Benz</td>\n",
       "      <td>A 45 AMG</td>\n",
       "      <td>16800.0</td>\n",
       "      <td>Compact</td>\n",
       "      <td>Used</td>\n",
       "      <td>5.0</td>\n",
       "      <td>Spain</td>\n",
       "      <td>No</td>\n",
       "      <td>197000.0</td>\n",
       "      <td>2015.0</td>\n",
       "      <td>Automatic</td>\n",
       "      <td>Diesel</td>\n",
       "      <td>White</td>\n",
       "      <td>Metallic</td>\n",
       "      <td>Dealer</td>\n",
       "      <td>5.0</td>\n",
       "      <td>2.1</td>\n",
       "      <td>7.0</td>\n",
       "      <td>4WD</td>\n",
       "      <td>4.0</td>\n",
       "      <td>1545.000000</td>\n",
       "      <td>No</td>\n",
       "      <td>Under Class</td>\n",
       "      <td>Black</td>\n",
       "      <td>Part Leather</td>\n",
       "      <td>2.0</td>\n",
       "      <td>230.0</td>\n",
       "      <td>4.900000</td>\n",
       "      <td>Standard</td>\n",
       "      <td>Standard</td>\n",
       "      <td>Standard</td>\n",
       "      <td>Standard</td>\n",
       "      <td>ES</td>\n",
       "    </tr>\n",
       "  </tbody>\n",
       "</table>\n",
       "</div>"
      ],
      "text/plain": [
       "               make_model           make     model    price body_type  \\\n",
       "0     Mercedes-Benz A 160  Mercedes-Benz     A 160  16950.0   Compact   \n",
       "1   Mercedes-Benz EQE 350  Mercedes-Benz   EQE 350  80900.0   Compact   \n",
       "2  Mercedes-Benz A 45 AMG  Mercedes-Benz  A 45 AMG  69900.0   Compact   \n",
       "3  Mercedes-Benz A 35 AMG  Mercedes-Benz  A 35 AMG  46990.0   Compact   \n",
       "4  Mercedes-Benz A 45 AMG  Mercedes-Benz  A 45 AMG  16800.0   Compact   \n",
       "\n",
       "             type  doors origin_country warranty   mileage  \\\n",
       "0            Used    5.0          Spain       No  120200.0   \n",
       "1  Pre-registered    4.0          Spain       No    5000.0   \n",
       "2            Used    5.0          Spain       No   18900.0   \n",
       "3            Used    5.0          Spain       No   18995.0   \n",
       "4            Used    5.0          Spain       No  197000.0   \n",
       "\n",
       "   first_registration    gearbox fuel_type   color      paint  seller  seats  \\\n",
       "0              2016.0  Automatic    Diesel   Black   Metallic  Dealer    5.0   \n",
       "1              2022.0  Automatic  Electric    Grey  Uni/basic  Dealer    5.0   \n",
       "2              2020.0  Automatic   Benzine    Grey  Uni/basic  Dealer    5.0   \n",
       "3              2020.0  Automatic   Benzine  Yellow  Uni/basic  Dealer    5.0   \n",
       "4              2015.0  Automatic    Diesel   White   Metallic  Dealer    5.0   \n",
       "\n",
       "   engine_size  gears drivetrain  cylinders  empty_weight  \\\n",
       "0          1.4    6.0      Front        4.0   1270.625000   \n",
       "1          0.0    9.0      Front        1.0   1676.379136   \n",
       "2          1.9    8.0        4WD        4.0   1528.611111   \n",
       "3          1.9    7.0        4WD        4.0   1460.000000   \n",
       "4          2.1    7.0        4WD        4.0   1545.000000   \n",
       "\n",
       "  full_service_history emission_class upholstery_color    upholstery  \\\n",
       "0                   No    Under Class            Black  Part Leather   \n",
       "1                   No    Under Class            Black  Part Leather   \n",
       "2                   No    Under Class            Black  Part Leather   \n",
       "3                   No    Under Class            Black  Part Leather   \n",
       "4                   No    Under Class            Black  Part Leather   \n",
       "\n",
       "   previous_owner  horse_power  fuel_consumption comfort_convenience  \\\n",
       "0             1.0        122.0          3.800000              Deluxe   \n",
       "1             1.0        109.0          4.142905              Deluxe   \n",
       "2             1.0        230.0          8.400000              Deluxe   \n",
       "3             1.0        230.0          7.300000            Standard   \n",
       "4             2.0        230.0          4.900000            Standard   \n",
       "\n",
       "  safety_security entertainment    extras current_location  \n",
       "0         Premium      Standard  Standard               ES  \n",
       "1         Premium       Premium  Standard               ES  \n",
       "2         Premium       Premium  Standard               ES  \n",
       "3        Standard      Standard  Standard               ES  \n",
       "4        Standard      Standard  Standard               ES  "
      ]
     },
     "execution_count": 3,
     "metadata": {},
     "output_type": "execute_result"
    }
   ],
   "source": [
    "df.head()"
   ]
  },
  {
   "cell_type": "code",
   "execution_count": 4,
   "id": "99d32aef-b2a2-4ae5-baa5-cc14d2d9ecd6",
   "metadata": {},
   "outputs": [
    {
     "data": {
      "text/plain": [
       "(28630, 34)"
      ]
     },
     "execution_count": 4,
     "metadata": {},
     "output_type": "execute_result"
    }
   ],
   "source": [
    "df.shape"
   ]
  },
  {
   "cell_type": "code",
   "execution_count": 5,
   "id": "cba3d1d2-75ad-41f6-97c7-1b8763297472",
   "metadata": {},
   "outputs": [
    {
     "data": {
      "text/plain": [
       "make_model              0\n",
       "make                    0\n",
       "model                   0\n",
       "price                   0\n",
       "body_type               0\n",
       "type                    0\n",
       "doors                   0\n",
       "origin_country          0\n",
       "warranty                0\n",
       "mileage                 0\n",
       "first_registration      0\n",
       "gearbox                 0\n",
       "fuel_type               0\n",
       "color                   0\n",
       "paint                   0\n",
       "seller                  0\n",
       "seats                   0\n",
       "engine_size             0\n",
       "gears                   0\n",
       "drivetrain              0\n",
       "cylinders               0\n",
       "empty_weight            0\n",
       "full_service_history    0\n",
       "emission_class          0\n",
       "upholstery_color        0\n",
       "upholstery              0\n",
       "previous_owner          0\n",
       "horse_power             0\n",
       "fuel_consumption        0\n",
       "comfort_convenience     0\n",
       "safety_security         0\n",
       "entertainment           0\n",
       "extras                  0\n",
       "current_location        0\n",
       "dtype: int64"
      ]
     },
     "execution_count": 5,
     "metadata": {},
     "output_type": "execute_result"
    }
   ],
   "source": [
    "df.isnull().sum()"
   ]
  },
  {
   "cell_type": "code",
   "execution_count": 6,
   "id": "9ed0c590-29b4-450a-9110-9d3417fd3c2b",
   "metadata": {},
   "outputs": [
    {
     "data": {
      "text/plain": [
       "RangeIndex(start=0, stop=28630, step=1)"
      ]
     },
     "execution_count": 6,
     "metadata": {},
     "output_type": "execute_result"
    }
   ],
   "source": [
    "df.index"
   ]
  },
  {
   "cell_type": "code",
   "execution_count": 7,
   "id": "e46b53f6-fd25-4200-8d8c-72eab9f33507",
   "metadata": {},
   "outputs": [],
   "source": [
    "# Handle outliers in 'price' column"
   ]
  },
  {
   "cell_type": "code",
   "execution_count": 8,
   "id": "4ae32e3a-007e-403a-8524-36877a55e948",
   "metadata": {},
   "outputs": [
    {
     "data": {
      "text/plain": [
       "count    2.863000e+04\n",
       "mean     2.355520e+04\n",
       "std      2.595371e+04\n",
       "min      4.900000e+02\n",
       "25%      1.199000e+04\n",
       "50%      1.798000e+04\n",
       "75%      2.799000e+04\n",
       "max      1.346900e+06\n",
       "Name: price, dtype: float64"
      ]
     },
     "execution_count": 8,
     "metadata": {},
     "output_type": "execute_result"
    }
   ],
   "source": [
    "df.price.describe()"
   ]
  },
  {
   "cell_type": "code",
   "execution_count": 9,
   "id": "0ea0c7ea-367a-466b-88d0-dfee8fb3feec",
   "metadata": {},
   "outputs": [],
   "source": [
    "def distribution_plot(col):\n",
    "    fig, ax = plt.subplots(1, 2, figsize=(12, 5))\n",
    "    sns.histplot(data=df, x=col, ax=ax[0], bins=100)\n",
    "    sns.boxplot(data=df, x=col, ax=ax[1])\n",
    "    plt.show()"
   ]
  },
  {
   "cell_type": "code",
   "execution_count": 10,
   "id": "fe58651e-7268-4acd-8fc0-e90411a25122",
   "metadata": {},
   "outputs": [
    {
     "data": {
      "image/png": "[encoded data removed]",
      "text/plain": [
       "<Figure size 1200x500 with 2 Axes>"
      ]
     },
     "metadata": {},
     "output_type": "display_data"
    }
   ],
   "source": [
    "distribution_plot('price')"
   ]
  },
  {
   "cell_type": "code",
   "execution_count": 11,
   "id": "d31e9707-3428-4b3f-8780-0258c08bca94",
   "metadata": {},
   "outputs": [
    {
     "data": {
      "text/html": [
       "<div>\n",
       "<style scoped>\n",
       "    .dataframe tbody tr th:only-of-type {\n",
       "        vertical-align: middle;\n",
       "    }\n",
       "\n",
       "    .dataframe tbody tr th {\n",
       "        vertical-align: top;\n",
       "    }\n",
       "\n",
       "    .dataframe thead th {\n",
       "        text-align: right;\n",
       "    }\n",
       "</style>\n",
       "<table border=\"1\" class=\"dataframe\">\n",
       "  <thead>\n",
       "    <tr style=\"text-align: right;\">\n",
       "      <th></th>\n",
       "      <th>make_model</th>\n",
       "      <th>price</th>\n",
       "    </tr>\n",
       "  </thead>\n",
       "  <tbody>\n",
       "    <tr>\n",
       "      <th>21793</th>\n",
       "      <td>Ford GT</td>\n",
       "      <td>1346900.0</td>\n",
       "    </tr>\n",
       "    <tr>\n",
       "      <th>21778</th>\n",
       "      <td>Ford GT</td>\n",
       "      <td>1075900.0</td>\n",
       "    </tr>\n",
       "    <tr>\n",
       "      <th>28184</th>\n",
       "      <td>Volvo 240</td>\n",
       "      <td>999999.0</td>\n",
       "    </tr>\n",
       "    <tr>\n",
       "      <th>27804</th>\n",
       "      <td>Volvo 240</td>\n",
       "      <td>999999.0</td>\n",
       "    </tr>\n",
       "    <tr>\n",
       "      <th>21919</th>\n",
       "      <td>Ford GT</td>\n",
       "      <td>998000.0</td>\n",
       "    </tr>\n",
       "    <tr>\n",
       "      <th>1212</th>\n",
       "      <td>Mercedes-Benz G 63 AMG</td>\n",
       "      <td>696900.0</td>\n",
       "    </tr>\n",
       "    <tr>\n",
       "      <th>21553</th>\n",
       "      <td>Ford GT</td>\n",
       "      <td>549000.0</td>\n",
       "    </tr>\n",
       "    <tr>\n",
       "      <th>21606</th>\n",
       "      <td>Ford GT</td>\n",
       "      <td>430000.0</td>\n",
       "    </tr>\n",
       "    <tr>\n",
       "      <th>1317</th>\n",
       "      <td>Mercedes-Benz G 63 AMG</td>\n",
       "      <td>375900.0</td>\n",
       "    </tr>\n",
       "    <tr>\n",
       "      <th>21927</th>\n",
       "      <td>Ford</td>\n",
       "      <td>349000.0</td>\n",
       "    </tr>\n",
       "    <tr>\n",
       "      <th>1305</th>\n",
       "      <td>Mercedes-Benz G 63 AMG</td>\n",
       "      <td>344900.0</td>\n",
       "    </tr>\n",
       "    <tr>\n",
       "      <th>1076</th>\n",
       "      <td>Mercedes-Benz GLE 63 AMG</td>\n",
       "      <td>299000.0</td>\n",
       "    </tr>\n",
       "    <tr>\n",
       "      <th>1451</th>\n",
       "      <td>Mercedes-Benz GLE 63 AMG</td>\n",
       "      <td>299000.0</td>\n",
       "    </tr>\n",
       "    <tr>\n",
       "      <th>1595</th>\n",
       "      <td>Mercedes-Benz G 63 AMG</td>\n",
       "      <td>284780.0</td>\n",
       "    </tr>\n",
       "    <tr>\n",
       "      <th>710</th>\n",
       "      <td>Mercedes-Benz AMG GT</td>\n",
       "      <td>283900.0</td>\n",
       "    </tr>\n",
       "    <tr>\n",
       "      <th>1444</th>\n",
       "      <td>Mercedes-Benz G 63 AMG</td>\n",
       "      <td>279063.0</td>\n",
       "    </tr>\n",
       "    <tr>\n",
       "      <th>1114</th>\n",
       "      <td>Mercedes-Benz SLS</td>\n",
       "      <td>279000.0</td>\n",
       "    </tr>\n",
       "    <tr>\n",
       "      <th>1320</th>\n",
       "      <td>Mercedes-Benz G 63 AMG</td>\n",
       "      <td>268900.0</td>\n",
       "    </tr>\n",
       "    <tr>\n",
       "      <th>1413</th>\n",
       "      <td>Mercedes-Benz G 63 AMG</td>\n",
       "      <td>267810.0</td>\n",
       "    </tr>\n",
       "    <tr>\n",
       "      <th>19314</th>\n",
       "      <td>Nissan Skyline</td>\n",
       "      <td>264900.0</td>\n",
       "    </tr>\n",
       "  </tbody>\n",
       "</table>\n",
       "</div>"
      ],
      "text/plain": [
       "                     make_model      price\n",
       "21793                   Ford GT  1346900.0\n",
       "21778                   Ford GT  1075900.0\n",
       "28184                 Volvo 240   999999.0\n",
       "27804                 Volvo 240   999999.0\n",
       "21919                   Ford GT   998000.0\n",
       "1212     Mercedes-Benz G 63 AMG   696900.0\n",
       "21553                   Ford GT   549000.0\n",
       "21606                   Ford GT   430000.0\n",
       "1317     Mercedes-Benz G 63 AMG   375900.0\n",
       "21927                     Ford    349000.0\n",
       "1305     Mercedes-Benz G 63 AMG   344900.0\n",
       "1076   Mercedes-Benz GLE 63 AMG   299000.0\n",
       "1451   Mercedes-Benz GLE 63 AMG   299000.0\n",
       "1595     Mercedes-Benz G 63 AMG   284780.0\n",
       "710        Mercedes-Benz AMG GT   283900.0\n",
       "1444     Mercedes-Benz G 63 AMG   279063.0\n",
       "1114          Mercedes-Benz SLS   279000.0\n",
       "1320     Mercedes-Benz G 63 AMG   268900.0\n",
       "1413     Mercedes-Benz G 63 AMG   267810.0\n",
       "19314            Nissan Skyline   264900.0"
      ]
     },
     "execution_count": 11,
     "metadata": {},
     "output_type": "execute_result"
    }
   ],
   "source": [
    "df.loc[:, ['make_model', 'price']].sort_values(by='price', ascending=False).head(20)"
   ]
  },
  {
   "cell_type": "code",
   "execution_count": 12,
   "id": "c0d0db39-2416-4f01-afd6-904216b2d504",
   "metadata": {},
   "outputs": [],
   "source": [
    "df.drop([28184, 27804], axis=0, inplace=True)"
   ]
  },
  {
   "cell_type": "code",
   "execution_count": 13,
   "id": "e52e5912-9a49-4820-9aff-ba467b1b08ce",
   "metadata": {},
   "outputs": [],
   "source": [
    "df.drop(1212, axis=0, inplace=True)"
   ]
  },
  {
   "cell_type": "code",
   "execution_count": 14,
   "id": "6377bb52-a44b-43b2-a1bd-2207b9358bb1",
   "metadata": {},
   "outputs": [],
   "source": [
    "df.loc[21927, 'make_model'] = 'Ford GT'"
   ]
  },
  {
   "cell_type": "code",
   "execution_count": 15,
   "id": "b8ac5289-a8e9-48ab-9c97-b15b95709234",
   "metadata": {},
   "outputs": [
    {
     "data": {
      "text/html": [
       "<div>\n",
       "<style scoped>\n",
       "    .dataframe tbody tr th:only-of-type {\n",
       "        vertical-align: middle;\n",
       "    }\n",
       "\n",
       "    .dataframe tbody tr th {\n",
       "        vertical-align: top;\n",
       "    }\n",
       "\n",
       "    .dataframe thead th {\n",
       "        text-align: right;\n",
       "    }\n",
       "</style>\n",
       "<table border=\"1\" class=\"dataframe\">\n",
       "  <thead>\n",
       "    <tr style=\"text-align: right;\">\n",
       "      <th></th>\n",
       "      <th>make_model</th>\n",
       "      <th>price</th>\n",
       "    </tr>\n",
       "  </thead>\n",
       "  <tbody>\n",
       "    <tr>\n",
       "      <th>5847</th>\n",
       "      <td>Renault Megane</td>\n",
       "      <td>490.0</td>\n",
       "    </tr>\n",
       "    <tr>\n",
       "      <th>5513</th>\n",
       "      <td>Renault Megane</td>\n",
       "      <td>500.0</td>\n",
       "    </tr>\n",
       "    <tr>\n",
       "      <th>19565</th>\n",
       "      <td>Nissan 100 NX</td>\n",
       "      <td>500.0</td>\n",
       "    </tr>\n",
       "    <tr>\n",
       "      <th>17516</th>\n",
       "      <td>Toyota Paseo</td>\n",
       "      <td>590.0</td>\n",
       "    </tr>\n",
       "    <tr>\n",
       "      <th>5291</th>\n",
       "      <td>Renault Megane</td>\n",
       "      <td>600.0</td>\n",
       "    </tr>\n",
       "    <tr>\n",
       "      <th>5351</th>\n",
       "      <td>Renault Megane</td>\n",
       "      <td>600.0</td>\n",
       "    </tr>\n",
       "    <tr>\n",
       "      <th>5296</th>\n",
       "      <td>Renault Megane</td>\n",
       "      <td>699.0</td>\n",
       "    </tr>\n",
       "    <tr>\n",
       "      <th>3375</th>\n",
       "      <td>Opel Astra</td>\n",
       "      <td>700.0</td>\n",
       "    </tr>\n",
       "    <tr>\n",
       "      <th>23792</th>\n",
       "      <td>Hyundai ACCENT</td>\n",
       "      <td>700.0</td>\n",
       "    </tr>\n",
       "    <tr>\n",
       "      <th>5519</th>\n",
       "      <td>Renault Megane</td>\n",
       "      <td>740.0</td>\n",
       "    </tr>\n",
       "    <tr>\n",
       "      <th>5279</th>\n",
       "      <td>Renault Megane</td>\n",
       "      <td>750.0</td>\n",
       "    </tr>\n",
       "    <tr>\n",
       "      <th>24546</th>\n",
       "      <td>Hyundai Lantra</td>\n",
       "      <td>750.0</td>\n",
       "    </tr>\n",
       "    <tr>\n",
       "      <th>7812</th>\n",
       "      <td>Peugeot 306</td>\n",
       "      <td>750.0</td>\n",
       "    </tr>\n",
       "    <tr>\n",
       "      <th>20114</th>\n",
       "      <td>Nissan Primera</td>\n",
       "      <td>750.0</td>\n",
       "    </tr>\n",
       "    <tr>\n",
       "      <th>7835</th>\n",
       "      <td>Peugeot 206</td>\n",
       "      <td>790.0</td>\n",
       "    </tr>\n",
       "    <tr>\n",
       "      <th>5630</th>\n",
       "      <td>Renault Megane</td>\n",
       "      <td>790.0</td>\n",
       "    </tr>\n",
       "    <tr>\n",
       "      <th>6460</th>\n",
       "      <td>Renault Megane</td>\n",
       "      <td>790.0</td>\n",
       "    </tr>\n",
       "    <tr>\n",
       "      <th>2504</th>\n",
       "      <td>Opel Agila</td>\n",
       "      <td>790.0</td>\n",
       "    </tr>\n",
       "    <tr>\n",
       "      <th>3149</th>\n",
       "      <td>Opel Astra</td>\n",
       "      <td>799.0</td>\n",
       "    </tr>\n",
       "    <tr>\n",
       "      <th>10647</th>\n",
       "      <td>Fiat Uno</td>\n",
       "      <td>800.0</td>\n",
       "    </tr>\n",
       "  </tbody>\n",
       "</table>\n",
       "</div>"
      ],
      "text/plain": [
       "           make_model  price\n",
       "5847   Renault Megane  490.0\n",
       "5513   Renault Megane  500.0\n",
       "19565   Nissan 100 NX  500.0\n",
       "17516    Toyota Paseo  590.0\n",
       "5291   Renault Megane  600.0\n",
       "5351   Renault Megane  600.0\n",
       "5296   Renault Megane  699.0\n",
       "3375       Opel Astra  700.0\n",
       "23792  Hyundai ACCENT  700.0\n",
       "5519   Renault Megane  740.0\n",
       "5279   Renault Megane  750.0\n",
       "24546  Hyundai Lantra  750.0\n",
       "7812      Peugeot 306  750.0\n",
       "20114  Nissan Primera  750.0\n",
       "7835      Peugeot 206  790.0\n",
       "5630   Renault Megane  790.0\n",
       "6460   Renault Megane  790.0\n",
       "2504       Opel Agila  790.0\n",
       "3149       Opel Astra  799.0\n",
       "10647        Fiat Uno  800.0"
      ]
     },
     "execution_count": 15,
     "metadata": {},
     "output_type": "execute_result"
    }
   ],
   "source": [
    "df.loc[:, ['make_model', 'price']].sort_values(by='price', ascending=True).head(20)"
   ]
  },
  {
   "cell_type": "code",
   "execution_count": 16,
   "id": "0b4c5b90-400e-493b-9b43-278dae94b5b3",
   "metadata": {},
   "outputs": [
    {
     "data": {
      "text/html": [
       "<div>\n",
       "<style scoped>\n",
       "    .dataframe tbody tr th:only-of-type {\n",
       "        vertical-align: middle;\n",
       "    }\n",
       "\n",
       "    .dataframe tbody tr th {\n",
       "        vertical-align: top;\n",
       "    }\n",
       "\n",
       "    .dataframe thead th {\n",
       "        text-align: right;\n",
       "    }\n",
       "</style>\n",
       "<table border=\"1\" class=\"dataframe\">\n",
       "  <thead>\n",
       "    <tr style=\"text-align: right;\">\n",
       "      <th></th>\n",
       "      <th>min</th>\n",
       "      <th>max</th>\n",
       "      <th>mean</th>\n",
       "    </tr>\n",
       "    <tr>\n",
       "      <th>make</th>\n",
       "      <th></th>\n",
       "      <th></th>\n",
       "      <th></th>\n",
       "    </tr>\n",
       "  </thead>\n",
       "  <tbody>\n",
       "    <tr>\n",
       "      <th>Dacia</th>\n",
       "      <td>1490.0</td>\n",
       "      <td>29950.0</td>\n",
       "      <td>13874.427456</td>\n",
       "    </tr>\n",
       "    <tr>\n",
       "      <th>Fiat</th>\n",
       "      <td>800.0</td>\n",
       "      <td>214900.0</td>\n",
       "      <td>15896.917451</td>\n",
       "    </tr>\n",
       "    <tr>\n",
       "      <th>Ford</th>\n",
       "      <td>1000.0</td>\n",
       "      <td>1346900.0</td>\n",
       "      <td>32255.372633</td>\n",
       "    </tr>\n",
       "    <tr>\n",
       "      <th>Hyundai</th>\n",
       "      <td>700.0</td>\n",
       "      <td>75991.0</td>\n",
       "      <td>19541.789502</td>\n",
       "    </tr>\n",
       "    <tr>\n",
       "      <th>Mercedes-Benz</th>\n",
       "      <td>1790.0</td>\n",
       "      <td>375900.0</td>\n",
       "      <td>52129.945766</td>\n",
       "    </tr>\n",
       "    <tr>\n",
       "      <th>Nissan</th>\n",
       "      <td>500.0</td>\n",
       "      <td>264900.0</td>\n",
       "      <td>21946.215116</td>\n",
       "    </tr>\n",
       "    <tr>\n",
       "      <th>Opel</th>\n",
       "      <td>700.0</td>\n",
       "      <td>74000.0</td>\n",
       "      <td>17063.384906</td>\n",
       "    </tr>\n",
       "    <tr>\n",
       "      <th>Peugeot</th>\n",
       "      <td>750.0</td>\n",
       "      <td>64290.0</td>\n",
       "      <td>16469.121186</td>\n",
       "    </tr>\n",
       "    <tr>\n",
       "      <th>Renault</th>\n",
       "      <td>490.0</td>\n",
       "      <td>178000.0</td>\n",
       "      <td>17411.987665</td>\n",
       "    </tr>\n",
       "    <tr>\n",
       "      <th>SEAT</th>\n",
       "      <td>850.0</td>\n",
       "      <td>51990.0</td>\n",
       "      <td>19427.018359</td>\n",
       "    </tr>\n",
       "    <tr>\n",
       "      <th>Skoda</th>\n",
       "      <td>1250.0</td>\n",
       "      <td>74490.0</td>\n",
       "      <td>23650.353129</td>\n",
       "    </tr>\n",
       "    <tr>\n",
       "      <th>Toyota</th>\n",
       "      <td>590.0</td>\n",
       "      <td>120000.0</td>\n",
       "      <td>22166.600098</td>\n",
       "    </tr>\n",
       "    <tr>\n",
       "      <th>Volvo</th>\n",
       "      <td>1345.0</td>\n",
       "      <td>126950.0</td>\n",
       "      <td>25957.319387</td>\n",
       "    </tr>\n",
       "  </tbody>\n",
       "</table>\n",
       "</div>"
      ],
      "text/plain": [
       "                  min        max          mean\n",
       "make                                          \n",
       "Dacia          1490.0    29950.0  13874.427456\n",
       "Fiat            800.0   214900.0  15896.917451\n",
       "Ford           1000.0  1346900.0  32255.372633\n",
       "Hyundai         700.0    75991.0  19541.789502\n",
       "Mercedes-Benz  1790.0   375900.0  52129.945766\n",
       "Nissan          500.0   264900.0  21946.215116\n",
       "Opel            700.0    74000.0  17063.384906\n",
       "Peugeot         750.0    64290.0  16469.121186\n",
       "Renault         490.0   178000.0  17411.987665\n",
       "SEAT            850.0    51990.0  19427.018359\n",
       "Skoda          1250.0    74490.0  23650.353129\n",
       "Toyota          590.0   120000.0  22166.600098\n",
       "Volvo          1345.0   126950.0  25957.319387"
      ]
     },
     "execution_count": 16,
     "metadata": {},
     "output_type": "execute_result"
    }
   ],
   "source": [
    "df.groupby('make')['price'].agg(['min', 'max', 'mean'])"
   ]
  },
  {
   "cell_type": "code",
   "execution_count": 17,
   "id": "795f2263-ed39-41a2-a9c7-d21b3182b46d",
   "metadata": {},
   "outputs": [
    {
     "data": {
      "image/png": "[encoded data removed]",
      "text/plain": [
       "<Figure size 1200x500 with 2 Axes>"
      ]
     },
     "metadata": {},
     "output_type": "display_data"
    }
   ],
   "source": [
    "distribution_plot('price')"
   ]
  },
  {
   "cell_type": "code",
   "execution_count": 18,
   "id": "a3fa0163-5e45-4f15-9d40-bf9ef94ce1fe",
   "metadata": {},
   "outputs": [
    {
     "data": {
      "text/plain": [
       "Index([21778, 21793, 21919], dtype='int64')"
      ]
     },
     "execution_count": 18,
     "metadata": {},
     "output_type": "execute_result"
    }
   ],
   "source": [
    "df[df.price > 600000].index"
   ]
  },
  {
   "cell_type": "code",
   "execution_count": 19,
   "id": "5fa4b672-5992-4c5b-8e87-86306d8e5699",
   "metadata": {},
   "outputs": [],
   "source": [
    "df.drop(df[df.price > 600000].index, axis=0, inplace=True)"
   ]
  },
  {
   "cell_type": "code",
   "execution_count": null,
   "id": "2fa98291-b54f-425e-9622-7bd65ef021ed",
   "metadata": {},
   "outputs": [],
   "source": []
  },
  {
   "cell_type": "code",
   "execution_count": 20,
   "id": "faf6536b-cf4f-4a3a-b3d1-9bfc8a8c9020",
   "metadata": {},
   "outputs": [],
   "source": [
    "## Handle outliers in 'doors' column"
   ]
  },
  {
   "cell_type": "code",
   "execution_count": 21,
   "id": "99c1d07d-bcc7-4240-9410-024eddf5436c",
   "metadata": {},
   "outputs": [
    {
     "data": {
      "text/plain": [
       "count    28624.000000\n",
       "mean         4.137717\n",
       "std          1.215246\n",
       "min          1.000000\n",
       "25%          3.000000\n",
       "50%          5.000000\n",
       "75%          5.000000\n",
       "max          6.000000\n",
       "Name: doors, dtype: float64"
      ]
     },
     "execution_count": 21,
     "metadata": {},
     "output_type": "execute_result"
    }
   ],
   "source": [
    "df.doors.describe()"
   ]
  },
  {
   "cell_type": "code",
   "execution_count": 22,
   "id": "79b11d3d-d0b2-447c-9812-49b5f7ce018c",
   "metadata": {},
   "outputs": [
    {
     "data": {
      "text/plain": [
       "doors\n",
       "5.0    17637\n",
       "2.0     5720\n",
       "4.0     3001\n",
       "3.0     2259\n",
       "6.0        5\n",
       "1.0        2\n",
       "Name: count, dtype: int64"
      ]
     },
     "execution_count": 22,
     "metadata": {},
     "output_type": "execute_result"
    }
   ],
   "source": [
    "df.doors.value_counts()"
   ]
  },
  {
   "cell_type": "code",
   "execution_count": 23,
   "id": "84598110-cee8-412e-8d91-a4be2b0fa34f",
   "metadata": {},
   "outputs": [],
   "source": [
    "door_drop_index = df[(df.doors == 1) | (df.doors == 6)].index"
   ]
  },
  {
   "cell_type": "code",
   "execution_count": 24,
   "id": "2566e29e-d74f-4da8-a536-1775f4a6dcc8",
   "metadata": {},
   "outputs": [],
   "source": [
    "df.drop(door_drop_index, axis=0, inplace=True)"
   ]
  },
  {
   "cell_type": "code",
   "execution_count": 25,
   "id": "39d959bf-e315-4b89-98a5-357f21b0a6b4",
   "metadata": {},
   "outputs": [
    {
     "data": {
      "text/plain": [
       "doors\n",
       "5.0    17637\n",
       "2.0     5720\n",
       "4.0     3001\n",
       "3.0     2259\n",
       "Name: count, dtype: int64"
      ]
     },
     "execution_count": 25,
     "metadata": {},
     "output_type": "execute_result"
    }
   ],
   "source": [
    "df.doors.value_counts()"
   ]
  },
  {
   "cell_type": "code",
   "execution_count": 26,
   "id": "70af0224-f2db-4bcd-a909-6b8867133e57",
   "metadata": {},
   "outputs": [
    {
     "data": {
      "image/png": "[encoded data removed]",
      "text/plain": [
       "<Figure size 1200x500 with 2 Axes>"
      ]
     },
     "metadata": {},
     "output_type": "display_data"
    }
   ],
   "source": [
    "distribution_plot('doors')"
   ]
  },
  {
   "cell_type": "code",
   "execution_count": null,
   "id": "918a157d-e061-479c-8eab-4ccde9beab03",
   "metadata": {},
   "outputs": [],
   "source": []
  },
  {
   "cell_type": "code",
   "execution_count": 27,
   "id": "29eaefb2-975e-46d5-95fb-44d6d249abc9",
   "metadata": {},
   "outputs": [],
   "source": [
    "## Handle outliers in 'mileage' column"
   ]
  },
  {
   "cell_type": "code",
   "execution_count": 28,
   "id": "0b72b840-3355-4b8d-8370-4d68ee93e05c",
   "metadata": {},
   "outputs": [
    {
     "data": {
      "image/png": "[encoded data removed]",
      "text/plain": [
       "<Figure size 1200x500 with 2 Axes>"
      ]
     },
     "metadata": {},
     "output_type": "display_data"
    }
   ],
   "source": [
    "distribution_plot('mileage')"
   ]
  },
  {
   "cell_type": "code",
   "execution_count": 29,
   "id": "3500eebc-41ad-4927-94a2-20cee2ae3f78",
   "metadata": {},
   "outputs": [
    {
     "data": {
      "text/html": [
       "<div>\n",
       "<style scoped>\n",
       "    .dataframe tbody tr th:only-of-type {\n",
       "        vertical-align: middle;\n",
       "    }\n",
       "\n",
       "    .dataframe tbody tr th {\n",
       "        vertical-align: top;\n",
       "    }\n",
       "\n",
       "    .dataframe thead th {\n",
       "        text-align: right;\n",
       "    }\n",
       "</style>\n",
       "<table border=\"1\" class=\"dataframe\">\n",
       "  <thead>\n",
       "    <tr style=\"text-align: right;\">\n",
       "      <th></th>\n",
       "      <th>mileage</th>\n",
       "      <th>first_registration</th>\n",
       "      <th>previous_owner</th>\n",
       "    </tr>\n",
       "  </thead>\n",
       "  <tbody>\n",
       "    <tr>\n",
       "      <th>18873</th>\n",
       "      <td>1440000.0</td>\n",
       "      <td>2019.0</td>\n",
       "      <td>1.0</td>\n",
       "    </tr>\n",
       "    <tr>\n",
       "      <th>17324</th>\n",
       "      <td>1300000.0</td>\n",
       "      <td>1986.0</td>\n",
       "      <td>2.0</td>\n",
       "    </tr>\n",
       "    <tr>\n",
       "      <th>12169</th>\n",
       "      <td>1199900.0</td>\n",
       "      <td>2018.0</td>\n",
       "      <td>1.0</td>\n",
       "    </tr>\n",
       "    <tr>\n",
       "      <th>22889</th>\n",
       "      <td>1000001.0</td>\n",
       "      <td>2018.0</td>\n",
       "      <td>1.0</td>\n",
       "    </tr>\n",
       "    <tr>\n",
       "      <th>7684</th>\n",
       "      <td>1000000.0</td>\n",
       "      <td>1968.0</td>\n",
       "      <td>2.0</td>\n",
       "    </tr>\n",
       "    <tr>\n",
       "      <th>10009</th>\n",
       "      <td>999999.0</td>\n",
       "      <td>1933.0</td>\n",
       "      <td>1.0</td>\n",
       "    </tr>\n",
       "    <tr>\n",
       "      <th>21344</th>\n",
       "      <td>999999.0</td>\n",
       "      <td>1966.0</td>\n",
       "      <td>2.0</td>\n",
       "    </tr>\n",
       "    <tr>\n",
       "      <th>3397</th>\n",
       "      <td>999999.0</td>\n",
       "      <td>1968.0</td>\n",
       "      <td>2.0</td>\n",
       "    </tr>\n",
       "    <tr>\n",
       "      <th>13153</th>\n",
       "      <td>667128.0</td>\n",
       "      <td>2010.0</td>\n",
       "      <td>2.0</td>\n",
       "    </tr>\n",
       "    <tr>\n",
       "      <th>28463</th>\n",
       "      <td>600001.0</td>\n",
       "      <td>2000.0</td>\n",
       "      <td>2.0</td>\n",
       "    </tr>\n",
       "    <tr>\n",
       "      <th>14360</th>\n",
       "      <td>600000.0</td>\n",
       "      <td>2011.0</td>\n",
       "      <td>2.0</td>\n",
       "    </tr>\n",
       "    <tr>\n",
       "      <th>17907</th>\n",
       "      <td>547000.0</td>\n",
       "      <td>1999.0</td>\n",
       "      <td>2.0</td>\n",
       "    </tr>\n",
       "    <tr>\n",
       "      <th>14374</th>\n",
       "      <td>546888.0</td>\n",
       "      <td>2014.0</td>\n",
       "      <td>2.0</td>\n",
       "    </tr>\n",
       "    <tr>\n",
       "      <th>3212</th>\n",
       "      <td>536388.0</td>\n",
       "      <td>1978.0</td>\n",
       "      <td>2.0</td>\n",
       "    </tr>\n",
       "    <tr>\n",
       "      <th>18340</th>\n",
       "      <td>523992.0</td>\n",
       "      <td>2015.0</td>\n",
       "      <td>1.0</td>\n",
       "    </tr>\n",
       "    <tr>\n",
       "      <th>3456</th>\n",
       "      <td>494457.0</td>\n",
       "      <td>2005.0</td>\n",
       "      <td>2.0</td>\n",
       "    </tr>\n",
       "    <tr>\n",
       "      <th>20092</th>\n",
       "      <td>477000.0</td>\n",
       "      <td>2014.0</td>\n",
       "      <td>2.0</td>\n",
       "    </tr>\n",
       "    <tr>\n",
       "      <th>6494</th>\n",
       "      <td>461626.0</td>\n",
       "      <td>2004.0</td>\n",
       "      <td>2.0</td>\n",
       "    </tr>\n",
       "    <tr>\n",
       "      <th>282</th>\n",
       "      <td>457379.0</td>\n",
       "      <td>1985.0</td>\n",
       "      <td>2.0</td>\n",
       "    </tr>\n",
       "    <tr>\n",
       "      <th>27852</th>\n",
       "      <td>448914.0</td>\n",
       "      <td>2008.0</td>\n",
       "      <td>3.0</td>\n",
       "    </tr>\n",
       "  </tbody>\n",
       "</table>\n",
       "</div>"
      ],
      "text/plain": [
       "         mileage  first_registration  previous_owner\n",
       "18873  1440000.0              2019.0             1.0\n",
       "17324  1300000.0              1986.0             2.0\n",
       "12169  1199900.0              2018.0             1.0\n",
       "22889  1000001.0              2018.0             1.0\n",
       "7684   1000000.0              1968.0             2.0\n",
       "10009   999999.0              1933.0             1.0\n",
       "21344   999999.0              1966.0             2.0\n",
       "3397    999999.0              1968.0             2.0\n",
       "13153   667128.0              2010.0             2.0\n",
       "28463   600001.0              2000.0             2.0\n",
       "14360   600000.0              2011.0             2.0\n",
       "17907   547000.0              1999.0             2.0\n",
       "14374   546888.0              2014.0             2.0\n",
       "3212    536388.0              1978.0             2.0\n",
       "18340   523992.0              2015.0             1.0\n",
       "3456    494457.0              2005.0             2.0\n",
       "20092   477000.0              2014.0             2.0\n",
       "6494    461626.0              2004.0             2.0\n",
       "282     457379.0              1985.0             2.0\n",
       "27852   448914.0              2008.0             3.0"
      ]
     },
     "execution_count": 29,
     "metadata": {},
     "output_type": "execute_result"
    }
   ],
   "source": [
    "df.loc[:, ['mileage', 'first_registration', 'previous_owner']].sort_values(by='mileage', ascending=False).head(20)"
   ]
  },
  {
   "cell_type": "code",
   "execution_count": 30,
   "id": "dc4f1970-6066-41a2-b757-e33beeb8f3da",
   "metadata": {},
   "outputs": [],
   "source": [
    "df.drop(df[df.mileage > 700000].index, axis=0, inplace=True)"
   ]
  },
  {
   "cell_type": "code",
   "execution_count": null,
   "id": "46e205f4-269f-4ada-927c-34b56f9928a1",
   "metadata": {},
   "outputs": [],
   "source": []
  },
  {
   "cell_type": "code",
   "execution_count": 31,
   "id": "083b2652-a76a-462e-96c0-5bd40c159a86",
   "metadata": {},
   "outputs": [],
   "source": [
    "## Handle outliers in 'first_registration' column"
   ]
  },
  {
   "cell_type": "code",
   "execution_count": 32,
   "id": "8577c939-49a6-46db-8344-3ccb666deaca",
   "metadata": {},
   "outputs": [
    {
     "data": {
      "text/html": [
       "<div>\n",
       "<style scoped>\n",
       "    .dataframe tbody tr th:only-of-type {\n",
       "        vertical-align: middle;\n",
       "    }\n",
       "\n",
       "    .dataframe tbody tr th {\n",
       "        vertical-align: top;\n",
       "    }\n",
       "\n",
       "    .dataframe thead th {\n",
       "        text-align: right;\n",
       "    }\n",
       "</style>\n",
       "<table border=\"1\" class=\"dataframe\">\n",
       "  <thead>\n",
       "    <tr style=\"text-align: right;\">\n",
       "      <th></th>\n",
       "      <th>make_model</th>\n",
       "      <th>first_registration</th>\n",
       "      <th>price</th>\n",
       "    </tr>\n",
       "  </thead>\n",
       "  <tbody>\n",
       "    <tr>\n",
       "      <th>7011</th>\n",
       "      <td>Renault Clio</td>\n",
       "      <td>2202.0</td>\n",
       "      <td>16990.0</td>\n",
       "    </tr>\n",
       "    <tr>\n",
       "      <th>9764</th>\n",
       "      <td>Fiat 500 Abarth</td>\n",
       "      <td>2025.0</td>\n",
       "      <td>17995.0</td>\n",
       "    </tr>\n",
       "    <tr>\n",
       "      <th>19213</th>\n",
       "      <td>Nissan Micra</td>\n",
       "      <td>2023.0</td>\n",
       "      <td>3250.0</td>\n",
       "    </tr>\n",
       "    <tr>\n",
       "      <th>14634</th>\n",
       "      <td>Skoda Octavia</td>\n",
       "      <td>2022.0</td>\n",
       "      <td>34600.0</td>\n",
       "    </tr>\n",
       "    <tr>\n",
       "      <th>14635</th>\n",
       "      <td>Skoda Superb</td>\n",
       "      <td>2022.0</td>\n",
       "      <td>40490.0</td>\n",
       "    </tr>\n",
       "    <tr>\n",
       "      <th>9170</th>\n",
       "      <td>Peugeot 208</td>\n",
       "      <td>2022.0</td>\n",
       "      <td>22450.0</td>\n",
       "    </tr>\n",
       "    <tr>\n",
       "      <th>9167</th>\n",
       "      <td>Peugeot 308</td>\n",
       "      <td>2022.0</td>\n",
       "      <td>44495.0</td>\n",
       "    </tr>\n",
       "    <tr>\n",
       "      <th>17641</th>\n",
       "      <td>Toyota Hilux</td>\n",
       "      <td>2022.0</td>\n",
       "      <td>52140.0</td>\n",
       "    </tr>\n",
       "    <tr>\n",
       "      <th>9162</th>\n",
       "      <td>Peugeot 308</td>\n",
       "      <td>2022.0</td>\n",
       "      <td>30000.0</td>\n",
       "    </tr>\n",
       "    <tr>\n",
       "      <th>6099</th>\n",
       "      <td>Renault Captur</td>\n",
       "      <td>2022.0</td>\n",
       "      <td>33489.0</td>\n",
       "    </tr>\n",
       "    <tr>\n",
       "      <th>6101</th>\n",
       "      <td>Renault</td>\n",
       "      <td>2022.0</td>\n",
       "      <td>29980.0</td>\n",
       "    </tr>\n",
       "    <tr>\n",
       "      <th>9159</th>\n",
       "      <td>Peugeot 308</td>\n",
       "      <td>2022.0</td>\n",
       "      <td>31700.0</td>\n",
       "    </tr>\n",
       "    <tr>\n",
       "      <th>6107</th>\n",
       "      <td>Renault Koleos</td>\n",
       "      <td>2022.0</td>\n",
       "      <td>43538.0</td>\n",
       "    </tr>\n",
       "    <tr>\n",
       "      <th>15797</th>\n",
       "      <td>Dacia Duster</td>\n",
       "      <td>2022.0</td>\n",
       "      <td>21488.0</td>\n",
       "    </tr>\n",
       "    <tr>\n",
       "      <th>6110</th>\n",
       "      <td>Renault Kadjar</td>\n",
       "      <td>2022.0</td>\n",
       "      <td>34489.0</td>\n",
       "    </tr>\n",
       "    <tr>\n",
       "      <th>17638</th>\n",
       "      <td>Toyota C-HR</td>\n",
       "      <td>2022.0</td>\n",
       "      <td>29900.0</td>\n",
       "    </tr>\n",
       "    <tr>\n",
       "      <th>6112</th>\n",
       "      <td>Renault Kadjar</td>\n",
       "      <td>2022.0</td>\n",
       "      <td>33989.0</td>\n",
       "    </tr>\n",
       "    <tr>\n",
       "      <th>2230</th>\n",
       "      <td>Mercedes-Benz EQS</td>\n",
       "      <td>2022.0</td>\n",
       "      <td>140970.0</td>\n",
       "    </tr>\n",
       "    <tr>\n",
       "      <th>9139</th>\n",
       "      <td>Peugeot 308</td>\n",
       "      <td>2022.0</td>\n",
       "      <td>28950.0</td>\n",
       "    </tr>\n",
       "    <tr>\n",
       "      <th>2232</th>\n",
       "      <td>Mercedes-Benz</td>\n",
       "      <td>2022.0</td>\n",
       "      <td>103580.0</td>\n",
       "    </tr>\n",
       "  </tbody>\n",
       "</table>\n",
       "</div>"
      ],
      "text/plain": [
       "              make_model  first_registration     price\n",
       "7011        Renault Clio              2202.0   16990.0\n",
       "9764     Fiat 500 Abarth              2025.0   17995.0\n",
       "19213       Nissan Micra              2023.0    3250.0\n",
       "14634      Skoda Octavia              2022.0   34600.0\n",
       "14635       Skoda Superb              2022.0   40490.0\n",
       "9170         Peugeot 208              2022.0   22450.0\n",
       "9167         Peugeot 308              2022.0   44495.0\n",
       "17641       Toyota Hilux              2022.0   52140.0\n",
       "9162         Peugeot 308              2022.0   30000.0\n",
       "6099      Renault Captur              2022.0   33489.0\n",
       "6101            Renault               2022.0   29980.0\n",
       "9159         Peugeot 308              2022.0   31700.0\n",
       "6107      Renault Koleos              2022.0   43538.0\n",
       "15797       Dacia Duster              2022.0   21488.0\n",
       "6110      Renault Kadjar              2022.0   34489.0\n",
       "17638        Toyota C-HR              2022.0   29900.0\n",
       "6112      Renault Kadjar              2022.0   33989.0\n",
       "2230   Mercedes-Benz EQS              2022.0  140970.0\n",
       "9139         Peugeot 308              2022.0   28950.0\n",
       "2232      Mercedes-Benz               2022.0  103580.0"
      ]
     },
     "execution_count": 32,
     "metadata": {},
     "output_type": "execute_result"
    }
   ],
   "source": [
    "df.loc[:, ['make_model', 'first_registration', 'price']].sort_values(by='first_registration', ascending=False).head(20)"
   ]
  },
  {
   "cell_type": "code",
   "execution_count": 33,
   "id": "5c52436e-1c99-49e3-b3e9-f5514b9ec7a8",
   "metadata": {},
   "outputs": [],
   "source": [
    "df.loc[7011, 'first_registration'] = 2022.0"
   ]
  },
  {
   "cell_type": "code",
   "execution_count": 34,
   "id": "23f19d4a-e757-4be2-b441-0f3d92dec3c0",
   "metadata": {},
   "outputs": [],
   "source": [
    "df.drop([19213, 9764], axis=0, inplace=True)"
   ]
  },
  {
   "cell_type": "code",
   "execution_count": 35,
   "id": "76b4853c-5dfe-4788-a744-976fa4a28e4c",
   "metadata": {},
   "outputs": [
    {
     "data": {
      "text/html": [
       "<div>\n",
       "<style scoped>\n",
       "    .dataframe tbody tr th:only-of-type {\n",
       "        vertical-align: middle;\n",
       "    }\n",
       "\n",
       "    .dataframe tbody tr th {\n",
       "        vertical-align: top;\n",
       "    }\n",
       "\n",
       "    .dataframe thead th {\n",
       "        text-align: right;\n",
       "    }\n",
       "</style>\n",
       "<table border=\"1\" class=\"dataframe\">\n",
       "  <thead>\n",
       "    <tr style=\"text-align: right;\">\n",
       "      <th></th>\n",
       "      <th>make_model</th>\n",
       "      <th>first_registration</th>\n",
       "      <th>price</th>\n",
       "    </tr>\n",
       "  </thead>\n",
       "  <tbody>\n",
       "    <tr>\n",
       "      <th>22058</th>\n",
       "      <td>Ford Bronco</td>\n",
       "      <td>1900.0</td>\n",
       "      <td>57480.0</td>\n",
       "    </tr>\n",
       "    <tr>\n",
       "      <th>24783</th>\n",
       "      <td>Hyundai IONIQ</td>\n",
       "      <td>1900.0</td>\n",
       "      <td>26991.0</td>\n",
       "    </tr>\n",
       "    <tr>\n",
       "      <th>21372</th>\n",
       "      <td>Ford</td>\n",
       "      <td>1928.0</td>\n",
       "      <td>14490.0</td>\n",
       "    </tr>\n",
       "    <tr>\n",
       "      <th>21200</th>\n",
       "      <td>Ford M</td>\n",
       "      <td>1929.0</td>\n",
       "      <td>20000.0</td>\n",
       "    </tr>\n",
       "    <tr>\n",
       "      <th>8043</th>\n",
       "      <td>Peugeot</td>\n",
       "      <td>1930.0</td>\n",
       "      <td>8950.0</td>\n",
       "    </tr>\n",
       "    <tr>\n",
       "      <th>21317</th>\n",
       "      <td>Ford</td>\n",
       "      <td>1930.0</td>\n",
       "      <td>40000.0</td>\n",
       "    </tr>\n",
       "    <tr>\n",
       "      <th>21338</th>\n",
       "      <td>Ford</td>\n",
       "      <td>1932.0</td>\n",
       "      <td>40000.0</td>\n",
       "    </tr>\n",
       "    <tr>\n",
       "      <th>21461</th>\n",
       "      <td>Ford</td>\n",
       "      <td>1932.0</td>\n",
       "      <td>49900.0</td>\n",
       "    </tr>\n",
       "    <tr>\n",
       "      <th>21386</th>\n",
       "      <td>Ford</td>\n",
       "      <td>1932.0</td>\n",
       "      <td>54990.0</td>\n",
       "    </tr>\n",
       "    <tr>\n",
       "      <th>21454</th>\n",
       "      <td>Ford</td>\n",
       "      <td>1937.0</td>\n",
       "      <td>54000.0</td>\n",
       "    </tr>\n",
       "    <tr>\n",
       "      <th>21349</th>\n",
       "      <td>Ford</td>\n",
       "      <td>1937.0</td>\n",
       "      <td>54000.0</td>\n",
       "    </tr>\n",
       "    <tr>\n",
       "      <th>9258</th>\n",
       "      <td>Peugeot 504</td>\n",
       "      <td>1946.0</td>\n",
       "      <td>12500.0</td>\n",
       "    </tr>\n",
       "    <tr>\n",
       "      <th>3358</th>\n",
       "      <td>Opel</td>\n",
       "      <td>1950.0</td>\n",
       "      <td>17000.0</td>\n",
       "    </tr>\n",
       "    <tr>\n",
       "      <th>771</th>\n",
       "      <td>Mercedes-Benz 220</td>\n",
       "      <td>1952.0</td>\n",
       "      <td>176000.0</td>\n",
       "    </tr>\n",
       "    <tr>\n",
       "      <th>5300</th>\n",
       "      <td>Renault</td>\n",
       "      <td>1952.0</td>\n",
       "      <td>19000.0</td>\n",
       "    </tr>\n",
       "    <tr>\n",
       "      <th>26698</th>\n",
       "      <td>Volvo</td>\n",
       "      <td>1953.0</td>\n",
       "      <td>11900.0</td>\n",
       "    </tr>\n",
       "    <tr>\n",
       "      <th>26523</th>\n",
       "      <td>Volvo</td>\n",
       "      <td>1953.0</td>\n",
       "      <td>11900.0</td>\n",
       "    </tr>\n",
       "    <tr>\n",
       "      <th>21333</th>\n",
       "      <td>Ford</td>\n",
       "      <td>1954.0</td>\n",
       "      <td>47990.0</td>\n",
       "    </tr>\n",
       "    <tr>\n",
       "      <th>10549</th>\n",
       "      <td>Fiat</td>\n",
       "      <td>1954.0</td>\n",
       "      <td>160000.0</td>\n",
       "    </tr>\n",
       "    <tr>\n",
       "      <th>26493</th>\n",
       "      <td>Volvo PV544</td>\n",
       "      <td>1954.0</td>\n",
       "      <td>19900.0</td>\n",
       "    </tr>\n",
       "  </tbody>\n",
       "</table>\n",
       "</div>"
      ],
      "text/plain": [
       "              make_model  first_registration     price\n",
       "22058        Ford Bronco              1900.0   57480.0\n",
       "24783      Hyundai IONIQ              1900.0   26991.0\n",
       "21372              Ford               1928.0   14490.0\n",
       "21200             Ford M              1929.0   20000.0\n",
       "8043            Peugeot               1930.0    8950.0\n",
       "21317              Ford               1930.0   40000.0\n",
       "21338              Ford               1932.0   40000.0\n",
       "21461              Ford               1932.0   49900.0\n",
       "21386              Ford               1932.0   54990.0\n",
       "21454              Ford               1937.0   54000.0\n",
       "21349              Ford               1937.0   54000.0\n",
       "9258         Peugeot 504              1946.0   12500.0\n",
       "3358               Opel               1950.0   17000.0\n",
       "771    Mercedes-Benz 220              1952.0  176000.0\n",
       "5300            Renault               1952.0   19000.0\n",
       "26698             Volvo               1953.0   11900.0\n",
       "26523             Volvo               1953.0   11900.0\n",
       "21333              Ford               1954.0   47990.0\n",
       "10549              Fiat               1954.0  160000.0\n",
       "26493        Volvo PV544              1954.0   19900.0"
      ]
     },
     "execution_count": 35,
     "metadata": {},
     "output_type": "execute_result"
    }
   ],
   "source": [
    "df.loc[:, ['make_model', 'first_registration', 'price']].sort_values(by='first_registration', ascending=True).head(20)"
   ]
  },
  {
   "cell_type": "code",
   "execution_count": 36,
   "id": "fd480e6c-91e0-488c-9807-fa7074e7f002",
   "metadata": {},
   "outputs": [
    {
     "data": {
      "image/png": "[encoded data removed]",
      "text/plain": [
       "<Figure size 1200x500 with 2 Axes>"
      ]
     },
     "metadata": {},
     "output_type": "display_data"
    }
   ],
   "source": [
    "distribution_plot('first_registration')"
   ]
  },
  {
   "cell_type": "code",
   "execution_count": 37,
   "id": "973ec0bc-4b2f-4389-94b7-e814843f6b27",
   "metadata": {
    "scrolled": true
   },
   "outputs": [
    {
     "data": {
      "text/plain": [
       "first_registration\n",
       "2019.0    3666\n",
       "2018.0    3488\n",
       "2022.0    3085\n",
       "2021.0    2871\n",
       "2020.0    2473\n",
       "2017.0    2425\n",
       "2016.0    1486\n",
       "2015.0    1237\n",
       "2014.0     936\n",
       "2013.0     703\n",
       "2012.0     654\n",
       "2011.0     642\n",
       "2010.0     557\n",
       "2007.0     492\n",
       "2008.0     440\n",
       "2009.0     424\n",
       "2006.0     395\n",
       "2005.0     287\n",
       "2004.0     247\n",
       "2003.0     211\n",
       "2001.0     191\n",
       "2002.0     187\n",
       "2000.0     160\n",
       "1999.0     144\n",
       "1998.0      91\n",
       "1997.0      81\n",
       "1994.0      80\n",
       "1995.0      78\n",
       "1996.0      71\n",
       "1992.0      60\n",
       "1991.0      60\n",
       "1993.0      55\n",
       "1990.0      54\n",
       "1966.0      40\n",
       "1988.0      33\n",
       "1967.0      33\n",
       "1965.0      32\n",
       "1973.0      29\n",
       "1972.0      29\n",
       "1987.0      26\n",
       "1968.0      25\n",
       "1978.0      23\n",
       "1986.0      21\n",
       "1989.0      20\n",
       "1970.0      19\n",
       "1985.0      18\n",
       "1971.0      18\n",
       "1979.0      17\n",
       "1969.0      17\n",
       "1983.0      16\n",
       "1975.0      14\n",
       "1977.0      13\n",
       "1982.0      11\n",
       "1964.0      11\n",
       "1976.0      11\n",
       "1984.0      10\n",
       "1974.0       9\n",
       "1981.0       9\n",
       "1963.0       9\n",
       "1962.0       8\n",
       "1961.0       7\n",
       "1980.0       6\n",
       "1955.0       6\n",
       "1958.0       4\n",
       "1954.0       4\n",
       "1960.0       4\n",
       "1957.0       4\n",
       "1932.0       3\n",
       "1930.0       2\n",
       "1952.0       2\n",
       "1959.0       2\n",
       "1937.0       2\n",
       "1900.0       2\n",
       "1953.0       2\n",
       "1956.0       1\n",
       "1946.0       1\n",
       "1929.0       1\n",
       "1950.0       1\n",
       "1928.0       1\n",
       "Name: count, dtype: int64"
      ]
     },
     "execution_count": 37,
     "metadata": {},
     "output_type": "execute_result"
    }
   ],
   "source": [
    "df.first_registration.value_counts()"
   ]
  },
  {
   "cell_type": "code",
   "execution_count": 38,
   "id": "f0735842-360a-4c6f-ba6c-3e4ea0facc0b",
   "metadata": {},
   "outputs": [],
   "source": [
    "fr_drop_index = df[df.first_registration < 1997].index"
   ]
  },
  {
   "cell_type": "code",
   "execution_count": 39,
   "id": "8bc06d72-b553-46f5-9891-abd47a401e96",
   "metadata": {},
   "outputs": [],
   "source": [
    "df.drop(fr_drop_index, axis=0, inplace=True)"
   ]
  },
  {
   "cell_type": "code",
   "execution_count": 40,
   "id": "8fdf5a09-1c89-4c8b-b702-f7a3ac4eb67b",
   "metadata": {},
   "outputs": [
    {
     "data": {
      "text/plain": [
       "(27573, 34)"
      ]
     },
     "execution_count": 40,
     "metadata": {},
     "output_type": "execute_result"
    }
   ],
   "source": [
    "df.shape"
   ]
  },
  {
   "cell_type": "code",
   "execution_count": null,
   "id": "ec5ed650-50f3-451c-aab0-f7be5c844d4e",
   "metadata": {},
   "outputs": [],
   "source": []
  },
  {
   "cell_type": "code",
   "execution_count": 41,
   "id": "5376a6c7-8593-4ab3-b8e5-505ea0ae1962",
   "metadata": {},
   "outputs": [],
   "source": [
    "## Handle outliers in 'seats' column"
   ]
  },
  {
   "cell_type": "code",
   "execution_count": 42,
   "id": "ac9707a6-3cc7-4356-9592-36d02466bef8",
   "metadata": {},
   "outputs": [
    {
     "data": {
      "text/plain": [
       "seats\n",
       "5.0     20571\n",
       "4.0      5341\n",
       "2.0      1054\n",
       "7.0       485\n",
       "8.0        41\n",
       "9.0        35\n",
       "3.0        23\n",
       "0.0         9\n",
       "6.0         8\n",
       "1.0         4\n",
       "17.0        2\n",
       "Name: count, dtype: int64"
      ]
     },
     "execution_count": 42,
     "metadata": {},
     "output_type": "execute_result"
    }
   ],
   "source": [
    "df.seats.value_counts()"
   ]
  },
  {
   "cell_type": "code",
   "execution_count": null,
   "id": "c8cedbfe-5038-4109-b6ea-fde478882801",
   "metadata": {},
   "outputs": [],
   "source": []
  },
  {
   "cell_type": "code",
   "execution_count": 43,
   "id": "8257124e-9993-4ef0-a961-0f1445ac4fee",
   "metadata": {},
   "outputs": [],
   "source": [
    "## Handle outliers in 'engine_size' column"
   ]
  },
  {
   "cell_type": "code",
   "execution_count": 44,
   "id": "b06d2fe4-3328-462a-a4df-c8d1f717d228",
   "metadata": {},
   "outputs": [
    {
     "data": {
      "image/png": "[encoded data removed]",
      "text/plain": [
       "<Figure size 1200x500 with 2 Axes>"
      ]
     },
     "metadata": {},
     "output_type": "display_data"
    }
   ],
   "source": [
    "distribution_plot('engine_size')"
   ]
  },
  {
   "cell_type": "code",
   "execution_count": 45,
   "id": "1e82ff37-8855-4091-a8c6-cc1443d077fe",
   "metadata": {},
   "outputs": [
    {
     "data": {
      "text/plain": [
       "16556    99.9\n",
       "24940    55.2\n",
       "21330    54.0\n",
       "19316    29.0\n",
       "24600    27.6\n",
       "         ... \n",
       "21937     0.0\n",
       "4886      0.0\n",
       "21948     0.0\n",
       "21957     0.0\n",
       "5051      0.0\n",
       "Name: engine_size, Length: 27573, dtype: float64"
      ]
     },
     "execution_count": 45,
     "metadata": {},
     "output_type": "execute_result"
    }
   ],
   "source": [
    "df.engine_size.sort_values(ascending=False)"
   ]
  },
  {
   "cell_type": "code",
   "execution_count": 46,
   "id": "d95520b3-36d7-4ec3-8569-a0707834cb04",
   "metadata": {},
   "outputs": [],
   "source": [
    "df.loc[df[df.fuel_type == 'Electric'].index, 'engine_size'] = 0.0"
   ]
  },
  {
   "cell_type": "code",
   "execution_count": 47,
   "id": "3f8311da-2f93-4139-8dd6-a8e9fca45c1c",
   "metadata": {
    "scrolled": true
   },
   "outputs": [
    {
     "data": {
      "text/plain": [
       "engine_size\n",
       "1.90     6192\n",
       "1.50     3646\n",
       "1.40     3253\n",
       "0.90     3116\n",
       "1.30     2171\n",
       "1.10     1596\n",
       "1.20      990\n",
       "1.70      919\n",
       "2.40      661\n",
       "2.90      597\n",
       "1.60      544\n",
       "0.80      537\n",
       "0.00      507\n",
       "2.10      362\n",
       "5.00      256\n",
       "2.00      220\n",
       "3.90      216\n",
       "2.20      207\n",
       "1.00      197\n",
       "3.40      186\n",
       "3.60      156\n",
       "2.50      136\n",
       "3.70      134\n",
       "4.90      125\n",
       "1.80      121\n",
       "2.30      119\n",
       "2.70      104\n",
       "5.40       66\n",
       "4.60       54\n",
       "3.10       22\n",
       "4.00       19\n",
       "2.60       16\n",
       "5.20       16\n",
       "6.20       14\n",
       "2.80       11\n",
       "3.00        9\n",
       "3.50        8\n",
       "27.60       7\n",
       "5.90        6\n",
       "3.80        5\n",
       "5.50        5\n",
       "1.95        4\n",
       "5.10        4\n",
       "1.45        3\n",
       "4.40        3\n",
       "5.80        3\n",
       "5.60        3\n",
       "4.50        3\n",
       "14.04       3\n",
       "11.90       3\n",
       "6.30        2\n",
       "4.70        2\n",
       "4.10        1\n",
       "0.60        1\n",
       "29.00       1\n",
       "2.01        1\n",
       "54.00       1\n",
       "0.30        1\n",
       "16.90       1\n",
       "5.15        1\n",
       "8.50        1\n",
       "3.30        1\n",
       "3.20        1\n",
       "5.70        1\n",
       "19.10       1\n",
       "99.90       1\n",
       "Name: count, dtype: int64"
      ]
     },
     "execution_count": 47,
     "metadata": {},
     "output_type": "execute_result"
    }
   ],
   "source": [
    "df.engine_size.value_counts()"
   ]
  },
  {
   "cell_type": "code",
   "execution_count": 48,
   "id": "0b8b8d56-ad43-4e5d-a6a7-c6b7c88c06c2",
   "metadata": {},
   "outputs": [],
   "source": [
    "es_drop_index = df[df.engine_size > 10].index"
   ]
  },
  {
   "cell_type": "code",
   "execution_count": 49,
   "id": "937e8622-35ac-4640-9473-991d43e7f415",
   "metadata": {},
   "outputs": [],
   "source": [
    "df.drop(es_drop_index, axis=0, inplace=True)"
   ]
  },
  {
   "cell_type": "code",
   "execution_count": 50,
   "id": "fecd5c48-4709-4f8e-b905-bccc073cd1cc",
   "metadata": {},
   "outputs": [
    {
     "data": {
      "text/plain": [
       "Index([9632, 15606], dtype='int64')"
      ]
     },
     "execution_count": 50,
     "metadata": {},
     "output_type": "execute_result"
    }
   ],
   "source": [
    "df[(df.engine_size > 0) & (df.engine_size < 0.7)].index"
   ]
  },
  {
   "cell_type": "code",
   "execution_count": 51,
   "id": "eddb5c96-c94c-4b75-869c-d5cc177f4d17",
   "metadata": {},
   "outputs": [],
   "source": [
    "df.drop([9632, 15606], axis=0, inplace=True)"
   ]
  },
  {
   "cell_type": "code",
   "execution_count": 52,
   "id": "c7debf69-2b76-4382-a6c3-60af3b98fe02",
   "metadata": {},
   "outputs": [],
   "source": [
    "df.drop(5430, axis=0, inplace=True)"
   ]
  },
  {
   "cell_type": "code",
   "execution_count": 53,
   "id": "9e4207db-40e7-430f-adcc-eacfc41dc66f",
   "metadata": {},
   "outputs": [
    {
     "data": {
      "image/png": "[encoded data removed]",
      "text/plain": [
       "<Figure size 1200x500 with 2 Axes>"
      ]
     },
     "metadata": {},
     "output_type": "display_data"
    }
   ],
   "source": [
    "distribution_plot('engine_size')"
   ]
  },
  {
   "cell_type": "code",
   "execution_count": null,
   "id": "b8dba99f-1786-4545-b9ea-3b31ac8524c4",
   "metadata": {},
   "outputs": [],
   "source": []
  },
  {
   "cell_type": "code",
   "execution_count": 54,
   "id": "2325c50d-12e3-4fad-9994-44c647f98ca2",
   "metadata": {},
   "outputs": [],
   "source": [
    "## Handle outliers in 'gears' column"
   ]
  },
  {
   "cell_type": "code",
   "execution_count": 55,
   "id": "084394fe-514c-42d4-b3f8-d679af7e3bea",
   "metadata": {},
   "outputs": [
    {
     "data": {
      "text/plain": [
       "gears\n",
       "6.0     14887\n",
       "5.0      6408\n",
       "8.0      2831\n",
       "7.0      1812\n",
       "1.0       696\n",
       "9.0       673\n",
       "10.0      112\n",
       "4.0        99\n",
       "0.0        31\n",
       "2.0         3\n",
       "Name: count, dtype: int64"
      ]
     },
     "execution_count": 55,
     "metadata": {},
     "output_type": "execute_result"
    }
   ],
   "source": [
    "df.gears.value_counts()"
   ]
  },
  {
   "cell_type": "code",
   "execution_count": 56,
   "id": "abea5330-8372-4243-93fe-238a02c99814",
   "metadata": {},
   "outputs": [],
   "source": [
    "df.loc[df[df.fuel_type == 'Electric'].index, 'gears'] = 1.0"
   ]
  },
  {
   "cell_type": "code",
   "execution_count": 57,
   "id": "0cc6a071-526d-4a05-b6bf-b307df2f4c55",
   "metadata": {},
   "outputs": [],
   "source": [
    "df.loc[df[df.gears == 9].index, 'gears'] = 8.0"
   ]
  },
  {
   "cell_type": "code",
   "execution_count": 58,
   "id": "2f5da4bd-0c31-46cc-a68b-8b36fd783473",
   "metadata": {},
   "outputs": [],
   "source": [
    "df.loc[df[(df.gears == 0) | (df.gears > 8)].index, 'gears'] = np.nan"
   ]
  },
  {
   "cell_type": "code",
   "execution_count": 59,
   "id": "6c993385-e868-47ff-acb5-a2da7b03c5a2",
   "metadata": {},
   "outputs": [],
   "source": [
    "df.gears = df.gears.fillna(df.groupby(['make_model'])['gears'].transform(lambda x: x.median()))"
   ]
  },
  {
   "cell_type": "code",
   "execution_count": 60,
   "id": "cc13d227-c9a2-4038-8fa3-451ec7f46981",
   "metadata": {},
   "outputs": [
    {
     "data": {
      "text/html": [
       "<div>\n",
       "<style scoped>\n",
       "    .dataframe tbody tr th:only-of-type {\n",
       "        vertical-align: middle;\n",
       "    }\n",
       "\n",
       "    .dataframe tbody tr th {\n",
       "        vertical-align: top;\n",
       "    }\n",
       "\n",
       "    .dataframe thead th {\n",
       "        text-align: right;\n",
       "    }\n",
       "</style>\n",
       "<table border=\"1\" class=\"dataframe\">\n",
       "  <thead>\n",
       "    <tr style=\"text-align: right;\">\n",
       "      <th></th>\n",
       "      <th>make_model</th>\n",
       "      <th>make</th>\n",
       "      <th>model</th>\n",
       "      <th>price</th>\n",
       "      <th>body_type</th>\n",
       "      <th>type</th>\n",
       "      <th>doors</th>\n",
       "      <th>origin_country</th>\n",
       "      <th>warranty</th>\n",
       "      <th>mileage</th>\n",
       "      <th>first_registration</th>\n",
       "      <th>gearbox</th>\n",
       "      <th>fuel_type</th>\n",
       "      <th>color</th>\n",
       "      <th>paint</th>\n",
       "      <th>seller</th>\n",
       "      <th>seats</th>\n",
       "      <th>engine_size</th>\n",
       "      <th>gears</th>\n",
       "      <th>drivetrain</th>\n",
       "      <th>cylinders</th>\n",
       "      <th>empty_weight</th>\n",
       "      <th>full_service_history</th>\n",
       "      <th>emission_class</th>\n",
       "      <th>upholstery_color</th>\n",
       "      <th>upholstery</th>\n",
       "      <th>previous_owner</th>\n",
       "      <th>horse_power</th>\n",
       "      <th>fuel_consumption</th>\n",
       "      <th>comfort_convenience</th>\n",
       "      <th>safety_security</th>\n",
       "      <th>entertainment</th>\n",
       "      <th>extras</th>\n",
       "      <th>current_location</th>\n",
       "    </tr>\n",
       "  </thead>\n",
       "  <tbody>\n",
       "    <tr>\n",
       "      <th>9513</th>\n",
       "      <td>Fiat 500</td>\n",
       "      <td>Fiat</td>\n",
       "      <td>500</td>\n",
       "      <td>10950.0</td>\n",
       "      <td>Compact</td>\n",
       "      <td>Used</td>\n",
       "      <td>5.0</td>\n",
       "      <td>Spain</td>\n",
       "      <td>Yes</td>\n",
       "      <td>13500.0</td>\n",
       "      <td>2011.0</td>\n",
       "      <td>Manual</td>\n",
       "      <td>Benzine</td>\n",
       "      <td>White</td>\n",
       "      <td>Uni/basic</td>\n",
       "      <td>Dealer</td>\n",
       "      <td>4.0</td>\n",
       "      <td>0.9</td>\n",
       "      <td>2.0</td>\n",
       "      <td>Front</td>\n",
       "      <td>3.0</td>\n",
       "      <td>972.575163</td>\n",
       "      <td>Yes</td>\n",
       "      <td>Under Class</td>\n",
       "      <td>Black</td>\n",
       "      <td>Cloth</td>\n",
       "      <td>2.0</td>\n",
       "      <td>100.0</td>\n",
       "      <td>4.606612</td>\n",
       "      <td>Standard</td>\n",
       "      <td>Standard</td>\n",
       "      <td>Standard</td>\n",
       "      <td>Standard</td>\n",
       "      <td>DE</td>\n",
       "    </tr>\n",
       "    <tr>\n",
       "      <th>20646</th>\n",
       "      <td>Nissan Micra</td>\n",
       "      <td>Nissan</td>\n",
       "      <td>Micra</td>\n",
       "      <td>8990.0</td>\n",
       "      <td>Sedan</td>\n",
       "      <td>Used</td>\n",
       "      <td>5.0</td>\n",
       "      <td>Spain</td>\n",
       "      <td>No</td>\n",
       "      <td>114984.0</td>\n",
       "      <td>2015.0</td>\n",
       "      <td>Manual</td>\n",
       "      <td>Benzine</td>\n",
       "      <td>White</td>\n",
       "      <td>Uni/basic</td>\n",
       "      <td>Dealer</td>\n",
       "      <td>5.0</td>\n",
       "      <td>1.2</td>\n",
       "      <td>2.0</td>\n",
       "      <td>Front</td>\n",
       "      <td>4.0</td>\n",
       "      <td>1072.714286</td>\n",
       "      <td>No</td>\n",
       "      <td>Under Class</td>\n",
       "      <td>Black</td>\n",
       "      <td>Cloth</td>\n",
       "      <td>2.0</td>\n",
       "      <td>69.0</td>\n",
       "      <td>5.000000</td>\n",
       "      <td>Standard</td>\n",
       "      <td>Standard</td>\n",
       "      <td>Standard</td>\n",
       "      <td>Standard</td>\n",
       "      <td>ES</td>\n",
       "    </tr>\n",
       "    <tr>\n",
       "      <th>20683</th>\n",
       "      <td>Nissan Micra</td>\n",
       "      <td>Nissan</td>\n",
       "      <td>Micra</td>\n",
       "      <td>8990.0</td>\n",
       "      <td>Sedan</td>\n",
       "      <td>Used</td>\n",
       "      <td>5.0</td>\n",
       "      <td>Spain</td>\n",
       "      <td>No</td>\n",
       "      <td>114984.0</td>\n",
       "      <td>2015.0</td>\n",
       "      <td>Manual</td>\n",
       "      <td>Benzine</td>\n",
       "      <td>White</td>\n",
       "      <td>Uni/basic</td>\n",
       "      <td>Dealer</td>\n",
       "      <td>5.0</td>\n",
       "      <td>1.2</td>\n",
       "      <td>2.0</td>\n",
       "      <td>Front</td>\n",
       "      <td>4.0</td>\n",
       "      <td>1072.714286</td>\n",
       "      <td>No</td>\n",
       "      <td>Under Class</td>\n",
       "      <td>Black</td>\n",
       "      <td>Cloth</td>\n",
       "      <td>2.0</td>\n",
       "      <td>69.0</td>\n",
       "      <td>5.000000</td>\n",
       "      <td>Standard</td>\n",
       "      <td>Standard</td>\n",
       "      <td>Standard</td>\n",
       "      <td>Standard</td>\n",
       "      <td>ES</td>\n",
       "    </tr>\n",
       "  </tbody>\n",
       "</table>\n",
       "</div>"
      ],
      "text/plain": [
       "         make_model    make  model    price body_type  type  doors  \\\n",
       "9513       Fiat 500    Fiat    500  10950.0   Compact  Used    5.0   \n",
       "20646  Nissan Micra  Nissan  Micra   8990.0     Sedan  Used    5.0   \n",
       "20683  Nissan Micra  Nissan  Micra   8990.0     Sedan  Used    5.0   \n",
       "\n",
       "      origin_country warranty   mileage  first_registration gearbox fuel_type  \\\n",
       "9513           Spain      Yes   13500.0              2011.0  Manual   Benzine   \n",
       "20646          Spain       No  114984.0              2015.0  Manual   Benzine   \n",
       "20683          Spain       No  114984.0              2015.0  Manual   Benzine   \n",
       "\n",
       "       color      paint  seller  seats  engine_size  gears drivetrain  \\\n",
       "9513   White  Uni/basic  Dealer    4.0          0.9    2.0      Front   \n",
       "20646  White  Uni/basic  Dealer    5.0          1.2    2.0      Front   \n",
       "20683  White  Uni/basic  Dealer    5.0          1.2    2.0      Front   \n",
       "\n",
       "       cylinders  empty_weight full_service_history emission_class  \\\n",
       "9513         3.0    972.575163                  Yes    Under Class   \n",
       "20646        4.0   1072.714286                   No    Under Class   \n",
       "20683        4.0   1072.714286                   No    Under Class   \n",
       "\n",
       "      upholstery_color upholstery  previous_owner  horse_power  \\\n",
       "9513             Black      Cloth             2.0        100.0   \n",
       "20646            Black      Cloth             2.0         69.0   \n",
       "20683            Black      Cloth             2.0         69.0   \n",
       "\n",
       "       fuel_consumption comfort_convenience safety_security entertainment  \\\n",
       "9513           4.606612            Standard        Standard      Standard   \n",
       "20646          5.000000            Standard        Standard      Standard   \n",
       "20683          5.000000            Standard        Standard      Standard   \n",
       "\n",
       "         extras current_location  \n",
       "9513   Standard               DE  \n",
       "20646  Standard               ES  \n",
       "20683  Standard               ES  "
      ]
     },
     "execution_count": 60,
     "metadata": {},
     "output_type": "execute_result"
    }
   ],
   "source": [
    "df[df.gears == 2]"
   ]
  },
  {
   "cell_type": "code",
   "execution_count": 61,
   "id": "58f16b4f-3354-492a-b10f-cf5454c01f09",
   "metadata": {},
   "outputs": [],
   "source": [
    "df.drop(df[df.gears == 2].index, axis=0, inplace=True)"
   ]
  },
  {
   "cell_type": "code",
   "execution_count": 62,
   "id": "de4fdc01-72ba-4205-b551-79cedae26ecf",
   "metadata": {},
   "outputs": [
    {
     "data": {
      "image/png": "[encoded data removed]",
      "text/plain": [
       "<Figure size 1200x500 with 2 Axes>"
      ]
     },
     "metadata": {},
     "output_type": "display_data"
    }
   ],
   "source": [
    "distribution_plot('gears')"
   ]
  },
  {
   "cell_type": "code",
   "execution_count": null,
   "id": "42b47cd3-b090-4124-92af-739621c14ffb",
   "metadata": {},
   "outputs": [],
   "source": []
  },
  {
   "cell_type": "code",
   "execution_count": 63,
   "id": "273fdd60-4b7e-4219-be89-fe6812da7f94",
   "metadata": {},
   "outputs": [],
   "source": [
    "## Handle outliers in 'cylinders' column"
   ]
  },
  {
   "cell_type": "code",
   "execution_count": 64,
   "id": "3363274d-1021-4fcb-a10b-4a06c39d2866",
   "metadata": {},
   "outputs": [
    {
     "data": {
      "text/plain": [
       "cylinders\n",
       "4.0     18962\n",
       "3.0      5190\n",
       "6.0      1200\n",
       "5.0       988\n",
       "8.0       758\n",
       "2.0       174\n",
       "1.0       149\n",
       "0.0       104\n",
       "7.0        12\n",
       "12.0        9\n",
       "11.0        1\n",
       "26.0        1\n",
       "16.0        1\n",
       "Name: count, dtype: int64"
      ]
     },
     "execution_count": 64,
     "metadata": {},
     "output_type": "execute_result"
    }
   ],
   "source": [
    "df.cylinders.value_counts()"
   ]
  },
  {
   "cell_type": "code",
   "execution_count": 65,
   "id": "6936a820-df02-4895-8471-976b3b9c8033",
   "metadata": {},
   "outputs": [
    {
     "data": {
      "text/html": [
       "<div>\n",
       "<style scoped>\n",
       "    .dataframe tbody tr th:only-of-type {\n",
       "        vertical-align: middle;\n",
       "    }\n",
       "\n",
       "    .dataframe tbody tr th {\n",
       "        vertical-align: top;\n",
       "    }\n",
       "\n",
       "    .dataframe thead th {\n",
       "        text-align: right;\n",
       "    }\n",
       "</style>\n",
       "<table border=\"1\" class=\"dataframe\">\n",
       "  <thead>\n",
       "    <tr style=\"text-align: right;\">\n",
       "      <th></th>\n",
       "      <th>make_model</th>\n",
       "      <th>make</th>\n",
       "      <th>model</th>\n",
       "      <th>price</th>\n",
       "      <th>body_type</th>\n",
       "      <th>type</th>\n",
       "      <th>doors</th>\n",
       "      <th>origin_country</th>\n",
       "      <th>warranty</th>\n",
       "      <th>mileage</th>\n",
       "      <th>first_registration</th>\n",
       "      <th>gearbox</th>\n",
       "      <th>fuel_type</th>\n",
       "      <th>color</th>\n",
       "      <th>paint</th>\n",
       "      <th>seller</th>\n",
       "      <th>seats</th>\n",
       "      <th>engine_size</th>\n",
       "      <th>gears</th>\n",
       "      <th>drivetrain</th>\n",
       "      <th>cylinders</th>\n",
       "      <th>empty_weight</th>\n",
       "      <th>full_service_history</th>\n",
       "      <th>emission_class</th>\n",
       "      <th>upholstery_color</th>\n",
       "      <th>upholstery</th>\n",
       "      <th>previous_owner</th>\n",
       "      <th>horse_power</th>\n",
       "      <th>fuel_consumption</th>\n",
       "      <th>comfort_convenience</th>\n",
       "      <th>safety_security</th>\n",
       "      <th>entertainment</th>\n",
       "      <th>extras</th>\n",
       "      <th>current_location</th>\n",
       "    </tr>\n",
       "  </thead>\n",
       "  <tbody>\n",
       "    <tr>\n",
       "      <th>456</th>\n",
       "      <td>Mercedes-Benz SL 55 AMG</td>\n",
       "      <td>Mercedes-Benz</td>\n",
       "      <td>SL 55 AMG</td>\n",
       "      <td>57700.0</td>\n",
       "      <td>Convertible</td>\n",
       "      <td>Used</td>\n",
       "      <td>2.0</td>\n",
       "      <td>Spain</td>\n",
       "      <td>No</td>\n",
       "      <td>143000.0</td>\n",
       "      <td>2007.0</td>\n",
       "      <td>Automatic</td>\n",
       "      <td>Benzine</td>\n",
       "      <td>Beige</td>\n",
       "      <td>Metallic</td>\n",
       "      <td>Dealer</td>\n",
       "      <td>2.0</td>\n",
       "      <td>5.4</td>\n",
       "      <td>5.0</td>\n",
       "      <td>Front</td>\n",
       "      <td>12.0</td>\n",
       "      <td>1955.000000</td>\n",
       "      <td>No</td>\n",
       "      <td>Euro 4</td>\n",
       "      <td>Beige</td>\n",
       "      <td>Full Leather</td>\n",
       "      <td>3.0</td>\n",
       "      <td>517.0</td>\n",
       "      <td>13.500000</td>\n",
       "      <td>Deluxe</td>\n",
       "      <td>Premium</td>\n",
       "      <td>Premium</td>\n",
       "      <td>Premium</td>\n",
       "      <td>DE</td>\n",
       "    </tr>\n",
       "    <tr>\n",
       "      <th>604</th>\n",
       "      <td>Mercedes-Benz SL 600</td>\n",
       "      <td>Mercedes-Benz</td>\n",
       "      <td>SL 600</td>\n",
       "      <td>64890.0</td>\n",
       "      <td>Convertible</td>\n",
       "      <td>Used</td>\n",
       "      <td>2.0</td>\n",
       "      <td>Germany</td>\n",
       "      <td>No</td>\n",
       "      <td>56744.0</td>\n",
       "      <td>2008.0</td>\n",
       "      <td>Automatic</td>\n",
       "      <td>Benzine</td>\n",
       "      <td>Silver</td>\n",
       "      <td>Metallic</td>\n",
       "      <td>Dealer</td>\n",
       "      <td>2.0</td>\n",
       "      <td>5.5</td>\n",
       "      <td>5.0</td>\n",
       "      <td>Front</td>\n",
       "      <td>12.0</td>\n",
       "      <td>1972.500000</td>\n",
       "      <td>No</td>\n",
       "      <td>Euro 5</td>\n",
       "      <td>Black</td>\n",
       "      <td>Full Leather</td>\n",
       "      <td>2.0</td>\n",
       "      <td>517.0</td>\n",
       "      <td>13.900000</td>\n",
       "      <td>Premium</td>\n",
       "      <td>Premium</td>\n",
       "      <td>Premium</td>\n",
       "      <td>Standard</td>\n",
       "      <td>DE</td>\n",
       "    </tr>\n",
       "    <tr>\n",
       "      <th>721</th>\n",
       "      <td>Mercedes-Benz SL 600</td>\n",
       "      <td>Mercedes-Benz</td>\n",
       "      <td>SL 600</td>\n",
       "      <td>56479.0</td>\n",
       "      <td>Convertible</td>\n",
       "      <td>Used</td>\n",
       "      <td>2.0</td>\n",
       "      <td>Germany</td>\n",
       "      <td>No</td>\n",
       "      <td>87000.0</td>\n",
       "      <td>2010.0</td>\n",
       "      <td>Automatic</td>\n",
       "      <td>Benzine</td>\n",
       "      <td>Black</td>\n",
       "      <td>Metallic</td>\n",
       "      <td>Dealer</td>\n",
       "      <td>2.0</td>\n",
       "      <td>5.5</td>\n",
       "      <td>5.0</td>\n",
       "      <td>Rear</td>\n",
       "      <td>12.0</td>\n",
       "      <td>2045.000000</td>\n",
       "      <td>Yes</td>\n",
       "      <td>Euro 5</td>\n",
       "      <td>Black</td>\n",
       "      <td>Full Leather</td>\n",
       "      <td>3.0</td>\n",
       "      <td>517.0</td>\n",
       "      <td>13.900000</td>\n",
       "      <td>Premium</td>\n",
       "      <td>Premium</td>\n",
       "      <td>Premium</td>\n",
       "      <td>Standard</td>\n",
       "      <td>DE</td>\n",
       "    </tr>\n",
       "    <tr>\n",
       "      <th>753</th>\n",
       "      <td>Mercedes-Benz SL 600</td>\n",
       "      <td>Mercedes-Benz</td>\n",
       "      <td>SL 600</td>\n",
       "      <td>57500.0</td>\n",
       "      <td>Convertible</td>\n",
       "      <td>Used</td>\n",
       "      <td>2.0</td>\n",
       "      <td>Germany</td>\n",
       "      <td>No</td>\n",
       "      <td>68877.0</td>\n",
       "      <td>2008.0</td>\n",
       "      <td>Automatic</td>\n",
       "      <td>Benzine</td>\n",
       "      <td>Black</td>\n",
       "      <td>Metallic</td>\n",
       "      <td>Dealer</td>\n",
       "      <td>2.0</td>\n",
       "      <td>5.5</td>\n",
       "      <td>5.0</td>\n",
       "      <td>Rear</td>\n",
       "      <td>12.0</td>\n",
       "      <td>1945.000000</td>\n",
       "      <td>Yes</td>\n",
       "      <td>Euro 4</td>\n",
       "      <td>Brown</td>\n",
       "      <td>Full Leather</td>\n",
       "      <td>1.0</td>\n",
       "      <td>517.0</td>\n",
       "      <td>13.900000</td>\n",
       "      <td>Premium</td>\n",
       "      <td>Standard</td>\n",
       "      <td>Standard</td>\n",
       "      <td>Standard</td>\n",
       "      <td>NL</td>\n",
       "    </tr>\n",
       "    <tr>\n",
       "      <th>887</th>\n",
       "      <td>Mercedes-Benz CL 600</td>\n",
       "      <td>Mercedes-Benz</td>\n",
       "      <td>CL 600</td>\n",
       "      <td>24999.0</td>\n",
       "      <td>Coupe</td>\n",
       "      <td>Used</td>\n",
       "      <td>2.0</td>\n",
       "      <td>Germany</td>\n",
       "      <td>No</td>\n",
       "      <td>130000.0</td>\n",
       "      <td>2008.0</td>\n",
       "      <td>Automatic</td>\n",
       "      <td>Benzine</td>\n",
       "      <td>Silver</td>\n",
       "      <td>Metallic</td>\n",
       "      <td>Dealer</td>\n",
       "      <td>4.0</td>\n",
       "      <td>5.5</td>\n",
       "      <td>5.0</td>\n",
       "      <td>Rear</td>\n",
       "      <td>12.0</td>\n",
       "      <td>1955.000000</td>\n",
       "      <td>Yes</td>\n",
       "      <td>Under Class</td>\n",
       "      <td>Black</td>\n",
       "      <td>Full Leather</td>\n",
       "      <td>4.0</td>\n",
       "      <td>517.0</td>\n",
       "      <td>14.300000</td>\n",
       "      <td>Premium</td>\n",
       "      <td>Premium</td>\n",
       "      <td>Premium</td>\n",
       "      <td>Standard</td>\n",
       "      <td>DE</td>\n",
       "    </tr>\n",
       "    <tr>\n",
       "      <th>1047</th>\n",
       "      <td>Mercedes-Benz CL 600</td>\n",
       "      <td>Mercedes-Benz</td>\n",
       "      <td>CL 600</td>\n",
       "      <td>29990.0</td>\n",
       "      <td>Coupe</td>\n",
       "      <td>Used</td>\n",
       "      <td>2.0</td>\n",
       "      <td>Germany</td>\n",
       "      <td>No</td>\n",
       "      <td>69253.0</td>\n",
       "      <td>2001.0</td>\n",
       "      <td>Automatic</td>\n",
       "      <td>Benzine</td>\n",
       "      <td>Beige</td>\n",
       "      <td>Metallic</td>\n",
       "      <td>Dealer</td>\n",
       "      <td>4.0</td>\n",
       "      <td>5.7</td>\n",
       "      <td>5.0</td>\n",
       "      <td>Rear</td>\n",
       "      <td>12.0</td>\n",
       "      <td>1955.000000</td>\n",
       "      <td>Yes</td>\n",
       "      <td>Euro 3</td>\n",
       "      <td>Beige</td>\n",
       "      <td>Full Leather</td>\n",
       "      <td>1.0</td>\n",
       "      <td>517.0</td>\n",
       "      <td>13.400000</td>\n",
       "      <td>Premium</td>\n",
       "      <td>Premium</td>\n",
       "      <td>Standard</td>\n",
       "      <td>Standard</td>\n",
       "      <td>DE</td>\n",
       "    </tr>\n",
       "    <tr>\n",
       "      <th>1092</th>\n",
       "      <td>Mercedes-Benz S 65 AMG</td>\n",
       "      <td>Mercedes-Benz</td>\n",
       "      <td>S 65 AMG</td>\n",
       "      <td>97870.0</td>\n",
       "      <td>Coupe</td>\n",
       "      <td>Used</td>\n",
       "      <td>3.0</td>\n",
       "      <td>Germany</td>\n",
       "      <td>Yes</td>\n",
       "      <td>115000.0</td>\n",
       "      <td>2016.0</td>\n",
       "      <td>Automatic</td>\n",
       "      <td>Benzine</td>\n",
       "      <td>Black</td>\n",
       "      <td>Metallic</td>\n",
       "      <td>Dealer</td>\n",
       "      <td>4.0</td>\n",
       "      <td>5.9</td>\n",
       "      <td>7.0</td>\n",
       "      <td>Rear</td>\n",
       "      <td>12.0</td>\n",
       "      <td>2215.000000</td>\n",
       "      <td>Yes</td>\n",
       "      <td>Euro 6</td>\n",
       "      <td>Black</td>\n",
       "      <td>Full Leather</td>\n",
       "      <td>1.0</td>\n",
       "      <td>630.0</td>\n",
       "      <td>11.900000</td>\n",
       "      <td>Deluxe</td>\n",
       "      <td>Deluxe</td>\n",
       "      <td>Premium</td>\n",
       "      <td>Standard</td>\n",
       "      <td>DE</td>\n",
       "    </tr>\n",
       "    <tr>\n",
       "      <th>1566</th>\n",
       "      <td>Mercedes-Benz G 65 AMG</td>\n",
       "      <td>Mercedes-Benz</td>\n",
       "      <td>G 65 AMG</td>\n",
       "      <td>159999.0</td>\n",
       "      <td>Off-Road/Pick-up</td>\n",
       "      <td>Used</td>\n",
       "      <td>5.0</td>\n",
       "      <td>Germany</td>\n",
       "      <td>No</td>\n",
       "      <td>44500.0</td>\n",
       "      <td>2013.0</td>\n",
       "      <td>Automatic</td>\n",
       "      <td>Benzine</td>\n",
       "      <td>Brown</td>\n",
       "      <td>Uni/basic</td>\n",
       "      <td>Dealer</td>\n",
       "      <td>5.0</td>\n",
       "      <td>5.9</td>\n",
       "      <td>7.0</td>\n",
       "      <td>4WD</td>\n",
       "      <td>12.0</td>\n",
       "      <td>2081.250000</td>\n",
       "      <td>Yes</td>\n",
       "      <td>Under Class</td>\n",
       "      <td>Brown</td>\n",
       "      <td>Full Leather</td>\n",
       "      <td>2.0</td>\n",
       "      <td>630.0</td>\n",
       "      <td>8.750000</td>\n",
       "      <td>Deluxe</td>\n",
       "      <td>Premium</td>\n",
       "      <td>Standard</td>\n",
       "      <td>Premium</td>\n",
       "      <td>DE</td>\n",
       "    </tr>\n",
       "    <tr>\n",
       "      <th>2027</th>\n",
       "      <td>Mercedes-Benz S 600</td>\n",
       "      <td>Mercedes-Benz</td>\n",
       "      <td>S 600</td>\n",
       "      <td>38800.0</td>\n",
       "      <td>Sedan</td>\n",
       "      <td>Used</td>\n",
       "      <td>4.0</td>\n",
       "      <td>Spain</td>\n",
       "      <td>No</td>\n",
       "      <td>95417.0</td>\n",
       "      <td>2012.0</td>\n",
       "      <td>Automatic</td>\n",
       "      <td>Benzine</td>\n",
       "      <td>Brown</td>\n",
       "      <td>Metallic</td>\n",
       "      <td>Dealer</td>\n",
       "      <td>5.0</td>\n",
       "      <td>5.5</td>\n",
       "      <td>5.0</td>\n",
       "      <td>Rear</td>\n",
       "      <td>12.0</td>\n",
       "      <td>2210.000000</td>\n",
       "      <td>No</td>\n",
       "      <td>Under Class</td>\n",
       "      <td>Beige</td>\n",
       "      <td>Full Leather</td>\n",
       "      <td>2.0</td>\n",
       "      <td>517.0</td>\n",
       "      <td>14.300000</td>\n",
       "      <td>Standard</td>\n",
       "      <td>Standard</td>\n",
       "      <td>Standard</td>\n",
       "      <td>Standard</td>\n",
       "      <td>ES</td>\n",
       "    </tr>\n",
       "    <tr>\n",
       "      <th>2113</th>\n",
       "      <td>Mercedes-Benz S 600</td>\n",
       "      <td>Mercedes-Benz</td>\n",
       "      <td>S 600</td>\n",
       "      <td>71990.0</td>\n",
       "      <td>Sedan</td>\n",
       "      <td>Used</td>\n",
       "      <td>4.0</td>\n",
       "      <td>Germany</td>\n",
       "      <td>Yes</td>\n",
       "      <td>160702.0</td>\n",
       "      <td>2015.0</td>\n",
       "      <td>Automatic</td>\n",
       "      <td>Benzine</td>\n",
       "      <td>Black</td>\n",
       "      <td>Metallic</td>\n",
       "      <td>Dealer</td>\n",
       "      <td>5.0</td>\n",
       "      <td>5.9</td>\n",
       "      <td>6.0</td>\n",
       "      <td>4WD</td>\n",
       "      <td>11.0</td>\n",
       "      <td>2210.000000</td>\n",
       "      <td>Yes</td>\n",
       "      <td>Euro 6</td>\n",
       "      <td>Beige</td>\n",
       "      <td>Full Leather</td>\n",
       "      <td>1.0</td>\n",
       "      <td>530.0</td>\n",
       "      <td>11.500000</td>\n",
       "      <td>Deluxe</td>\n",
       "      <td>Deluxe</td>\n",
       "      <td>Premium</td>\n",
       "      <td>Standard</td>\n",
       "      <td>DE</td>\n",
       "    </tr>\n",
       "    <tr>\n",
       "      <th>5836</th>\n",
       "      <td>Renault Megane</td>\n",
       "      <td>Renault</td>\n",
       "      <td>Megane</td>\n",
       "      <td>23900.0</td>\n",
       "      <td>Coupe</td>\n",
       "      <td>Used</td>\n",
       "      <td>2.0</td>\n",
       "      <td>Germany</td>\n",
       "      <td>No</td>\n",
       "      <td>2800.0</td>\n",
       "      <td>2013.0</td>\n",
       "      <td>Manual</td>\n",
       "      <td>Benzine</td>\n",
       "      <td>Black</td>\n",
       "      <td>Uni/basic</td>\n",
       "      <td>Dealer</td>\n",
       "      <td>5.0</td>\n",
       "      <td>1.9</td>\n",
       "      <td>6.0</td>\n",
       "      <td>Front</td>\n",
       "      <td>26.0</td>\n",
       "      <td>1341.817518</td>\n",
       "      <td>No</td>\n",
       "      <td>Under Class</td>\n",
       "      <td>Black</td>\n",
       "      <td>Full Leather</td>\n",
       "      <td>2.0</td>\n",
       "      <td>16.0</td>\n",
       "      <td>7.397222</td>\n",
       "      <td>Standard</td>\n",
       "      <td>Standard</td>\n",
       "      <td>Standard</td>\n",
       "      <td>Standard</td>\n",
       "      <td>FR</td>\n",
       "    </tr>\n",
       "    <tr>\n",
       "      <th>24946</th>\n",
       "      <td>Hyundai Matrix</td>\n",
       "      <td>Hyundai</td>\n",
       "      <td>Matrix</td>\n",
       "      <td>1250.0</td>\n",
       "      <td>Sedan</td>\n",
       "      <td>Used</td>\n",
       "      <td>5.0</td>\n",
       "      <td>Germany</td>\n",
       "      <td>No</td>\n",
       "      <td>175214.0</td>\n",
       "      <td>2004.0</td>\n",
       "      <td>Manual</td>\n",
       "      <td>Benzine</td>\n",
       "      <td>Blue</td>\n",
       "      <td>Metallic</td>\n",
       "      <td>Dealer</td>\n",
       "      <td>5.0</td>\n",
       "      <td>1.5</td>\n",
       "      <td>5.0</td>\n",
       "      <td>Front</td>\n",
       "      <td>16.0</td>\n",
       "      <td>1380.192652</td>\n",
       "      <td>No</td>\n",
       "      <td>Euro 4</td>\n",
       "      <td>Grey</td>\n",
       "      <td>Cloth</td>\n",
       "      <td>1.0</td>\n",
       "      <td>105.0</td>\n",
       "      <td>5.000000</td>\n",
       "      <td>Standard</td>\n",
       "      <td>Standard</td>\n",
       "      <td>Standard</td>\n",
       "      <td>Standard</td>\n",
       "      <td>DE</td>\n",
       "    </tr>\n",
       "  </tbody>\n",
       "</table>\n",
       "</div>"
      ],
      "text/plain": [
       "                    make_model           make      model     price  \\\n",
       "456    Mercedes-Benz SL 55 AMG  Mercedes-Benz  SL 55 AMG   57700.0   \n",
       "604       Mercedes-Benz SL 600  Mercedes-Benz     SL 600   64890.0   \n",
       "721       Mercedes-Benz SL 600  Mercedes-Benz     SL 600   56479.0   \n",
       "753       Mercedes-Benz SL 600  Mercedes-Benz     SL 600   57500.0   \n",
       "887       Mercedes-Benz CL 600  Mercedes-Benz     CL 600   24999.0   \n",
       "1047      Mercedes-Benz CL 600  Mercedes-Benz     CL 600   29990.0   \n",
       "1092    Mercedes-Benz S 65 AMG  Mercedes-Benz   S 65 AMG   97870.0   \n",
       "1566    Mercedes-Benz G 65 AMG  Mercedes-Benz   G 65 AMG  159999.0   \n",
       "2027       Mercedes-Benz S 600  Mercedes-Benz      S 600   38800.0   \n",
       "2113       Mercedes-Benz S 600  Mercedes-Benz      S 600   71990.0   \n",
       "5836            Renault Megane        Renault     Megane   23900.0   \n",
       "24946           Hyundai Matrix        Hyundai     Matrix    1250.0   \n",
       "\n",
       "              body_type  type  doors origin_country warranty   mileage  \\\n",
       "456         Convertible  Used    2.0          Spain       No  143000.0   \n",
       "604         Convertible  Used    2.0        Germany       No   56744.0   \n",
       "721         Convertible  Used    2.0        Germany       No   87000.0   \n",
       "753         Convertible  Used    2.0        Germany       No   68877.0   \n",
       "887               Coupe  Used    2.0        Germany       No  130000.0   \n",
       "1047              Coupe  Used    2.0        Germany       No   69253.0   \n",
       "1092              Coupe  Used    3.0        Germany      Yes  115000.0   \n",
       "1566   Off-Road/Pick-up  Used    5.0        Germany       No   44500.0   \n",
       "2027              Sedan  Used    4.0          Spain       No   95417.0   \n",
       "2113              Sedan  Used    4.0        Germany      Yes  160702.0   \n",
       "5836              Coupe  Used    2.0        Germany       No    2800.0   \n",
       "24946             Sedan  Used    5.0        Germany       No  175214.0   \n",
       "\n",
       "       first_registration    gearbox fuel_type   color      paint  seller  \\\n",
       "456                2007.0  Automatic   Benzine   Beige   Metallic  Dealer   \n",
       "604                2008.0  Automatic   Benzine  Silver   Metallic  Dealer   \n",
       "721                2010.0  Automatic   Benzine   Black   Metallic  Dealer   \n",
       "753                2008.0  Automatic   Benzine   Black   Metallic  Dealer   \n",
       "887                2008.0  Automatic   Benzine  Silver   Metallic  Dealer   \n",
       "1047               2001.0  Automatic   Benzine   Beige   Metallic  Dealer   \n",
       "1092               2016.0  Automatic   Benzine   Black   Metallic  Dealer   \n",
       "1566               2013.0  Automatic   Benzine   Brown  Uni/basic  Dealer   \n",
       "2027               2012.0  Automatic   Benzine   Brown   Metallic  Dealer   \n",
       "2113               2015.0  Automatic   Benzine   Black   Metallic  Dealer   \n",
       "5836               2013.0     Manual   Benzine   Black  Uni/basic  Dealer   \n",
       "24946              2004.0     Manual   Benzine    Blue   Metallic  Dealer   \n",
       "\n",
       "       seats  engine_size  gears drivetrain  cylinders  empty_weight  \\\n",
       "456      2.0          5.4    5.0      Front       12.0   1955.000000   \n",
       "604      2.0          5.5    5.0      Front       12.0   1972.500000   \n",
       "721      2.0          5.5    5.0       Rear       12.0   2045.000000   \n",
       "753      2.0          5.5    5.0       Rear       12.0   1945.000000   \n",
       "887      4.0          5.5    5.0       Rear       12.0   1955.000000   \n",
       "1047     4.0          5.7    5.0       Rear       12.0   1955.000000   \n",
       "1092     4.0          5.9    7.0       Rear       12.0   2215.000000   \n",
       "1566     5.0          5.9    7.0        4WD       12.0   2081.250000   \n",
       "2027     5.0          5.5    5.0       Rear       12.0   2210.000000   \n",
       "2113     5.0          5.9    6.0        4WD       11.0   2210.000000   \n",
       "5836     5.0          1.9    6.0      Front       26.0   1341.817518   \n",
       "24946    5.0          1.5    5.0      Front       16.0   1380.192652   \n",
       "\n",
       "      full_service_history emission_class upholstery_color    upholstery  \\\n",
       "456                     No         Euro 4            Beige  Full Leather   \n",
       "604                     No         Euro 5            Black  Full Leather   \n",
       "721                    Yes         Euro 5            Black  Full Leather   \n",
       "753                    Yes         Euro 4            Brown  Full Leather   \n",
       "887                    Yes    Under Class            Black  Full Leather   \n",
       "1047                   Yes         Euro 3            Beige  Full Leather   \n",
       "1092                   Yes         Euro 6            Black  Full Leather   \n",
       "1566                   Yes    Under Class            Brown  Full Leather   \n",
       "2027                    No    Under Class            Beige  Full Leather   \n",
       "2113                   Yes         Euro 6            Beige  Full Leather   \n",
       "5836                    No    Under Class            Black  Full Leather   \n",
       "24946                   No         Euro 4             Grey         Cloth   \n",
       "\n",
       "       previous_owner  horse_power  fuel_consumption comfort_convenience  \\\n",
       "456               3.0        517.0         13.500000              Deluxe   \n",
       "604               2.0        517.0         13.900000             Premium   \n",
       "721               3.0        517.0         13.900000             Premium   \n",
       "753               1.0        517.0         13.900000             Premium   \n",
       "887               4.0        517.0         14.300000             Premium   \n",
       "1047              1.0        517.0         13.400000             Premium   \n",
       "1092              1.0        630.0         11.900000              Deluxe   \n",
       "1566              2.0        630.0          8.750000              Deluxe   \n",
       "2027              2.0        517.0         14.300000            Standard   \n",
       "2113              1.0        530.0         11.500000              Deluxe   \n",
       "5836              2.0         16.0          7.397222            Standard   \n",
       "24946             1.0        105.0          5.000000            Standard   \n",
       "\n",
       "      safety_security entertainment    extras current_location  \n",
       "456           Premium       Premium   Premium               DE  \n",
       "604           Premium       Premium  Standard               DE  \n",
       "721           Premium       Premium  Standard               DE  \n",
       "753          Standard      Standard  Standard               NL  \n",
       "887           Premium       Premium  Standard               DE  \n",
       "1047          Premium      Standard  Standard               DE  \n",
       "1092           Deluxe       Premium  Standard               DE  \n",
       "1566          Premium      Standard   Premium               DE  \n",
       "2027         Standard      Standard  Standard               ES  \n",
       "2113           Deluxe       Premium  Standard               DE  \n",
       "5836         Standard      Standard  Standard               FR  \n",
       "24946        Standard      Standard  Standard               DE  "
      ]
     },
     "execution_count": 65,
     "metadata": {},
     "output_type": "execute_result"
    }
   ],
   "source": [
    "df[df.cylinders.isin([11, 12, 16, 26])]"
   ]
  },
  {
   "cell_type": "code",
   "execution_count": null,
   "id": "6ab926c5-248d-4c16-988c-5b73739e5aaa",
   "metadata": {},
   "outputs": [],
   "source": []
  },
  {
   "cell_type": "code",
   "execution_count": 66,
   "id": "beba6695-cb42-449c-8313-c8e8eae758fa",
   "metadata": {},
   "outputs": [],
   "source": [
    "## Handle outliers in 'empty_weight' column"
   ]
  },
  {
   "cell_type": "code",
   "execution_count": 67,
   "id": "135bb280-f337-4859-b985-6365ea1238b4",
   "metadata": {},
   "outputs": [
    {
     "data": {
      "image/png": "[encoded data removed]",
      "text/plain": [
       "<Figure size 1200x500 with 2 Axes>"
      ]
     },
     "metadata": {},
     "output_type": "display_data"
    }
   ],
   "source": [
    "distribution_plot('empty_weight')"
   ]
  },
  {
   "cell_type": "code",
   "execution_count": 68,
   "id": "fed1c222-9d4e-400c-b9a7-72192d85dd29",
   "metadata": {},
   "outputs": [
    {
     "data": {
      "text/plain": [
       "6869     15590.000000\n",
       "21142    11246.000000\n",
       "1295      3150.000000\n",
       "20037     2900.000000\n",
       "5414      2750.000000\n",
       "17891     2725.000000\n",
       "2371      2712.000000\n",
       "1199      2690.000000\n",
       "2199      2680.000000\n",
       "1628      2680.000000\n",
       "2156      2655.000000\n",
       "17907     2650.000000\n",
       "1381      2621.333333\n",
       "1398      2621.333333\n",
       "1449      2612.000000\n",
       "1481      2610.000000\n",
       "1333      2610.000000\n",
       "1373      2595.000000\n",
       "1270      2595.000000\n",
       "22083     2585.000000\n",
       "Name: empty_weight, dtype: float64"
      ]
     },
     "execution_count": 68,
     "metadata": {},
     "output_type": "execute_result"
    }
   ],
   "source": [
    "df.empty_weight.sort_values(ascending=False).head(20)"
   ]
  },
  {
   "cell_type": "code",
   "execution_count": 69,
   "id": "ac7f717a-579f-4d06-aca1-0302f93e162d",
   "metadata": {},
   "outputs": [],
   "source": [
    "df.drop([6869, 21142], axis=0, inplace=True)"
   ]
  },
  {
   "cell_type": "code",
   "execution_count": 70,
   "id": "378b9dc2-9942-4729-b157-ecfd45582c52",
   "metadata": {},
   "outputs": [
    {
     "data": {
      "image/png": "[encoded data removed]",
      "text/plain": [
       "<Figure size 1200x500 with 2 Axes>"
      ]
     },
     "metadata": {},
     "output_type": "display_data"
    }
   ],
   "source": [
    "distribution_plot('empty_weight')"
   ]
  },
  {
   "cell_type": "code",
   "execution_count": 71,
   "id": "87fe83c5-377d-4afa-935f-5414d0e2c016",
   "metadata": {},
   "outputs": [
    {
     "data": {
      "text/plain": [
       "13995     75.000000\n",
       "6166     347.000000\n",
       "6205     375.000000\n",
       "4886     473.000000\n",
       "4838     517.500000\n",
       "4943     517.500000\n",
       "4188     525.000000\n",
       "5919     532.666667\n",
       "5748     532.666667\n",
       "5140     562.000000\n",
       "17178    695.000000\n",
       "9651     710.000000\n",
       "12148    719.000000\n",
       "7279     765.000000\n",
       "7372     775.000000\n",
       "7422     775.000000\n",
       "17047    775.000000\n",
       "7450     775.000000\n",
       "7469     775.000000\n",
       "7458     780.000000\n",
       "Name: empty_weight, dtype: float64"
      ]
     },
     "execution_count": 71,
     "metadata": {},
     "output_type": "execute_result"
    }
   ],
   "source": [
    "df.empty_weight.sort_values(ascending=True).head(20)"
   ]
  },
  {
   "cell_type": "code",
   "execution_count": 72,
   "id": "eaad8e19-1fa6-4c2f-9b03-d2a508c90a4a",
   "metadata": {},
   "outputs": [],
   "source": [
    "df.drop([13995, 6166, 6205], inplace=True)"
   ]
  },
  {
   "cell_type": "code",
   "execution_count": 73,
   "id": "9bf3cb37-5cfc-452a-b9c6-81c8ceb2861a",
   "metadata": {},
   "outputs": [
    {
     "data": {
      "text/plain": [
       "(27544, 34)"
      ]
     },
     "execution_count": 73,
     "metadata": {},
     "output_type": "execute_result"
    }
   ],
   "source": [
    "df.shape"
   ]
  },
  {
   "cell_type": "code",
   "execution_count": null,
   "id": "feda4ba2-4768-4478-8408-90313e994596",
   "metadata": {},
   "outputs": [],
   "source": []
  },
  {
   "cell_type": "code",
   "execution_count": 74,
   "id": "2ed0d22b-9430-4092-b8ab-f2fd98752e48",
   "metadata": {},
   "outputs": [],
   "source": [
    "## Handle outliers in 'previous_owner' column"
   ]
  },
  {
   "cell_type": "code",
   "execution_count": 75,
   "id": "7fbacd16-ae15-4293-8773-2c3d525ffd65",
   "metadata": {},
   "outputs": [
    {
     "data": {
      "text/plain": [
       "previous_owner\n",
       "1.0     18908\n",
       "2.0      7276\n",
       "3.0       882\n",
       "4.0       270\n",
       "5.0        70\n",
       "6.0        53\n",
       "7.0        47\n",
       "8.0        18\n",
       "9.0        14\n",
       "12.0        3\n",
       "10.0        1\n",
       "14.0        1\n",
       "13.0        1\n",
       "Name: count, dtype: int64"
      ]
     },
     "execution_count": 75,
     "metadata": {},
     "output_type": "execute_result"
    }
   ],
   "source": [
    "df.previous_owner.value_counts()"
   ]
  },
  {
   "cell_type": "code",
   "execution_count": 76,
   "id": "162b848a-3ec8-472b-b617-70734c6982c6",
   "metadata": {},
   "outputs": [
    {
     "data": {
      "text/plain": [
       "Index([ 3177,  6543,  7259,  7327,  7349,  7554,  7828,  9811, 10385, 19405,\n",
       "       25751, 25861, 26067, 26176, 26391, 26495, 26566, 26670, 27820, 28200],\n",
       "      dtype='int64')"
      ]
     },
     "execution_count": 76,
     "metadata": {},
     "output_type": "execute_result"
    }
   ],
   "source": [
    "df[df.previous_owner >= 9].index"
   ]
  },
  {
   "cell_type": "code",
   "execution_count": 77,
   "id": "14e8a67a-a514-47b9-b99c-4a66b155684c",
   "metadata": {},
   "outputs": [],
   "source": [
    "df.drop(df[df.previous_owner >= 9].index, axis=0, inplace=True)"
   ]
  },
  {
   "cell_type": "code",
   "execution_count": 78,
   "id": "81ff0467-5f16-4874-9e94-44e74b619a0e",
   "metadata": {},
   "outputs": [
    {
     "data": {
      "text/plain": [
       "(27524, 34)"
      ]
     },
     "execution_count": 78,
     "metadata": {},
     "output_type": "execute_result"
    }
   ],
   "source": [
    "df.shape"
   ]
  },
  {
   "cell_type": "code",
   "execution_count": null,
   "id": "7d59aaf6-77c9-4671-97e2-2f8743dc6bee",
   "metadata": {},
   "outputs": [],
   "source": []
  },
  {
   "cell_type": "code",
   "execution_count": 79,
   "id": "cf7a9742-ad62-468c-a7ab-ae2f013b5bfe",
   "metadata": {},
   "outputs": [],
   "source": [
    "## Handle outliers in horse_power"
   ]
  },
  {
   "cell_type": "code",
   "execution_count": 80,
   "id": "8c8c5e7a-588f-4c06-9783-8bfd2ce5e29d",
   "metadata": {},
   "outputs": [
    {
     "data": {
      "image/png": "[encoded data removed]",
      "text/plain": [
       "<Figure size 1200x500 with 2 Axes>"
      ]
     },
     "metadata": {},
     "output_type": "display_data"
    }
   ],
   "source": [
    "distribution_plot('horse_power')"
   ]
  },
  {
   "cell_type": "code",
   "execution_count": 81,
   "id": "e5ce07fa-40fb-43cd-93ff-e048209db06d",
   "metadata": {},
   "outputs": [],
   "source": [
    "df.drop(df[df.horse_power < 60].index, axis=0, inplace=True)"
   ]
  },
  {
   "cell_type": "code",
   "execution_count": 82,
   "id": "a0b05feb-bed8-4f29-bcd8-fc965670ce59",
   "metadata": {},
   "outputs": [
    {
     "data": {
      "image/png": "[encoded data removed]",
      "text/plain": [
       "<Figure size 1200x500 with 2 Axes>"
      ]
     },
     "metadata": {},
     "output_type": "display_data"
    }
   ],
   "source": [
    "distribution_plot('horse_power')"
   ]
  },
  {
   "cell_type": "code",
   "execution_count": 83,
   "id": "e205c273-a544-42dc-a320-ac23818affd9",
   "metadata": {},
   "outputs": [
    {
     "data": {
      "text/plain": [
       "count    27522.000000\n",
       "mean       154.489663\n",
       "std         81.960298\n",
       "min         70.000000\n",
       "25%        120.000000\n",
       "50%        122.000000\n",
       "75%        163.000000\n",
       "max        630.000000\n",
       "Name: horse_power, dtype: float64"
      ]
     },
     "execution_count": 83,
     "metadata": {},
     "output_type": "execute_result"
    }
   ],
   "source": [
    "df.horse_power.describe()"
   ]
  },
  {
   "cell_type": "code",
   "execution_count": null,
   "id": "92ee0692-c5cf-4858-9a1d-3d0adc244077",
   "metadata": {},
   "outputs": [],
   "source": []
  },
  {
   "cell_type": "code",
   "execution_count": 84,
   "id": "c5c5787d-0bf8-4545-9440-c38c06af0600",
   "metadata": {},
   "outputs": [],
   "source": [
    "## Handle outliers in 'fuel_consumption' column"
   ]
  },
  {
   "cell_type": "code",
   "execution_count": 85,
   "id": "7d7fb787-46d5-4c71-92cd-e08117fdc925",
   "metadata": {},
   "outputs": [
    {
     "data": {
      "image/png": "[encoded data removed]",
      "text/plain": [
       "<Figure size 1200x500 with 2 Axes>"
      ]
     },
     "metadata": {},
     "output_type": "display_data"
    }
   ],
   "source": [
    "distribution_plot('fuel_consumption')"
   ]
  },
  {
   "cell_type": "code",
   "execution_count": 86,
   "id": "4e9dddd7-b4b4-4d3c-a448-708ca3982020",
   "metadata": {},
   "outputs": [],
   "source": [
    "df.loc[df[(df.fuel_consumption == 0) & ~(df.fuel_type == 'Electric')].index, 'fuel_consumption'] = np.nan"
   ]
  },
  {
   "cell_type": "code",
   "execution_count": 87,
   "id": "25646b6a-4fec-4929-9c51-c106940fad70",
   "metadata": {},
   "outputs": [
    {
     "data": {
      "text/plain": [
       "Index([20523], dtype='int64')"
      ]
     },
     "execution_count": 87,
     "metadata": {},
     "output_type": "execute_result"
    }
   ],
   "source": [
    "df[df.fuel_consumption == 0].index"
   ]
  },
  {
   "cell_type": "code",
   "execution_count": 88,
   "id": "74a5428e-4dc1-432e-9f38-2ec7a8fe5271",
   "metadata": {},
   "outputs": [],
   "source": [
    "df.drop(20523, axis=0, inplace=True)"
   ]
  },
  {
   "cell_type": "code",
   "execution_count": 89,
   "id": "5220d491-b74f-4906-b2ee-39277f36aeb9",
   "metadata": {
    "scrolled": true
   },
   "outputs": [
    {
     "data": {
      "text/plain": [
       "fuel_consumption\n",
       "4.142905     50\n",
       "5.198135     34\n",
       "4.716332     28\n",
       "5.071535     21\n",
       "6.318182     20\n",
       "5.190451     17\n",
       "4.598781     15\n",
       "4.154847     14\n",
       "7.504614     12\n",
       "5.367614     12\n",
       "11.171656    11\n",
       "4.903279      9\n",
       "4.727614      7\n",
       "6.171328      6\n",
       "6.133261      6\n",
       "5.722735      6\n",
       "5.538192      6\n",
       "5.507931      5\n",
       "4.467145      5\n",
       "6.797143      5\n",
       "4.766667      5\n",
       "5.543899      4\n",
       "5.913922      3\n",
       "4.262440      3\n",
       "4.896551      3\n",
       "6.577506      3\n",
       "9.624296      3\n",
       "5.800209      2\n",
       "6.056985      2\n",
       "8.319100      2\n",
       "5.080000      2\n",
       "8.500000      2\n",
       "4.800000      2\n",
       "27.344587     1\n",
       "6.573369      1\n",
       "21.877779     1\n",
       "5.115542      1\n",
       "6.602460      1\n",
       "20.059739     1\n",
       "8.939496      1\n",
       "33.600000     1\n",
       "Name: count, dtype: int64"
      ]
     },
     "execution_count": 89,
     "metadata": {},
     "output_type": "execute_result"
    }
   ],
   "source": [
    "df[df.fuel_type == 'Electric'].fuel_consumption.value_counts()"
   ]
  },
  {
   "cell_type": "code",
   "execution_count": 90,
   "id": "249421d2-f1d4-4704-988b-25d4f5e48746",
   "metadata": {},
   "outputs": [
    {
     "data": {
      "text/plain": [
       "(572, 34)"
      ]
     },
     "execution_count": 90,
     "metadata": {},
     "output_type": "execute_result"
    }
   ],
   "source": [
    "df[df.fuel_consumption > 25].shape"
   ]
  },
  {
   "cell_type": "code",
   "execution_count": 91,
   "id": "5f266303-635d-4b14-abf2-070b1e15035e",
   "metadata": {},
   "outputs": [],
   "source": [
    "df.loc[df[df.fuel_consumption > 25].index, 'fuel_consumption'] = np.nan"
   ]
  },
  {
   "cell_type": "code",
   "execution_count": 92,
   "id": "fd2d3bc6-08d9-49ef-a9b7-2c78b115a26f",
   "metadata": {},
   "outputs": [
    {
     "data": {
      "text/plain": [
       "1155"
      ]
     },
     "execution_count": 92,
     "metadata": {},
     "output_type": "execute_result"
    }
   ],
   "source": [
    "df.fuel_consumption.isnull().sum()"
   ]
  },
  {
   "cell_type": "code",
   "execution_count": 93,
   "id": "05bc03ca-83da-4fed-92a2-91821ce951f7",
   "metadata": {},
   "outputs": [],
   "source": [
    "df.fuel_consumption = df.fuel_consumption.fillna(df.groupby(['make_model'])['engine_size'].transform(lambda x: x.mean()))"
   ]
  },
  {
   "cell_type": "code",
   "execution_count": 94,
   "id": "3758837f-688e-425a-bc19-500dd7be271b",
   "metadata": {},
   "outputs": [
    {
     "data": {
      "text/plain": [
       "0"
      ]
     },
     "execution_count": 94,
     "metadata": {},
     "output_type": "execute_result"
    }
   ],
   "source": [
    "df.fuel_consumption.isnull().sum()"
   ]
  },
  {
   "cell_type": "code",
   "execution_count": 95,
   "id": "95ace296-2878-4edf-92d6-cf57d9b6fc77",
   "metadata": {},
   "outputs": [
    {
     "data": {
      "image/png": "[encoded data removed]",
      "text/plain": [
       "<Figure size 1200x500 with 2 Axes>"
      ]
     },
     "metadata": {},
     "output_type": "display_data"
    }
   ],
   "source": [
    "distribution_plot('fuel_consumption')"
   ]
  },
  {
   "cell_type": "code",
   "execution_count": null,
   "id": "fb74cacc-d2f5-48fb-b3dc-3d55135e56c8",
   "metadata": {},
   "outputs": [],
   "source": []
  },
  {
   "cell_type": "code",
   "execution_count": 96,
   "id": "5d25b559-0735-4168-ac99-f357856d0633",
   "metadata": {},
   "outputs": [
    {
     "name": "stdout",
     "output_type": "stream",
     "text": [
      "<class 'pandas.core.frame.DataFrame'>\n",
      "Index: 27521 entries, 0 to 28629\n",
      "Data columns (total 34 columns):\n",
      " #   Column                Non-Null Count  Dtype  \n",
      "---  ------                --------------  -----  \n",
      " 0   make_model            27521 non-null  object \n",
      " 1   make                  27521 non-null  object \n",
      " 2   model                 27521 non-null  object \n",
      " 3   price                 27521 non-null  float64\n",
      " 4   body_type             27521 non-null  object \n",
      " 5   type                  27521 non-null  object \n",
      " 6   doors                 27521 non-null  float64\n",
      " 7   origin_country        27521 non-null  object \n",
      " 8   warranty              27521 non-null  object \n",
      " 9   mileage               27521 non-null  float64\n",
      " 10  first_registration    27521 non-null  float64\n",
      " 11  gearbox               27521 non-null  object \n",
      " 12  fuel_type             27521 non-null  object \n",
      " 13  color                 27521 non-null  object \n",
      " 14  paint                 27521 non-null  object \n",
      " 15  seller                27521 non-null  object \n",
      " 16  seats                 27521 non-null  float64\n",
      " 17  engine_size           27521 non-null  float64\n",
      " 18  gears                 27521 non-null  float64\n",
      " 19  drivetrain            27521 non-null  object \n",
      " 20  cylinders             27521 non-null  float64\n",
      " 21  empty_weight          27521 non-null  float64\n",
      " 22  full_service_history  27521 non-null  object \n",
      " 23  emission_class        27521 non-null  object \n",
      " 24  upholstery_color      27521 non-null  object \n",
      " 25  upholstery            27521 non-null  object \n",
      " 26  previous_owner        27521 non-null  float64\n",
      " 27  horse_power           27521 non-null  float64\n",
      " 28  fuel_consumption      27521 non-null  float64\n",
      " 29  comfort_convenience   27521 non-null  object \n",
      " 30  safety_security       27521 non-null  object \n",
      " 31  entertainment         27521 non-null  object \n",
      " 32  extras                27521 non-null  object \n",
      " 33  current_location      27521 non-null  object \n",
      "dtypes: float64(12), object(22)\n",
      "memory usage: 8.4+ MB\n"
     ]
    }
   ],
   "source": [
    "df.info()"
   ]
  },
  {
   "cell_type": "code",
   "execution_count": 97,
   "id": "9c7c2078-f9e8-4e61-8621-1b06f7247477",
   "metadata": {},
   "outputs": [
    {
     "data": {
      "text/plain": [
       "make_model              0\n",
       "make                    0\n",
       "model                   0\n",
       "price                   0\n",
       "body_type               0\n",
       "type                    0\n",
       "doors                   0\n",
       "origin_country          0\n",
       "warranty                0\n",
       "mileage                 0\n",
       "first_registration      0\n",
       "gearbox                 0\n",
       "fuel_type               0\n",
       "color                   0\n",
       "paint                   0\n",
       "seller                  0\n",
       "seats                   0\n",
       "engine_size             0\n",
       "gears                   0\n",
       "drivetrain              0\n",
       "cylinders               0\n",
       "empty_weight            0\n",
       "full_service_history    0\n",
       "emission_class          0\n",
       "upholstery_color        0\n",
       "upholstery              0\n",
       "previous_owner          0\n",
       "horse_power             0\n",
       "fuel_consumption        0\n",
       "comfort_convenience     0\n",
       "safety_security         0\n",
       "entertainment           0\n",
       "extras                  0\n",
       "current_location        0\n",
       "dtype: int64"
      ]
     },
     "execution_count": 97,
     "metadata": {},
     "output_type": "execute_result"
    }
   ],
   "source": [
    "df.isnull().sum()"
   ]
  },
  {
   "cell_type": "code",
   "execution_count": 98,
   "id": "eb1ee6f2-5e36-40cf-8c98-125e1fcf09f6",
   "metadata": {},
   "outputs": [
    {
     "data": {
      "text/html": [
       "<div>\n",
       "<style scoped>\n",
       "    .dataframe tbody tr th:only-of-type {\n",
       "        vertical-align: middle;\n",
       "    }\n",
       "\n",
       "    .dataframe tbody tr th {\n",
       "        vertical-align: top;\n",
       "    }\n",
       "\n",
       "    .dataframe thead th {\n",
       "        text-align: right;\n",
       "    }\n",
       "</style>\n",
       "<table border=\"1\" class=\"dataframe\">\n",
       "  <thead>\n",
       "    <tr style=\"text-align: right;\">\n",
       "      <th></th>\n",
       "      <th>make_model</th>\n",
       "      <th>make</th>\n",
       "      <th>model</th>\n",
       "      <th>price</th>\n",
       "      <th>body_type</th>\n",
       "      <th>type</th>\n",
       "      <th>doors</th>\n",
       "      <th>origin_country</th>\n",
       "      <th>warranty</th>\n",
       "      <th>mileage</th>\n",
       "      <th>first_registration</th>\n",
       "      <th>gearbox</th>\n",
       "      <th>fuel_type</th>\n",
       "      <th>color</th>\n",
       "      <th>paint</th>\n",
       "      <th>seller</th>\n",
       "      <th>seats</th>\n",
       "      <th>engine_size</th>\n",
       "      <th>gears</th>\n",
       "      <th>drivetrain</th>\n",
       "      <th>cylinders</th>\n",
       "      <th>empty_weight</th>\n",
       "      <th>full_service_history</th>\n",
       "      <th>emission_class</th>\n",
       "      <th>upholstery_color</th>\n",
       "      <th>upholstery</th>\n",
       "      <th>previous_owner</th>\n",
       "      <th>horse_power</th>\n",
       "      <th>fuel_consumption</th>\n",
       "      <th>comfort_convenience</th>\n",
       "      <th>safety_security</th>\n",
       "      <th>entertainment</th>\n",
       "      <th>extras</th>\n",
       "      <th>current_location</th>\n",
       "    </tr>\n",
       "  </thead>\n",
       "  <tbody>\n",
       "    <tr>\n",
       "      <th>26734</th>\n",
       "      <td>Volvo XC60</td>\n",
       "      <td>Volvo</td>\n",
       "      <td>XC60</td>\n",
       "      <td>64900.0</td>\n",
       "      <td>Off-Road/Pick-up</td>\n",
       "      <td>Used</td>\n",
       "      <td>4.0</td>\n",
       "      <td>Germany</td>\n",
       "      <td>Yes</td>\n",
       "      <td>56500.0</td>\n",
       "      <td>2018.0</td>\n",
       "      <td>Automatic</td>\n",
       "      <td>Diesel</td>\n",
       "      <td>White</td>\n",
       "      <td>Uni/basic</td>\n",
       "      <td>Dealer</td>\n",
       "      <td>5.0</td>\n",
       "      <td>1.9</td>\n",
       "      <td>8.0</td>\n",
       "      <td>4WD</td>\n",
       "      <td>4.0</td>\n",
       "      <td>1990.848485</td>\n",
       "      <td>Yes</td>\n",
       "      <td>Euro 6</td>\n",
       "      <td>Black</td>\n",
       "      <td>Cloth</td>\n",
       "      <td>1.0</td>\n",
       "      <td>230.0</td>\n",
       "      <td>4.860606</td>\n",
       "      <td>Deluxe</td>\n",
       "      <td>Premium</td>\n",
       "      <td>Premium</td>\n",
       "      <td>Premium</td>\n",
       "      <td>DE</td>\n",
       "    </tr>\n",
       "  </tbody>\n",
       "</table>\n",
       "</div>"
      ],
      "text/plain": [
       "       make_model   make model    price         body_type  type  doors  \\\n",
       "26734  Volvo XC60  Volvo  XC60  64900.0  Off-Road/Pick-up  Used    4.0   \n",
       "\n",
       "      origin_country warranty  mileage  first_registration    gearbox  \\\n",
       "26734        Germany      Yes  56500.0              2018.0  Automatic   \n",
       "\n",
       "      fuel_type  color      paint  seller  seats  engine_size  gears  \\\n",
       "26734    Diesel  White  Uni/basic  Dealer    5.0          1.9    8.0   \n",
       "\n",
       "      drivetrain  cylinders  empty_weight full_service_history emission_class  \\\n",
       "26734        4WD        4.0   1990.848485                  Yes         Euro 6   \n",
       "\n",
       "      upholstery_color upholstery  previous_owner  horse_power  \\\n",
       "26734            Black      Cloth             1.0        230.0   \n",
       "\n",
       "       fuel_consumption comfort_convenience safety_security entertainment  \\\n",
       "26734          4.860606              Deluxe         Premium       Premium   \n",
       "\n",
       "        extras current_location  \n",
       "26734  Premium               DE  "
      ]
     },
     "execution_count": 98,
     "metadata": {},
     "output_type": "execute_result"
    }
   ],
   "source": [
    "df.sample()"
   ]
  },
  {
   "cell_type": "code",
   "execution_count": 99,
   "id": "eab12032-0321-4e58-9613-3f0a4046755f",
   "metadata": {},
   "outputs": [
    {
     "data": {
      "text/plain": [
       "price                 1.000000\n",
       "doors                 0.018355\n",
       "mileage              -0.399670\n",
       "first_registration    0.384802\n",
       "seats                 0.004237\n",
       "engine_size           0.431894\n",
       "gears                 0.256718\n",
       "cylinders             0.404641\n",
       "empty_weight          0.581740\n",
       "previous_owner       -0.220142\n",
       "horse_power           0.638947\n",
       "fuel_consumption      0.248866\n",
       "Name: price, dtype: float64"
      ]
     },
     "execution_count": 99,
     "metadata": {},
     "output_type": "execute_result"
    }
   ],
   "source": [
    "df.corr(numeric_only=True).price"
   ]
  },
  {
   "cell_type": "code",
   "execution_count": 100,
   "id": "8448d041-dd73-48cc-b140-09335dcc265b",
   "metadata": {},
   "outputs": [
    {
     "data": {
      "text/plain": [
       "4055"
      ]
     },
     "execution_count": 100,
     "metadata": {},
     "output_type": "execute_result"
    }
   ],
   "source": [
    "df.duplicated().sum()"
   ]
  },
  {
   "cell_type": "code",
   "execution_count": 101,
   "id": "1f89f39d-e5a6-4524-9834-b5394c554559",
   "metadata": {},
   "outputs": [],
   "source": [
    "df.drop_duplicates(inplace=True)"
   ]
  },
  {
   "cell_type": "code",
   "execution_count": 102,
   "id": "23486213-cb64-4ca5-86b9-bc8e1ff29890",
   "metadata": {},
   "outputs": [
    {
     "data": {
      "text/plain": [
       "(23466, 34)"
      ]
     },
     "execution_count": 102,
     "metadata": {},
     "output_type": "execute_result"
    }
   ],
   "source": [
    "df.shape"
   ]
  },
  {
   "cell_type": "code",
   "execution_count": 103,
   "id": "94eb08c4-0e2f-4ce1-b4bd-b6253269a1c2",
   "metadata": {},
   "outputs": [
    {
     "data": {
      "text/plain": [
       "Index(['make_model', 'make', 'model', 'price', 'body_type', 'type', 'doors',\n",
       "       'origin_country', 'warranty', 'mileage', 'first_registration',\n",
       "       'gearbox', 'fuel_type', 'color', 'paint', 'seller', 'seats',\n",
       "       'engine_size', 'gears', 'drivetrain', 'cylinders', 'empty_weight',\n",
       "       'full_service_history', 'emission_class', 'upholstery_color',\n",
       "       'upholstery', 'previous_owner', 'horse_power', 'fuel_consumption',\n",
       "       'comfort_convenience', 'safety_security', 'entertainment', 'extras',\n",
       "       'current_location'],\n",
       "      dtype='object')"
      ]
     },
     "execution_count": 103,
     "metadata": {},
     "output_type": "execute_result"
    }
   ],
   "source": [
    "df.columns"
   ]
  },
  {
   "cell_type": "code",
   "execution_count": 104,
   "id": "00b90c1e-9a18-497c-bb62-ce16e180a8ef",
   "metadata": {},
   "outputs": [],
   "source": [
    "df.reset_index(inplace=True)"
   ]
  },
  {
   "cell_type": "code",
   "execution_count": 105,
   "id": "a014edd4-545b-4f86-bbae-4b23b451c444",
   "metadata": {},
   "outputs": [],
   "source": [
    "df.to_csv('auto_scout_part3.csv', index=False)"
   ]
  },
  {
   "cell_type": "code",
   "execution_count": null,
   "id": "fa703cc3-3fd0-44f6-aa83-9f8dc94f3a2c",
   "metadata": {},
   "outputs": [],
   "source": []
  },
  {
   "cell_type": "code",
   "execution_count": null,
   "id": "18bb42f5-82ab-4417-a5b0-a7800f571e24",
   "metadata": {},
   "outputs": [],
   "source": []
  }
 ],
 "metadata": {
  "kernelspec": {
   "display_name": "Python 3 (ipykernel)",
   "language": "python",
   "name": "python3"
  },
  "language_info": {
   "codemirror_mode": {
    "name": "ipython",
    "version": 3
   },
   "file_extension": ".py",
   "mimetype": "text/x-python",
   "name": "python",
   "nbconvert_exporter": "python",
   "pygments_lexer": "ipython3",
   "version": "3.12.4"
  }
 },
 "nbformat": 4,
 "nbformat_minor": 5
}
