{
 "cells": [
  {
   "cell_type": "markdown",
   "metadata": {
    "deletable": false,
    "editable": false,
    "id": "80gh8Z2cV8O8"
   },
   "source": [
    "<a href=\"https://ondiande.com/contact/\"><img align=\"center\" src=\"https://i.ibb.co/B43qn24/officially-licensed-logo.png\" alt=\"ONDIA Contact\" width=\"110\" height=\"200\" title=\"This notebook is licensed by ONDIA. Please contact the authorized persons about the conditions under which you can use or share.\"></a>"
   ]
  },
  {
   "cell_type": "markdown",
   "metadata": {
    "id": "ABZc6u2UV8O_"
   },
   "source": [
    "<hr>\n",
    "\n",
    "<a href=\"https://lms.clarusway.com/mod/lesson/view.php?id=2463&pageid=4531&startlastseen=no\"><img align=\"center\" src=\"https://i.ibb.co/6Z5pQxD/lmss.png\" alt=\"Open in Clarusway LMS\" width=\"70\" height=\"200\" title=\"Open Clarusway Learning Management Sytem\"></a>\n",
    "\n",
    "<a href=\"https://github.com/clarusway/DS-DE-0322-Students/blob/main/3-%20Classes%26Labs/2-DAwPY/DAwPy_S01_(Numpy_Arrays).ipynb\"><img align=\"left\" src=\"https://i.ibb.co/n3HWyQX/github-logo.png\" alt=\"Open in Clarusway GitHub\" width=\"90\" height=\"150\" title=\"Open and Execute in Clarusway GitHub Repository\"></a>\n",
    "\n",
    "<a href=\"https://nbviewer.org/github/4dsolutions/clarusway_data_analysis/blob/main/DAwPy_S1_%28Numpy_Arrays%29/DAwPy_S1_%28Numpy_Arrays%29.ipynb\"><img align=\"right\" src=\"https://i.ibb.co/48wtV8c/nbviewer-badge.png\" alt=\"Open in nbviewer\" width=\"100\" height=\"100\" title=\"Open and Execute in nbviewer\"></a><br/>\n",
    "\n",
    "<hr>\n",
    "\n",
    "<p style=\"text-align: center;\"><img src=\"https://i.ibb.co/XS0bxSH/best-bootcamps.png\" width=\"300\" height=\"200\" class=\"img-fluid\" alt=\"Best Bootcamp Batches\"></p>\n",
    "\n",
    "<br>\n",
    "\n",
    "<p style=\"text-align: center;\"><img src=\"https://i.ibb.co/Rpz9L36/clarusway-logo-black.png\" width=\"500\" height=\"200\" class=\"img-fluid\" alt=\"CLRSWY_LOGO\"></p>\n",
    "\n",
    "\n",
    "<p style=\"background-color:#E51A59; font-family:newtimeroman; color:#FDFEFE; font-size:130%; text-align:center; border-radius:10px 10px;\">WAY TO REINVENT YOURSELF</p>\n",
    "\n",
    "<br>\n",
    "\n",
    "<img src=https://i.ibb.co/HgnTPh9/stats.png width=\"500\" height=\"200\">\n",
    "\n",
    "\n",
    "![Image_Assignment](https://i.ibb.co/cY9HhF7/bnote-assignment.gif)\n",
    "\n",
    "## <p style=\"background-color:#FDFEFE; font-family:newtimeroman; color:#4d77cf; font-size:175%; text-align:center; border-radius:10px 10px;\">Assignment 01 (Descriptive Statistics & Correlation)</p>"
   ]
  },
  {
   "cell_type": "markdown",
   "metadata": {
    "id": "K7S4cEyZLTp7"
   },
   "source": [
    "## <p style=\"background-color:#58B8E4; font-family:newtimeroman; color:#FFF9ED; font-size:175%; text-align:center; border-radius:10px 10px;\">Descriptive Statistics</p>"
   ]
  },
  {
   "cell_type": "markdown",
   "metadata": {
    "id": "vZRYVyc8H7hi"
   },
   "source": [
    " ### <span style=\"color:#49519E\">1. Import NumPy, SciPy, and Pandas Libraries.<span>"
   ]
  },
  {
   "cell_type": "code",
   "execution_count": 21,
   "metadata": {
    "id": "HAd1lZNGV8PC"
   },
   "outputs": [],
   "source": [
    "# YOUR CODE IS HERE\n",
    "\n",
    "import numpy as np\n",
    "import pandas as pd\n",
    "from scipy import stats"
   ]
  },
  {
   "cell_type": "markdown",
   "metadata": {
    "id": "_SaQURIqIA6d"
   },
   "source": [
    "### <span style=\"color:#49519E\">2. Randomly generate 1,000 samples from the normal distribution using `np.random.normal()`(mean=100, standard deviation=15).<span>\n",
    "    \n",
    "#### <span style=\"color:#49519E\">Tip: Use `random.seed()` method from Numpy library to generate the same numbers across multiple runs.<span>   "
   ]
  },
  {
   "cell_type": "code",
   "execution_count": 127,
   "metadata": {
    "id": "v_2bnojEV8PE"
   },
   "outputs": [
    {
     "data": {
      "text/plain": [
       "array([126.46078519, 106.00235813, 114.68106976, 133.61339799,\n",
       "       128.01336985,  85.3408318 , 114.25132626,  97.72964188,\n",
       "        98.45171722, 106.15897753, 102.16065357, 121.8141026 ,\n",
       "       111.41556588, 101.82512525, 106.65794849, 105.00511491,\n",
       "       122.4111861 ,  96.92262604, 104.69601552,  87.18856391,\n",
       "        61.70515276, 109.80427893, 112.96654298,  88.86752469,\n",
       "       134.04631936,  78.18451488, 100.68637776,  97.19224225,\n",
       "       122.99168822, 122.04038155, 102.32421139, 105.67243779,\n",
       "        86.68321379,  70.28805298,  94.78131776, 102.34523454,\n",
       "       118.45436021, 118.03569773,  94.19009774,  95.46545874,\n",
       "        84.27170552,  78.69973094,  74.40594714, 129.26163093,\n",
       "        92.35521727,  93.42888548,  81.2080696 , 111.66235534,\n",
       "        75.79153229,  96.8088958 ,  86.56800158, 105.80353747,\n",
       "        92.33792294,  82.29051724,  99.57726657, 106.42497806,\n",
       "       100.99775834, 104.53707847,  90.48516859,  94.55888251,\n",
       "        89.91309328,  94.60670258,  87.80280577,  74.10576097,\n",
       "       102.66139213,  93.97328596,  75.5470248 , 106.94173383,\n",
       "        86.39052453, 100.77918094, 110.93635843, 101.93474366,\n",
       "       117.09101027,  81.47761269, 106.03512462,  89.72784864,\n",
       "        86.93804276,  91.31725503,  95.32671202, 100.84248013,\n",
       "        82.52275239, 113.5123973 , 106.9849366 ,  76.95634471,\n",
       "       122.32378291, 128.43833764, 117.68169357,  97.30112746,\n",
       "        83.93871068, 115.8167759 ,  93.9523458 , 118.33667606,\n",
       "       103.12412467, 114.64958555, 105.34549596, 110.59859752,\n",
       "       100.15750031, 126.78805741, 101.90368139, 106.02984045,\n",
       "       128.24726046,  79.78361408,  80.94272502, 114.54095062,\n",
       "        82.40314892, 129.15431778,  93.79571529,  88.78817783,\n",
       "       128.8441304 , 122.20772187, 128.01338441, 113.59066987,\n",
       "        87.08161472, 128.6509743 ,  95.97994944, 112.03684594,\n",
       "       114.20877952,  97.6748486 , 109.21119056, 113.83310007,\n",
       "       105.64638297,  83.50898814, 104.47357261, 119.89578845,\n",
       "        89.5814821 ,  97.7554819 ,  93.47269672, 127.73895593,\n",
       "       110.08442136, 106.11192754,  88.45125888, 108.08873787,\n",
       "        89.88501009, 100.47745837,  90.46230882, 110.14649942,\n",
       "       108.64886225,  96.87551867, 105.94010069,  83.60407737,\n",
       "        77.63113611, 106.59087552, 102.50010243, 109.52547155,\n",
       "       135.74717162, 114.1671923 ,  86.30766662, 116.75524432,\n",
       "        80.26138884,  93.07623093,  98.97637592, 125.70014082,\n",
       "        88.82867767,  87.60342192,  98.52321213,  90.0478257 ,\n",
       "       116.89953883,  83.80102737,  82.78797021,  93.43269933,\n",
       "        92.52951324, 128.94298081, 114.2413121 , 101.31326862,\n",
       "        81.61846722, 112.66544465,  84.99676979,  76.82843355,\n",
       "       117.82044689, 104.75413918, 113.81288236, 104.78091479,\n",
       "       112.85245918,  90.2346161 ,  84.48635737, 110.22391777,\n",
       "        87.94885504,  89.65675333,  93.16701245, 100.26218739,\n",
       "        94.69009133,  79.3757306 ,  90.34572396,  66.64895272,\n",
       "       109.37847177,  75.96913517,  83.43424991, 100.78247619,\n",
       "        88.90655505, 123.14521893,  80.60714635, 104.00576304,\n",
       "        99.41075773,  82.47859753, 107.84914991,  97.42680503,\n",
       "       111.57685827, 112.35256231, 132.44853924, 120.04791924,\n",
       "        94.46227243,  96.40931234, 116.49489394, 109.82895596,\n",
       "       109.60197289,  75.74565934,  99.63510813,  88.92953636,\n",
       "       104.19886899,  98.52774416, 113.65268362, 104.75827323,\n",
       "       111.79491943,  93.00371355,  85.83330616,  93.8492546 ,\n",
       "        99.74469379, 105.68727603, 133.88963426,  99.36614273,\n",
       "        85.66082499,  94.81027336,  93.04606038, 107.22222211,\n",
       "        76.88804478, 100.94892991, 102.34759807, 103.48271554,\n",
       "        91.04025897,  96.43117405,  78.63908637,  92.60020175,\n",
       "        91.85707786, 106.24075069,  82.65726352, 111.71797153,\n",
       "       122.41726817,  68.95022462, 106.39388096, 110.15362053,\n",
       "        90.43844462,  94.04092279,  98.00679134,  95.53313681,\n",
       "        95.36480546,  74.85994291, 117.28497347, 116.19427888,\n",
       "        87.79953611,  78.00363508, 107.81597315,  91.36318045,\n",
       "       102.12929745,  95.21007374, 110.37308127, 110.42123715,\n",
       "        89.11603932,  79.24954067,  76.25592404, 109.15569069,\n",
       "        82.16711113,  92.39775469,  91.05528942,  99.21149056,\n",
       "        70.95580291, 102.83167895, 107.85836536, 101.32633131,\n",
       "        95.33670742, 101.46100249, 105.98569518,  58.41110865,\n",
       "       129.33868462, 105.85139984,  90.21387126,  94.13569937,\n",
       "       107.40612666,  98.25844091,  69.53973298, 130.96739292,\n",
       "        98.34189014, 115.30259068,  89.61925228, 123.04565581,\n",
       "       104.29515533, 109.13265752,  84.32119951, 118.16717935,\n",
       "       110.34727247, 119.52769344,  90.57868661,  92.78459322,\n",
       "       134.55875047,  84.09976266,  97.96075449, 117.05337044,\n",
       "       101.46587452, 108.7443052 ,  94.00826456, 105.55083832,\n",
       "        80.40209722, 124.87196019,  98.22753932,  89.79732694,\n",
       "       109.99574623,  93.08920319,  79.98612293,  79.79923741,\n",
       "       110.40659729,  97.60639843,  97.9944766 , 116.16615709,\n",
       "        83.09761287,  89.03983371,  94.22680286, 101.41527384,\n",
       "        99.36742823,  95.69669211,  99.07560397,  98.39042086,\n",
       "        89.20593417,  87.80510517, 104.11774537,  86.63627376,\n",
       "        82.63967111,  95.31561623,  97.63499476, 133.85085246,\n",
       "        89.42949586, 114.14891087, 111.20782501,  82.16582567,\n",
       "       111.59879466,  82.2417904 ,  60.11241643, 109.09479287,\n",
       "        73.66164125, 106.76401693,  89.73983653, 124.89326194,\n",
       "       116.02764099,  93.19921294,  89.68243583,  81.78883895,\n",
       "        93.38616052,  95.79466757,  94.52959683, 102.35055783,\n",
       "       108.67782247, 105.24481685,  88.53784114,  78.43312789,\n",
       "       120.46797772,  89.65826223,  90.215596  ,  92.18216032,\n",
       "        72.35395675,  92.83038994,  92.80516279, 109.30537448,\n",
       "       110.47685724, 100.05656334, 113.97772561, 105.09947476,\n",
       "        99.76476833, 102.41392252,  97.1401976 ,  94.07725729,\n",
       "        95.98399695,  83.07983003, 104.20662558,  85.10314584,\n",
       "       112.62446896,  96.2581213 , 100.74242472, 107.40755164,\n",
       "       109.64971698,  76.44064887,  96.89644486, 113.20268368,\n",
       "        74.52841271, 105.80920713,  66.16653656,  84.66239735,\n",
       "       100.57945828,  75.14927347,  85.21733893,  77.92247489,\n",
       "       124.72202398, 102.46341633, 108.50935417,  96.65987349,\n",
       "        94.69852377,  75.75288717,  95.62243956,  88.57761682,\n",
       "       112.86885886, 117.116528  , 121.99868073, 112.78827909,\n",
       "        91.02019095,  83.26154521, 111.49994772, 105.34439226,\n",
       "        73.47192324, 105.33222689, 112.21779734, 100.88388384,\n",
       "        97.22419493,  87.88527269,  78.30197951, 112.00446924,\n",
       "        95.36328333,  96.49800008, 125.9908178 , 110.2675166 ,\n",
       "       105.56237502, 102.13092708, 122.79992291, 125.79383961,\n",
       "       113.94257667, 108.73336887,  68.58095393, 101.85582871,\n",
       "        98.04839569, 101.40929844, 114.14569131,  58.90484249,\n",
       "        91.4603192 , 104.04856532,  92.99731681,  78.7464083 ,\n",
       "       113.0344523 , 104.15307859,  85.43343144, 104.72225807,\n",
       "       112.32378568, 100.07938969, 112.00847205, 101.17390263,\n",
       "        94.07156526,  82.60869225,  98.7110385 , 102.91439407,\n",
       "       113.13749142,  98.27338797, 106.86123409,  85.53081979,\n",
       "        88.26056266,  98.34416051,  84.18057304, 112.30371756,\n",
       "       106.94695494, 104.18643647, 105.08356188, 130.31565342,\n",
       "        92.96703718,  66.97838072, 102.98950295,  99.24094689,\n",
       "        92.23721436,  85.31755211,  93.41215717, 102.72007644,\n",
       "        92.45774949, 136.18680519,  85.59243428,  88.10323956,\n",
       "        65.6706994 , 103.77226623,  69.75390058,  91.9081805 ,\n",
       "        95.86494198,  89.35408051, 126.08309016, 114.91591587,\n",
       "       119.78705314,  86.76371772, 116.92891097, 107.4400142 ,\n",
       "       111.57108923, 115.44158243,  86.36855131,  93.63523569,\n",
       "       112.93894017,  60.16571361, 122.69992124, 108.29698096,\n",
       "        99.31444059, 103.30761484,  84.55097075,  94.75084953,\n",
       "       116.50426507, 119.47032958, 140.44336079,  98.89113001,\n",
       "        90.1217055 ,  92.28649051,  84.72937187,  98.83217866,\n",
       "       105.74098645,  99.48636579, 116.44520268,  96.48676298,\n",
       "        94.78824021,  91.28097285,  75.51048211,  76.48348414,\n",
       "        82.31263104, 119.52142107, 113.42890409, 120.624461  ,\n",
       "        80.01682518,  70.47062965,  90.0991552 , 102.6372843 ,\n",
       "       107.48035412, 115.71958234, 104.26419506, 126.14003171,\n",
       "        96.66091479,  86.30381173,  74.78172677,  86.66542963,\n",
       "       103.63176941,  86.66919614, 114.05113695, 121.18491559,\n",
       "        64.45619642, 112.96078451,  66.40593912, 106.02248583,\n",
       "       118.37305846, 100.9728416 ,  80.8046624 ,  91.21853194,\n",
       "        96.07531831,  97.26632824,  96.95654739,  98.35175831,\n",
       "       103.20220073,  81.87139519,  96.36970255, 122.77391756,\n",
       "        94.23031865,  93.3424586 , 116.17295956,  61.61223   ,\n",
       "       117.72067902,  90.52144363, 102.45892859, 101.44482034,\n",
       "       114.13702179,  95.98607881,  89.82961328, 119.46768686,\n",
       "        64.53739274, 100.30501273,  79.78111866,  88.57639918,\n",
       "       130.16885022,  99.3310686 , 102.92604546,  73.27655716,\n",
       "        89.06433012, 102.94836101, 105.3213654 , 109.25329832,\n",
       "       100.12941848, 107.90506313, 106.80672869,  72.55389383,\n",
       "       100.55508583, 111.51853612, 108.84819731,  94.54211785,\n",
       "        87.91560239,  83.22532114,  98.03418983, 116.99619819,\n",
       "        70.72293848,  90.10162405,  82.90296317, 111.77436282,\n",
       "        91.6853556 ,  92.94043513,  96.74575645, 106.68089876,\n",
       "        94.11416503,  54.30785418, 108.14967837, 106.58564437,\n",
       "        96.70688458,  83.73945069, 105.27670166, 105.688533  ,\n",
       "        92.94950676,  96.74902794,  86.04765246,  97.32116362,\n",
       "        76.74355982, 106.25978232,  85.83447264, 103.57154722,\n",
       "        78.91055626,  91.14913531,  98.34265892,  75.08950282,\n",
       "       101.7272181 ,  94.31278656,  73.86465703,  80.45135869,\n",
       "       109.07680126, 113.43333978,  98.0213704 , 106.07142718,\n",
       "       103.35765345, 104.94434473, 119.28976011,  77.39502403,\n",
       "       110.14691099,  94.26986567,  96.63611599,  95.46625404,\n",
       "        94.37279325,  81.60705712, 102.75008799, 125.06414549,\n",
       "        99.15800469,  99.97922436,  89.69051444,  98.2378818 ,\n",
       "       106.99249639,  94.44636339,  93.19293938, 106.0489681 ,\n",
       "        86.22992845, 103.78744941, 112.30482696, 120.39922813,\n",
       "        98.64426989, 120.5139586 , 115.5161483 ,  85.05681039,\n",
       "        81.73092233,  95.42554543, 115.43403239,  98.91569489,\n",
       "        90.99013664, 123.2836477 , 104.30356732,  65.19108586,\n",
       "       104.75740939, 107.80060922, 103.38412982, 106.7456815 ,\n",
       "        98.99086587,  80.22406196,  94.43943995,  85.81576307,\n",
       "        86.00888634,  81.05397476, 106.78733639, 101.46844218,\n",
       "        93.27751956,  90.25993108,  99.64865342, 116.18792092,\n",
       "        69.93676427, 105.65314781,  91.81432039,  71.73121233,\n",
       "        70.81445375,  86.30824759, 103.29264334, 105.89594401,\n",
       "        85.91527641, 115.25531487, 121.34475245, 105.94129877,\n",
       "        91.12895998, 116.86628777, 111.33093543, 113.01111117,\n",
       "        90.15304488,  57.48168242, 131.75186532,  75.83682395,\n",
       "        99.46347892, 135.71118027, 104.95865134, 114.2386971 ,\n",
       "        77.46405146,  73.33499568,  92.00945812, 116.36124602,\n",
       "        94.80625829,  88.08045518, 102.96950935, 116.22902828,\n",
       "        78.32589701,  81.84185509,  88.16996118, 116.41957562,\n",
       "       103.52232289, 131.98230116, 114.04668589,  99.47357235,\n",
       "       118.97616757, 103.17245519,  89.42617971, 110.19962266,\n",
       "        89.55510019,  95.64404349, 119.91674044,  98.48077771,\n",
       "        87.95287919,  93.03493463, 115.32685878,  91.7118899 ,\n",
       "        94.1969373 ,  92.34560891, 102.75888242,  94.21765359,\n",
       "        75.97245927,  86.69228587,  86.00816438, 118.64979077,\n",
       "       112.19011063, 108.80889069,  92.41962524,  87.76312687,\n",
       "        92.38723598,  84.22179846, 137.45800587,  66.32017527,\n",
       "       108.46012803,  80.73171553,  98.43484763,  85.17997086,\n",
       "        82.33556556,  82.89705549, 126.32479231,  98.00517367,\n",
       "        88.51446708, 108.33680446, 100.15523972, 110.80050639,\n",
       "        72.63615016, 104.55405857, 111.59042256,  75.07602563,\n",
       "       106.72292927, 125.44272359,  99.77713445, 112.32108906,\n",
       "       110.05855675,  89.38741454, 100.59650102,  76.49507934,\n",
       "        93.23045444, 103.98531962, 110.84650741, 100.36918188,\n",
       "       110.79975595,  83.45640681,  98.47454088, 100.28919077,\n",
       "       127.7438687 ,  96.78750016,  92.51475043, 100.32026836,\n",
       "        86.21329833, 102.89130774,  94.52417175,  73.13008678,\n",
       "        99.12120173,  95.23685359,  75.51365047,  98.99298768,\n",
       "       122.34033943, 107.81955622, 109.17890789,  79.87754912,\n",
       "       107.15347553, 102.22674372, 107.93567858, 106.33942933,\n",
       "        79.60328912,  99.37898783,  88.63193709,  99.24873859,\n",
       "        86.5389861 , 119.68705551,  87.11541417,  86.51586765,\n",
       "       101.1187961 ,  83.84351396,  93.63005046,  87.55053104,\n",
       "       121.16758096, 111.7870574 ,  99.13795722,  94.13174422,\n",
       "       114.11376422, 106.0780612 , 107.47078607,  99.60711644,\n",
       "        74.67654958,  98.31301026,  92.01265121, 109.6758291 ,\n",
       "       115.17763649,  90.13073433, 107.02577851, 126.03818497,\n",
       "        89.98430919, 125.2288261 ,  87.21121229, 100.34439633,\n",
       "        99.83281582, 100.1724835 ,  87.43482937,  91.13225344,\n",
       "        89.9841957 , 104.90443893, 104.95052672, 133.38916498,\n",
       "       120.56483509,  92.35235137, 104.87304424, 114.95676971,\n",
       "       100.45902737,  98.95537632, 100.77362414, 113.00914943,\n",
       "        87.27519216,  95.11495797, 107.05649717, 104.67170607,\n",
       "       103.5937414 ,  94.45298251, 114.58803684, 132.00802371,\n",
       "       106.09623241,  97.10234948, 111.33610433,  91.91301045,\n",
       "        88.75464483, 100.49213121,  61.25805051,  82.69074455,\n",
       "        94.78057216,  79.69916713,  84.51035347,  93.44877494,\n",
       "        75.3555206 ,  93.90892306,  91.97094753, 100.38107813,\n",
       "       117.31276046, 102.58756625, 100.31593032, 101.49181686,\n",
       "       103.41089163,  84.74892027,  98.27837013, 104.63126863,\n",
       "        79.43860026, 112.98479384, 116.22064052,  90.52936017,\n",
       "        96.37993313,  86.82714486, 110.49070725,  84.08166569,\n",
       "        96.66284485,  87.11620138, 100.76431416,  73.08656093,\n",
       "       119.89692464,  85.53090364, 100.89842025,  96.81215433,\n",
       "        88.56828232,  86.68329795, 114.04597815,  92.1153911 ,\n",
       "       104.06755277,  87.97754672,  90.29227852, 107.08370725,\n",
       "       113.95612744,  97.37025397,  78.67120193, 129.9693412 ,\n",
       "        87.15176038,  76.876189  , 138.91636882,  93.93951559,\n",
       "        78.07400968,  89.7484035 , 105.51317344, 102.85467336,\n",
       "        87.22406204, 127.340854  ,  92.17630483,  82.22970114,\n",
       "       114.41040098, 119.9359427 ,  87.73760354,  78.9797906 ,\n",
       "       115.45657401,  69.2901458 ,  81.60067511, 114.51169225,\n",
       "        99.16971178,  96.04093977, 105.2922491 ,  97.70838365,\n",
       "        80.51969917, 119.14113019, 119.87521079, 103.07998846,\n",
       "       100.67701023, 135.09437209,  95.85350732,  96.10634527,\n",
       "       105.46721874, 122.06982934, 123.89156132,  96.12141052,\n",
       "       104.62496869,  79.32874799,  95.32035838,  87.39564407,\n",
       "        84.89752372, 125.22365074,  88.11570007,  92.02591138,\n",
       "       105.48773182, 119.467379  , 107.2167269 , 141.39032671,\n",
       "        98.87998033, 103.8807466 , 104.13401011, 121.5257408 ,\n",
       "       107.60858427,  98.25655449,  85.78767108, 103.66665184,\n",
       "       121.02017247,  93.8442731 , 107.93415428, 103.69221683,\n",
       "       112.95279488,  87.92869389, 135.19970546,  80.81258339,\n",
       "        94.51673365, 114.07138811, 104.45099759, 112.44979239,\n",
       "        92.55846499,  98.87792526, 100.18347975, 123.53889422,\n",
       "       110.35643537, 111.95008163,  90.13110861, 114.53323958,\n",
       "       103.38372495, 120.83717974, 130.21090232,  95.39851336,\n",
       "        93.90545304,  87.03932513,  97.84630732,  94.26961827,\n",
       "       105.39256599,  97.83149775,  94.57601079, 115.96877704,\n",
       "        85.93179653, 106.4966193 ,  93.91087409, 110.86552757,\n",
       "       120.7789232 ,  95.4535262 , 106.61549361, 102.68189299,\n",
       "        88.00866401, 103.61181265, 104.33680758, 106.19306231,\n",
       "        97.02401655, 101.4128845 ,  82.78583583,  94.62828887])"
      ]
     },
     "execution_count": 127,
     "metadata": {},
     "output_type": "execute_result"
    }
   ],
   "source": [
    "# YOUR CODE IS HERE\n",
    "\n",
    "np.random.seed(0)\n",
    "data = np.random.normal(loc=100, scale=15, size=1000)\n",
    "data"
   ]
  },
  {
   "cell_type": "markdown",
   "metadata": {
    "id": "CDF8m3a4IYOC"
   },
   "source": [
    "  ### <span style=\"color:#49519E\">3. Calculate the mean, median, and mode.<span>"
   ]
  },
  {
   "cell_type": "code",
   "execution_count": 144,
   "metadata": {
    "id": "UcF8-bY_V8PE"
   },
   "outputs": [
    {
     "name": "stdout",
     "output_type": "stream",
     "text": [
      "Mean: 99.32114938764708 \n",
      "Median: 99.12957947800558 \n",
      "Mode: 54.3078541780011\n"
     ]
    }
   ],
   "source": [
    "# YOUR CODE IS HERE\n",
    "\n",
    "mean = np.mean(data)\n",
    "median = np.median(data)\n",
    "mode = stats.mode(data)\n",
    "\n",
    "print(f\"Mean: {mean} \\nMedian: {median} \\nMode: {mode[0]}\")"
   ]
  },
  {
   "cell_type": "markdown",
   "metadata": {
    "id": "skT8m39XI60w"
   },
   "source": [
    "  ### <span style=\"color:#49519E\">4. Calculate the min, max, Q1, Q3, and interquartile range.<span>"
   ]
  },
  {
   "cell_type": "code",
   "execution_count": 132,
   "metadata": {
    "id": "kYpqd0W-V8PF"
   },
   "outputs": [
    {
     "name": "stdout",
     "output_type": "stream",
     "text": [
      "Minimum: 54.3078541780011 \n",
      "Maximum: 141.39032671032373 \n",
      "Q1: 89.52369910960195 \n",
      "Q3: 109.10425902832597 \n",
      "Interquartile Range: 19.58055991872402\n"
     ]
    }
   ],
   "source": [
    "# YOUR CODE IS HERE\n",
    "\n",
    "min_value = data.min()\n",
    "max_value = data.max()\n",
    "q1 = np.quantile(data, 0.25)\n",
    "q3 = np.quantile(data, 0.75)\n",
    "iqr = q3 - q1\n",
    "print(f\"Minimum: {min_value} \\nMaximum: {max_value} \\nQ1: {q1} \\nQ3: {q3} \\nInterquartile Range: {iqr}\")"
   ]
  },
  {
   "cell_type": "markdown",
   "metadata": {
    "id": "m53Dv3n5JHQi"
   },
   "source": [
    "  ### <span style=\"color:#49519E\">5. Calculate the variance and standard deviation.<span>"
   ]
  },
  {
   "cell_type": "code",
   "execution_count": 47,
   "metadata": {
    "id": "PJNWGb1ZV8PF"
   },
   "outputs": [
    {
     "name": "stdout",
     "output_type": "stream",
     "text": [
      "Variance: 219.20275267023467 \n",
      "Standard Deviation: 14.805497380035385\n"
     ]
    }
   ],
   "source": [
    "# YOUR CODE IS HERE\n",
    "\n",
    "variance = np.var(data)\n",
    "std = np.std(data)\n",
    "print(f\"Variance: {variance} \\nStandard Deviation: {std}\")"
   ]
  },
  {
   "cell_type": "markdown",
   "metadata": {
    "id": "5eup4hI1JzqX"
   },
   "source": [
    "  ### <span style=\"color:#49519E\">6. Calculate the skewness and kurtosis.<span>"
   ]
  },
  {
   "cell_type": "code",
   "execution_count": 77,
   "metadata": {
    "id": "1oM_Dxg4V8PG"
   },
   "outputs": [
    {
     "name": "stdout",
     "output_type": "stream",
     "text": [
      "Skewness: 0.03385895323565454 \n",
      "Kurtosis: -0.04676632447832896\n"
     ]
    }
   ],
   "source": [
    "# YOUR CODE IS HERE\n",
    "\n",
    "from scipy.stats import skew, kurtosis, pearsonr, spearmanr\n",
    "\n",
    "skewness = skew(data)\n",
    "kurtosis = kurtosis(data)\n",
    "print(f\"Skewness: {skewness} \\nKurtosis: {kurtosis}\")"
   ]
  },
  {
   "cell_type": "code",
   "execution_count": 123,
   "metadata": {},
   "outputs": [
    {
     "data": {
      "image/png": "[encoded data removed]",
      "text/plain": [
       "<Figure size 640x480 with 1 Axes>"
      ]
     },
     "metadata": {},
     "output_type": "display_data"
    }
   ],
   "source": [
    "import seaborn as sns\n",
    "\n",
    "sns.histplot(data);"
   ]
  },
  {
   "cell_type": "markdown",
   "metadata": {
    "id": "a5UNc8PUKnbU"
   },
   "source": [
    "## <p style=\"background-color:#58B8E4; font-family:newtimeroman; color:#FFF9ED; font-size:175%; text-align:center; border-radius:10px 10px;\">Correlation Calculation in NumPy</p>"
   ]
  },
  {
   "cell_type": "markdown",
   "metadata": {
    "id": "cLiqxE1CMNTg"
   },
   "source": [
    "### <span style=\"color:#49519E\">7. Create an array `x` of integers between 10 (inclusive) and 20 (exclusive). Use `np.arange()`.<span>"
   ]
  },
  {
   "cell_type": "code",
   "execution_count": 59,
   "metadata": {
    "id": "-Z6R-HLSV8PG"
   },
   "outputs": [
    {
     "data": {
      "text/plain": [
       "array([10, 11, 12, 13, 14, 15, 16, 17, 18, 19])"
      ]
     },
     "execution_count": 59,
     "metadata": {},
     "output_type": "execute_result"
    }
   ],
   "source": [
    "# YOUR CODE IS HERE\n",
    "\n",
    "x = np.arange(10, 20)\n",
    "x"
   ]
  },
  {
   "cell_type": "markdown",
   "metadata": {
    "id": "qyCIaukNMZPf"
   },
   "source": [
    "### <span style=\"color:#49519E\">8. Then use `np.array()` to create a second array `y` containing 10 arbitrary integers.<span>"
   ]
  },
  {
   "cell_type": "code",
   "execution_count": 63,
   "metadata": {
    "id": "ddpswSvqV8PH"
   },
   "outputs": [
    {
     "data": {
      "text/plain": [
       "array([ 1,  4,  9, 18,  0, 34,  3,  1,  7,  8])"
      ]
     },
     "execution_count": 63,
     "metadata": {},
     "output_type": "execute_result"
    }
   ],
   "source": [
    "# YOUR CODE IS HERE\n",
    "\n",
    "y = np.array([1, 4, 9, 18, 0, 34, 3, 1, 7, 8])\n",
    "y"
   ]
  },
  {
   "cell_type": "markdown",
   "metadata": {
    "id": "Kh_VeKwINSqS"
   },
   "source": [
    "### <span style=\"color:#49519E\">9. Calculate the correlation coefficient between `x` and `y`.<span>"
   ]
  },
  {
   "cell_type": "code",
   "execution_count": 65,
   "metadata": {
    "id": "tmNOTfQ6V8PH"
   },
   "outputs": [
    {
     "name": "stdout",
     "output_type": "stream",
     "text": [
      "Correlation:  0.05807330662411569 \n",
      " [[1.         0.05807331]\n",
      " [0.05807331 1.        ]]\n"
     ]
    }
   ],
   "source": [
    "# YOUR CODE IS HERE\n",
    "\n",
    "corr = np.corrcoef(x, y)\n",
    "print(\"Correlation: \", corr[0][1], \"\\n\", corr)"
   ]
  },
  {
   "cell_type": "markdown",
   "metadata": {
    "id": "vXieLjYiNtPi"
   },
   "source": [
    "## <p style=\"background-color:#58B8E4; font-family:newtimeroman; color:#FFF9ED; font-size:175%; text-align:center; border-radius:10px 10px;\">Correlation Calculation in Pandas</p>"
   ]
  },
  {
   "cell_type": "markdown",
   "metadata": {
    "id": "z56t0k0qNvkr"
   },
   "source": [
    "### <span style=\"color:#49519E\">10. Run the code below.<span>"
   ]
  },
  {
   "cell_type": "code",
   "execution_count": 67,
   "metadata": {
    "id": "9AVBMJCyNuwb"
   },
   "outputs": [],
   "source": [
    "x = pd.Series(range(10, 20))\n",
    "y = pd.Series([2, 1, 4, 5, 8, 12, 18, 25, 96, 48])"
   ]
  },
  {
   "cell_type": "markdown",
   "metadata": {
    "id": "ZajVXYe2OCih"
   },
   "source": [
    "### <span style=\"color:#49519E\">11. Calculate the `Pearson's r` correlation.<span>"
   ]
  },
  {
   "cell_type": "code",
   "execution_count": 75,
   "metadata": {
    "id": "5LLoMqxHV8PI"
   },
   "outputs": [
    {
     "data": {
      "text/plain": [
       "PearsonRResult(statistic=0.758640289091187, pvalue=0.010964341301680815)"
      ]
     },
     "execution_count": 75,
     "metadata": {},
     "output_type": "execute_result"
    }
   ],
   "source": [
    "# YOUR CODE IS HERE\n",
    "\n",
    "pearson_values = pearsonr(x, y)\n",
    "pearson_values"
   ]
  },
  {
   "cell_type": "markdown",
   "metadata": {
    "id": "1CygSbnROb9V"
   },
   "source": [
    "### <span style=\"color:#49519E\">12. OPTIONAL. Calculate the relevant method to calculate `Spearman's rho` correlation.<span>"
   ]
  },
  {
   "cell_type": "code",
   "execution_count": 79,
   "metadata": {
    "id": "N3LM48XiV8PI"
   },
   "outputs": [
    {
     "data": {
      "text/plain": [
       "SignificanceResult(statistic=0.9757575757575757, pvalue=1.4675461874042197e-06)"
      ]
     },
     "execution_count": 79,
     "metadata": {},
     "output_type": "execute_result"
    }
   ],
   "source": [
    "# YOUR CODE IS HERE\n",
    "\n",
    "spearman_values = spearmanr(x, y)\n",
    "spearman_values\n"
   ]
  },
  {
   "cell_type": "markdown",
   "metadata": {
    "id": "we7pg7kdOo7y"
   },
   "source": [
    "## <p style=\"background-color:#58B8E4; font-family:newtimeroman; color:#FFF9ED; font-size:175%; text-align:center; border-radius:10px 10px;\">Study wit Seaborn Dataset-Tips</p>"
   ]
  },
  {
   "cell_type": "markdown",
   "metadata": {
    "id": "VlzgFKN7OvqX"
   },
   "source": [
    "### <span style=\"color:#49519E\">13. Import Seaborn Library as `sns`.<span>"
   ]
  },
  {
   "cell_type": "code",
   "execution_count": 81,
   "metadata": {
    "id": "wasaVyngV8PJ"
   },
   "outputs": [],
   "source": [
    "# YOUR CODE IS HERE\n",
    "\n",
    "import seaborn as sns"
   ]
  },
  {
   "cell_type": "markdown",
   "metadata": {
    "id": "0INVBB4tO4y4"
   },
   "source": [
    "### <span style=\"color:#49519E\">14. Load `tips` dataset from Seaborn Library.<span>"
   ]
  },
  {
   "cell_type": "code",
   "execution_count": 91,
   "metadata": {
    "id": "ovWS6zyFV8PJ"
   },
   "outputs": [
    {
     "data": {
      "text/html": [
       "<div>\n",
       "<style scoped>\n",
       "    .dataframe tbody tr th:only-of-type {\n",
       "        vertical-align: middle;\n",
       "    }\n",
       "\n",
       "    .dataframe tbody tr th {\n",
       "        vertical-align: top;\n",
       "    }\n",
       "\n",
       "    .dataframe thead th {\n",
       "        text-align: right;\n",
       "    }\n",
       "</style>\n",
       "<table border=\"1\" class=\"dataframe\">\n",
       "  <thead>\n",
       "    <tr style=\"text-align: right;\">\n",
       "      <th></th>\n",
       "      <th>total_bill</th>\n",
       "      <th>tip</th>\n",
       "      <th>sex</th>\n",
       "      <th>smoker</th>\n",
       "      <th>day</th>\n",
       "      <th>time</th>\n",
       "      <th>size</th>\n",
       "    </tr>\n",
       "  </thead>\n",
       "  <tbody>\n",
       "    <tr>\n",
       "      <th>129</th>\n",
       "      <td>22.82</td>\n",
       "      <td>2.18</td>\n",
       "      <td>Male</td>\n",
       "      <td>No</td>\n",
       "      <td>Thur</td>\n",
       "      <td>Lunch</td>\n",
       "      <td>3</td>\n",
       "    </tr>\n",
       "    <tr>\n",
       "      <th>234</th>\n",
       "      <td>15.53</td>\n",
       "      <td>3.00</td>\n",
       "      <td>Male</td>\n",
       "      <td>Yes</td>\n",
       "      <td>Sat</td>\n",
       "      <td>Dinner</td>\n",
       "      <td>2</td>\n",
       "    </tr>\n",
       "    <tr>\n",
       "      <th>147</th>\n",
       "      <td>11.87</td>\n",
       "      <td>1.63</td>\n",
       "      <td>Female</td>\n",
       "      <td>No</td>\n",
       "      <td>Thur</td>\n",
       "      <td>Lunch</td>\n",
       "      <td>2</td>\n",
       "    </tr>\n",
       "    <tr>\n",
       "      <th>205</th>\n",
       "      <td>16.47</td>\n",
       "      <td>3.23</td>\n",
       "      <td>Female</td>\n",
       "      <td>Yes</td>\n",
       "      <td>Thur</td>\n",
       "      <td>Lunch</td>\n",
       "      <td>3</td>\n",
       "    </tr>\n",
       "    <tr>\n",
       "      <th>110</th>\n",
       "      <td>14.00</td>\n",
       "      <td>3.00</td>\n",
       "      <td>Male</td>\n",
       "      <td>No</td>\n",
       "      <td>Sat</td>\n",
       "      <td>Dinner</td>\n",
       "      <td>2</td>\n",
       "    </tr>\n",
       "    <tr>\n",
       "      <th>225</th>\n",
       "      <td>16.27</td>\n",
       "      <td>2.50</td>\n",
       "      <td>Female</td>\n",
       "      <td>Yes</td>\n",
       "      <td>Fri</td>\n",
       "      <td>Lunch</td>\n",
       "      <td>2</td>\n",
       "    </tr>\n",
       "    <tr>\n",
       "      <th>154</th>\n",
       "      <td>19.77</td>\n",
       "      <td>2.00</td>\n",
       "      <td>Male</td>\n",
       "      <td>No</td>\n",
       "      <td>Sun</td>\n",
       "      <td>Dinner</td>\n",
       "      <td>4</td>\n",
       "    </tr>\n",
       "    <tr>\n",
       "      <th>109</th>\n",
       "      <td>14.31</td>\n",
       "      <td>4.00</td>\n",
       "      <td>Female</td>\n",
       "      <td>Yes</td>\n",
       "      <td>Sat</td>\n",
       "      <td>Dinner</td>\n",
       "      <td>2</td>\n",
       "    </tr>\n",
       "    <tr>\n",
       "      <th>2</th>\n",
       "      <td>21.01</td>\n",
       "      <td>3.50</td>\n",
       "      <td>Male</td>\n",
       "      <td>No</td>\n",
       "      <td>Sun</td>\n",
       "      <td>Dinner</td>\n",
       "      <td>3</td>\n",
       "    </tr>\n",
       "    <tr>\n",
       "      <th>47</th>\n",
       "      <td>32.40</td>\n",
       "      <td>6.00</td>\n",
       "      <td>Male</td>\n",
       "      <td>No</td>\n",
       "      <td>Sun</td>\n",
       "      <td>Dinner</td>\n",
       "      <td>4</td>\n",
       "    </tr>\n",
       "  </tbody>\n",
       "</table>\n",
       "</div>"
      ],
      "text/plain": [
       "     total_bill   tip     sex smoker   day    time  size\n",
       "129       22.82  2.18    Male     No  Thur   Lunch     3\n",
       "234       15.53  3.00    Male    Yes   Sat  Dinner     2\n",
       "147       11.87  1.63  Female     No  Thur   Lunch     2\n",
       "205       16.47  3.23  Female    Yes  Thur   Lunch     3\n",
       "110       14.00  3.00    Male     No   Sat  Dinner     2\n",
       "225       16.27  2.50  Female    Yes   Fri   Lunch     2\n",
       "154       19.77  2.00    Male     No   Sun  Dinner     4\n",
       "109       14.31  4.00  Female    Yes   Sat  Dinner     2\n",
       "2         21.01  3.50    Male     No   Sun  Dinner     3\n",
       "47        32.40  6.00    Male     No   Sun  Dinner     4"
      ]
     },
     "execution_count": 91,
     "metadata": {},
     "output_type": "execute_result"
    }
   ],
   "source": [
    "# YOUR CODE IS HERE\n",
    "\n",
    "df = sns.load_dataset(\"tips\")\n",
    "df.sample(10)"
   ]
  },
  {
   "cell_type": "markdown",
   "metadata": {
    "id": "o2ISqVQrPh5S"
   },
   "source": [
    "### <span style=\"color:#49519E\">15. Generate Descriptive Statistics including those that summarize the central tendency, dispersion.<span>"
   ]
  },
  {
   "cell_type": "code",
   "execution_count": 93,
   "metadata": {
    "id": "iSqxD_K_V8PK"
   },
   "outputs": [
    {
     "data": {
      "text/html": [
       "<div>\n",
       "<style scoped>\n",
       "    .dataframe tbody tr th:only-of-type {\n",
       "        vertical-align: middle;\n",
       "    }\n",
       "\n",
       "    .dataframe tbody tr th {\n",
       "        vertical-align: top;\n",
       "    }\n",
       "\n",
       "    .dataframe thead th {\n",
       "        text-align: right;\n",
       "    }\n",
       "</style>\n",
       "<table border=\"1\" class=\"dataframe\">\n",
       "  <thead>\n",
       "    <tr style=\"text-align: right;\">\n",
       "      <th></th>\n",
       "      <th>total_bill</th>\n",
       "      <th>tip</th>\n",
       "      <th>size</th>\n",
       "    </tr>\n",
       "  </thead>\n",
       "  <tbody>\n",
       "    <tr>\n",
       "      <th>count</th>\n",
       "      <td>244.000000</td>\n",
       "      <td>244.000000</td>\n",
       "      <td>244.000000</td>\n",
       "    </tr>\n",
       "    <tr>\n",
       "      <th>mean</th>\n",
       "      <td>19.785943</td>\n",
       "      <td>2.998279</td>\n",
       "      <td>2.569672</td>\n",
       "    </tr>\n",
       "    <tr>\n",
       "      <th>std</th>\n",
       "      <td>8.902412</td>\n",
       "      <td>1.383638</td>\n",
       "      <td>0.951100</td>\n",
       "    </tr>\n",
       "    <tr>\n",
       "      <th>min</th>\n",
       "      <td>3.070000</td>\n",
       "      <td>1.000000</td>\n",
       "      <td>1.000000</td>\n",
       "    </tr>\n",
       "    <tr>\n",
       "      <th>25%</th>\n",
       "      <td>13.347500</td>\n",
       "      <td>2.000000</td>\n",
       "      <td>2.000000</td>\n",
       "    </tr>\n",
       "    <tr>\n",
       "      <th>50%</th>\n",
       "      <td>17.795000</td>\n",
       "      <td>2.900000</td>\n",
       "      <td>2.000000</td>\n",
       "    </tr>\n",
       "    <tr>\n",
       "      <th>75%</th>\n",
       "      <td>24.127500</td>\n",
       "      <td>3.562500</td>\n",
       "      <td>3.000000</td>\n",
       "    </tr>\n",
       "    <tr>\n",
       "      <th>max</th>\n",
       "      <td>50.810000</td>\n",
       "      <td>10.000000</td>\n",
       "      <td>6.000000</td>\n",
       "    </tr>\n",
       "  </tbody>\n",
       "</table>\n",
       "</div>"
      ],
      "text/plain": [
       "       total_bill         tip        size\n",
       "count  244.000000  244.000000  244.000000\n",
       "mean    19.785943    2.998279    2.569672\n",
       "std      8.902412    1.383638    0.951100\n",
       "min      3.070000    1.000000    1.000000\n",
       "25%     13.347500    2.000000    2.000000\n",
       "50%     17.795000    2.900000    2.000000\n",
       "75%     24.127500    3.562500    3.000000\n",
       "max     50.810000   10.000000    6.000000"
      ]
     },
     "execution_count": 93,
     "metadata": {},
     "output_type": "execute_result"
    }
   ],
   "source": [
    "# YOUR CODE IS HERE\n",
    "\n",
    "df.dropna()\n",
    "df.describe()"
   ]
  },
  {
   "cell_type": "markdown",
   "metadata": {
    "id": "3yCRK4VJPzRo"
   },
   "source": [
    "### <span style=\"color:#49519E\">16. Calculate `Pairwise Pearson's r` correlation of columns.<span>"
   ]
  },
  {
   "cell_type": "code",
   "execution_count": 119,
   "metadata": {
    "id": "YKAoR2QRV8PK"
   },
   "outputs": [
    {
     "data": {
      "text/html": [
       "<div>\n",
       "<style scoped>\n",
       "    .dataframe tbody tr th:only-of-type {\n",
       "        vertical-align: middle;\n",
       "    }\n",
       "\n",
       "    .dataframe tbody tr th {\n",
       "        vertical-align: top;\n",
       "    }\n",
       "\n",
       "    .dataframe thead th {\n",
       "        text-align: right;\n",
       "    }\n",
       "</style>\n",
       "<table border=\"1\" class=\"dataframe\">\n",
       "  <thead>\n",
       "    <tr style=\"text-align: right;\">\n",
       "      <th></th>\n",
       "      <th>total_bill</th>\n",
       "      <th>tip</th>\n",
       "      <th>size</th>\n",
       "    </tr>\n",
       "  </thead>\n",
       "  <tbody>\n",
       "    <tr>\n",
       "      <th>total_bill</th>\n",
       "      <td>1.000000</td>\n",
       "      <td>0.675734</td>\n",
       "      <td>0.598315</td>\n",
       "    </tr>\n",
       "    <tr>\n",
       "      <th>tip</th>\n",
       "      <td>0.675734</td>\n",
       "      <td>1.000000</td>\n",
       "      <td>0.489299</td>\n",
       "    </tr>\n",
       "    <tr>\n",
       "      <th>size</th>\n",
       "      <td>0.598315</td>\n",
       "      <td>0.489299</td>\n",
       "      <td>1.000000</td>\n",
       "    </tr>\n",
       "  </tbody>\n",
       "</table>\n",
       "</div>"
      ],
      "text/plain": [
       "            total_bill       tip      size\n",
       "total_bill    1.000000  0.675734  0.598315\n",
       "tip           0.675734  1.000000  0.489299\n",
       "size          0.598315  0.489299  1.000000"
      ]
     },
     "execution_count": 119,
     "metadata": {},
     "output_type": "execute_result"
    }
   ],
   "source": [
    "# YOUR CODE IS HERE\n",
    "\n",
    "df.corr(numeric_only=True)"
   ]
  },
  {
   "cell_type": "markdown",
   "metadata": {
    "id": "CbTcJThZV8PK"
   },
   "source": [
    "### <span style=\"color:#49519E\">17. Visualize mutual relationships of features by `pairplot'.<span>"
   ]
  },
  {
   "cell_type": "code",
   "execution_count": 117,
   "metadata": {
    "id": "vzhEk_9JV8PR"
   },
   "outputs": [
    {
     "data": {
      "image/png": "[encoded data removed]",
      "text/plain": [
       "<Figure size 750x750 with 12 Axes>"
      ]
     },
     "metadata": {},
     "output_type": "display_data"
    }
   ],
   "source": [
    "# YOUR CODE IS HERE\n",
    "\n",
    "import matplotlib.pyplot as plt\n",
    "\n",
    "numerical_columns = df.select_dtypes(include=\"number\").columns\n",
    "sns.set(style=\"ticks\", color_codes=True)\n",
    "sns.pairplot(df[numerical_columns], kind=\"reg\", diag_kind=\"kde\", plot_kws={\"line_kws\":{\"color\":\"red\"}})\n",
    "\n",
    "plt.show()"
   ]
  },
  {
   "cell_type": "markdown",
   "metadata": {
    "id": "g1fpZx0rV8PR"
   },
   "source": [
    "## <p style=\"background-color:#8CCED1; font-family:newtimeroman; color:#49519E; font-size:150%; text-align:center; border-radius:10px 10px;\">END OF THE ASSIGNMENT-01</p>\n",
    "\n",
    "# Now. it's time to relax!\n",
    "\n",
    "<p style=\"text-align: center;\"> <img src=\"https://i.ibb.co/qRXLyxs/blur-book-close-up-coffee-459265-scaled-e1596132095495.jpg\" width=\"800\" height=\"200\"\n",
    "\n",
    "[Image Credit](https://www.tuscany-villas.nl/in-toscane/2021/eten-en-wijn/accademia-del-caffe-espresso)\n",
    "\n",
    "<p style=\"text-align: center;\"><img src=\"https://i.ibb.co/99DQ3TY/DS-Courses.png\" class=\"img-fluid\"\n",
    "alt=\"CLRSWY_Courses\"></p>"
   ]
  },
  {
   "cell_type": "markdown",
   "metadata": {
    "deletable": false,
    "editable": false,
    "id": "pjcelkFqV8PR"
   },
   "source": [
    "<a href=\"https://ondiande.com/contact/\"><img align=\"center\" src=\"https://i.ibb.co/B43qn24/officially-licensed-logo.png\" alt=\"ONDIA Contact\" width=\"110\" height=\"200\" title=\"This notebook is licensed by ONDIA. Please contact the authorized persons about the conditions under which you can use or share.\"></a>"
   ]
  }
 ],
 "metadata": {
  "colab": {
   "provenance": [
    {
     "file_id": "1F8Ul2u7h9i9IQx5FDqVHJRsk6YPoOPBb",
     "timestamp": 1673022924234
    },
    {
     "file_id": "11XAqQ0T6shqmXGPZRiiUt8MIQEjvcH5T",
     "timestamp": 1642515419901
    }
   ]
  },
  "kernelspec": {
   "display_name": "Python 3 (ipykernel)",
   "language": "python",
   "name": "python3"
  },
  "language_info": {
   "codemirror_mode": {
    "name": "ipython",
    "version": 3
   },
   "file_extension": ".py",
   "mimetype": "text/x-python",
   "name": "python",
   "nbconvert_exporter": "python",
   "pygments_lexer": "ipython3",
   "version": "3.12.4"
  },
  "toc": {
   "base_numbering": "",
   "nav_menu": {},
   "number_sections": false,
   "sideBar": true,
   "skip_h1_title": false,
   "title_cell": "Table of Contents",
   "title_sidebar": "Contents",
   "toc_cell": false,
   "toc_position": {
    "height": "calc(100% - 180px)",
    "left": "10px",
    "top": "150px",
    "width": "307.2px"
   },
   "toc_section_display": true,
   "toc_window_display": true
  },
  "varInspector": {
   "cols": {
    "lenName": 16,
    "lenType": 16,
    "lenVar": 40
   },
   "kernels_config": {
    "python": {
     "delete_cmd_postfix": "",
     "delete_cmd_prefix": "del ",
     "library": "var_list.py",
     "varRefreshCmd": "print(var_dic_list())"
    },
    "r": {
     "delete_cmd_postfix": ") ",
     "delete_cmd_prefix": "rm(",
     "library": "var_list.r",
     "varRefreshCmd": "cat(var_dic_list()) "
    }
   },
   "types_to_exclude": [
    "module",
    "function",
    "builtin_function_or_method",
    "instance",
    "_Feature"
   ],
   "window_display": false
  }
 },
 "nbformat": 4,
 "nbformat_minor": 4
}
