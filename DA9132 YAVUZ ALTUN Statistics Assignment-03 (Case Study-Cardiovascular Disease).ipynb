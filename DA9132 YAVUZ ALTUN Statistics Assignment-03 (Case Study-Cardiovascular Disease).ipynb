{
 "cells": [
  {
   "cell_type": "markdown",
   "id": "3a7cba89",
   "metadata": {
    "deletable": false,
    "editable": false
   },
   "source": [
    "<a href=\"https://ondiande.com/contact/\"><img align=\"center\" src=\"https://i.ibb.co/B43qn24/officially-licensed-logo.png\" alt=\"ONDIA Contact\" width=\"110\" height=\"200\" title=\"This notebook is licensed by ONDIA. Please contact the authorized persons about the conditions under which you can use or share.\"></a>"
   ]
  },
  {
   "cell_type": "markdown",
   "id": "2144db3d",
   "metadata": {},
   "source": [
    "<hr>\n",
    "\n",
    "<a href=\"https://lms.clarusway.com/mod/lesson/view.php?id=2463&pageid=4531&startlastseen=no\"><img align=\"center\" src=\"https://i.ibb.co/6Z5pQxD/lmss.png\" alt=\"Open in Clarusway LMS\" width=\"70\" height=\"200\" title=\"Open Clarusway Learning Management Sytem\"></a>\n",
    "\n",
    "<a href=\"https://github.com/clarusway/DS-DE-0322-Students/blob/main/3-%20Classes%26Labs/2-DAwPY/DAwPy_S01_(Numpy_Arrays).ipynb\"><img align=\"left\" src=\"https://i.ibb.co/n3HWyQX/github-logo.png\" alt=\"Open in Clarusway GitHub\" width=\"90\" height=\"150\" title=\"Open and Execute in Clarusway GitHub Repository\"></a>\n",
    "\n",
    "<a href=\"https://nbviewer.org/github/4dsolutions/clarusway_data_analysis/blob/main/DAwPy_S1_%28Numpy_Arrays%29/DAwPy_S1_%28Numpy_Arrays%29.ipynb\"><img align=\"right\" src=\"https://i.ibb.co/48wtV8c/nbviewer-badge.png\" alt=\"Open in nbviewer\" width=\"100\" height=\"100\" title=\"Open and Execute in nbviewer\"></a><br/>\n",
    "\n",
    "<hr>\n",
    "\n",
    "<p style=\"text-align: center;\"><img src=\"https://i.ibb.co/XS0bxSH/best-bootcamps.png\" width=\"300\" height=\"200\" class=\"img-fluid\" alt=\"Best Bootcamp Batches\"></p>\n",
    "\n",
    "<br>\n",
    "\n",
    "<p style=\"text-align: center;\"><img src=\"https://i.ibb.co/Rpz9L36/clarusway-logo-black.png\" width=\"500\" height=\"200\" class=\"img-fluid\" alt=\"CLRSWY_LOGO\"></p>\n",
    "\n",
    "\n",
    "<p style=\"background-color:#E51A59; font-family:newtimeroman; color:#FDFEFE; font-size:130%; text-align:center; border-radius:10px 10px;\">WAY TO REINVENT YOURSELF</p>\n",
    "\n",
    "<br>\n",
    "\n",
    "<img src=https://i.ibb.co/HgnTPh9/stats.png width=\"500\" height=\"200\">\n",
    "\n",
    "<img src=https://i.ibb.co/Z8XGZ1b/case-study.jpg width=\"250\" height=\"200\">\n",
    "\n",
    "\n",
    "<!-- ![Image_Assignment](https://i.ibb.co/Z8XGZ1b/case-study.jpg) -->\n",
    "\n",
    "## <p style=\"background-color:#FDFEFE; font-family:newtimeroman; color:#4d77cf; font-size:175%; text-align:center; border-radius:10px 10px;\">Cardiovascular Disease</p>"
   ]
  },
  {
   "cell_type": "markdown",
   "id": "u3DMViJN2znV",
   "metadata": {
    "id": "u3DMViJN2znV"
   },
   "source": [
    "## <p style=\"background-color:#58B8E4; font-family:newtimeroman; color:#FFF9ED; font-size:175%; text-align:center; border-radius:10px 10px;\">About Cardiovascular Disease Dataset & Analysis</p>\n",
    "\n",
    "In this study, a dataset on Cardiovascular Disease will be analysed. The analysis will cover the following concepts:\n",
    "  - true means,\n",
    "  - confidence intervals,\n",
    "  - one sample t test,\n",
    "  - independent samples t test,\n",
    "  - homogenity of variance check (Levene's test),\n",
    "  - One-way ANOVA,\n",
    "  - Chi-square test.\n",
    "\n",
    "### <u>Data description:</u> \n",
    "\n",
    "The dataset consists of 70000 records of patients, 11 features, and a target variable.\n",
    "\n",
    "``There are 3 types of input features:``\n",
    "\n",
    "  - **``Objective``**: factual information;\n",
    "  - **``Examination``**: results of medical examination;\n",
    "  - **``Subjective``**: information given by the patient.\n",
    "\n",
    "Features:\n",
    "\n",
    "  - **``Age``** | Objective Feature | age | int (days)\n",
    "  - **``Height``** | Objective Feature | height | int (cm) |\n",
    "  - **``Weight``** | Objective Feature | weight | float (kg) |\n",
    "  - **``Gender``** | Objective Feature | gender | categorical code |\n",
    "  - **``Systolic blood pressure``** | Examination Feature | ap_hi | int |\n",
    "  - **``Diastolic blood pressure``** | Examination Feature | ap_lo | int |\n",
    "  - **``Cholesterol``** | Examination Feature | cholesterol | 1: normal, 2: above normal, 3: well above normal |\n",
    "  - **``Glucose``** | Examination Feature | gluc | 1: normal, 2: above normal, 3: well above normal |\n",
    "  - **``Smoking``** | Subjective Feature | smoke | binary |\n",
    "  - **``Alcohol intake``** | Subjective Feature | alco | binary |\n",
    "  - **``Physical activity``** | Subjective Feature | active | binary |\n",
    "  - **``Presence or absence of cardiovascular disease``** | Target Variable | cardio | binary |\n",
    "\n",
    "All of the records in the dataset were collected at the moment of medical examination.\n",
    "\n",
    "**For more information about [Dataset Source & Discussions on it](https://www.kaggle.com/datasets/sulianova/cardiovascular-disease-dataset)**"
   ]
  },
  {
   "cell_type": "markdown",
   "id": "ce8088f5",
   "metadata": {
    "id": "ce8088f5"
   },
   "source": [
    "## <p style=\"background-color:#58B8E4; font-family:newtimeroman; color:#FFF9ED; font-size:175%; text-align:center; border-radius:10px 10px;\">Data Preparation</p>"
   ]
  },
  {
   "cell_type": "markdown",
   "id": "c5e829d7",
   "metadata": {
    "id": "c5e829d7"
   },
   "source": [
    " ### ⭐ <span style=\"color:#49519E\">1. Import pandas, scipy.stats, seaborn, and matplotlib.pyplot libraries:<span>"
   ]
  },
  {
   "cell_type": "code",
   "execution_count": 8,
   "id": "90360b45",
   "metadata": {},
   "outputs": [],
   "source": [
    "import pandas as pd\n",
    "import numpy as np\n",
    "import seaborn as sns\n",
    "import matplotlib.pyplot as plt\n",
    "from scipy import stats"
   ]
  },
  {
   "cell_type": "markdown",
   "id": "2f34563e",
   "metadata": {},
   "source": [
    " ### ⭐ <span style=\"color:#49519E\">2. Read and assign the Dataset to ``df``:<span>"
   ]
  },
  {
   "cell_type": "code",
   "execution_count": 10,
   "id": "2cf4cb25",
   "metadata": {},
   "outputs": [
    {
     "data": {
      "text/html": [
       "<div>\n",
       "<style scoped>\n",
       "    .dataframe tbody tr th:only-of-type {\n",
       "        vertical-align: middle;\n",
       "    }\n",
       "\n",
       "    .dataframe tbody tr th {\n",
       "        vertical-align: top;\n",
       "    }\n",
       "\n",
       "    .dataframe thead th {\n",
       "        text-align: right;\n",
       "    }\n",
       "</style>\n",
       "<table border=\"1\" class=\"dataframe\">\n",
       "  <thead>\n",
       "    <tr style=\"text-align: right;\">\n",
       "      <th></th>\n",
       "      <th>id</th>\n",
       "      <th>age</th>\n",
       "      <th>gender</th>\n",
       "      <th>height</th>\n",
       "      <th>weight</th>\n",
       "      <th>ap_hi</th>\n",
       "      <th>ap_lo</th>\n",
       "      <th>cholesterol</th>\n",
       "      <th>gluc</th>\n",
       "      <th>smoke</th>\n",
       "      <th>alco</th>\n",
       "      <th>active</th>\n",
       "      <th>cardio</th>\n",
       "    </tr>\n",
       "  </thead>\n",
       "  <tbody>\n",
       "    <tr>\n",
       "      <th>0</th>\n",
       "      <td>0</td>\n",
       "      <td>18393</td>\n",
       "      <td>2</td>\n",
       "      <td>168</td>\n",
       "      <td>62.0</td>\n",
       "      <td>110</td>\n",
       "      <td>80</td>\n",
       "      <td>1</td>\n",
       "      <td>1</td>\n",
       "      <td>0</td>\n",
       "      <td>0</td>\n",
       "      <td>1</td>\n",
       "      <td>0</td>\n",
       "    </tr>\n",
       "    <tr>\n",
       "      <th>1</th>\n",
       "      <td>1</td>\n",
       "      <td>20228</td>\n",
       "      <td>1</td>\n",
       "      <td>156</td>\n",
       "      <td>85.0</td>\n",
       "      <td>140</td>\n",
       "      <td>90</td>\n",
       "      <td>3</td>\n",
       "      <td>1</td>\n",
       "      <td>0</td>\n",
       "      <td>0</td>\n",
       "      <td>1</td>\n",
       "      <td>1</td>\n",
       "    </tr>\n",
       "    <tr>\n",
       "      <th>2</th>\n",
       "      <td>2</td>\n",
       "      <td>18857</td>\n",
       "      <td>1</td>\n",
       "      <td>165</td>\n",
       "      <td>64.0</td>\n",
       "      <td>130</td>\n",
       "      <td>70</td>\n",
       "      <td>3</td>\n",
       "      <td>1</td>\n",
       "      <td>0</td>\n",
       "      <td>0</td>\n",
       "      <td>0</td>\n",
       "      <td>1</td>\n",
       "    </tr>\n",
       "    <tr>\n",
       "      <th>3</th>\n",
       "      <td>3</td>\n",
       "      <td>17623</td>\n",
       "      <td>2</td>\n",
       "      <td>169</td>\n",
       "      <td>82.0</td>\n",
       "      <td>150</td>\n",
       "      <td>100</td>\n",
       "      <td>1</td>\n",
       "      <td>1</td>\n",
       "      <td>0</td>\n",
       "      <td>0</td>\n",
       "      <td>1</td>\n",
       "      <td>1</td>\n",
       "    </tr>\n",
       "    <tr>\n",
       "      <th>4</th>\n",
       "      <td>4</td>\n",
       "      <td>17474</td>\n",
       "      <td>1</td>\n",
       "      <td>156</td>\n",
       "      <td>56.0</td>\n",
       "      <td>100</td>\n",
       "      <td>60</td>\n",
       "      <td>1</td>\n",
       "      <td>1</td>\n",
       "      <td>0</td>\n",
       "      <td>0</td>\n",
       "      <td>0</td>\n",
       "      <td>0</td>\n",
       "    </tr>\n",
       "  </tbody>\n",
       "</table>\n",
       "</div>"
      ],
      "text/plain": [
       "   id    age  gender  height  weight  ap_hi  ap_lo  cholesterol  gluc  smoke  \\\n",
       "0   0  18393       2     168    62.0    110     80            1     1      0   \n",
       "1   1  20228       1     156    85.0    140     90            3     1      0   \n",
       "2   2  18857       1     165    64.0    130     70            3     1      0   \n",
       "3   3  17623       2     169    82.0    150    100            1     1      0   \n",
       "4   4  17474       1     156    56.0    100     60            1     1      0   \n",
       "\n",
       "   alco  active  cardio  \n",
       "0     0       1       0  \n",
       "1     0       1       1  \n",
       "2     0       0       1  \n",
       "3     0       1       1  \n",
       "4     0       0       0  "
      ]
     },
     "execution_count": 10,
     "metadata": {},
     "output_type": "execute_result"
    }
   ],
   "source": [
    "df = pd.read_csv(\"cardio.csv\", delimiter=\";\")\n",
    "df.head()"
   ]
  },
  {
   "cell_type": "code",
   "execution_count": 11,
   "id": "78d0ebe6-9490-4517-b24b-336d8a926d7b",
   "metadata": {},
   "outputs": [
    {
     "data": {
      "text/html": [
       "<div>\n",
       "<style scoped>\n",
       "    .dataframe tbody tr th:only-of-type {\n",
       "        vertical-align: middle;\n",
       "    }\n",
       "\n",
       "    .dataframe tbody tr th {\n",
       "        vertical-align: top;\n",
       "    }\n",
       "\n",
       "    .dataframe thead th {\n",
       "        text-align: right;\n",
       "    }\n",
       "</style>\n",
       "<table border=\"1\" class=\"dataframe\">\n",
       "  <thead>\n",
       "    <tr style=\"text-align: right;\">\n",
       "      <th></th>\n",
       "      <th>age</th>\n",
       "      <th>gender</th>\n",
       "      <th>height</th>\n",
       "      <th>weight</th>\n",
       "      <th>ap_hi</th>\n",
       "      <th>ap_lo</th>\n",
       "      <th>cholesterol</th>\n",
       "      <th>gluc</th>\n",
       "      <th>smoke</th>\n",
       "      <th>alco</th>\n",
       "      <th>active</th>\n",
       "      <th>cardio</th>\n",
       "    </tr>\n",
       "    <tr>\n",
       "      <th>id</th>\n",
       "      <th></th>\n",
       "      <th></th>\n",
       "      <th></th>\n",
       "      <th></th>\n",
       "      <th></th>\n",
       "      <th></th>\n",
       "      <th></th>\n",
       "      <th></th>\n",
       "      <th></th>\n",
       "      <th></th>\n",
       "      <th></th>\n",
       "      <th></th>\n",
       "    </tr>\n",
       "  </thead>\n",
       "  <tbody>\n",
       "    <tr>\n",
       "      <th>0</th>\n",
       "      <td>18393</td>\n",
       "      <td>2</td>\n",
       "      <td>168</td>\n",
       "      <td>62.0</td>\n",
       "      <td>110</td>\n",
       "      <td>80</td>\n",
       "      <td>1</td>\n",
       "      <td>1</td>\n",
       "      <td>0</td>\n",
       "      <td>0</td>\n",
       "      <td>1</td>\n",
       "      <td>0</td>\n",
       "    </tr>\n",
       "    <tr>\n",
       "      <th>1</th>\n",
       "      <td>20228</td>\n",
       "      <td>1</td>\n",
       "      <td>156</td>\n",
       "      <td>85.0</td>\n",
       "      <td>140</td>\n",
       "      <td>90</td>\n",
       "      <td>3</td>\n",
       "      <td>1</td>\n",
       "      <td>0</td>\n",
       "      <td>0</td>\n",
       "      <td>1</td>\n",
       "      <td>1</td>\n",
       "    </tr>\n",
       "  </tbody>\n",
       "</table>\n",
       "</div>"
      ],
      "text/plain": [
       "      age  gender  height  weight  ap_hi  ap_lo  cholesterol  gluc  smoke  \\\n",
       "id                                                                          \n",
       "0   18393       2     168    62.0    110     80            1     1      0   \n",
       "1   20228       1     156    85.0    140     90            3     1      0   \n",
       "\n",
       "    alco  active  cardio  \n",
       "id                        \n",
       "0      0       1       0  \n",
       "1      0       1       1  "
      ]
     },
     "execution_count": 11,
     "metadata": {},
     "output_type": "execute_result"
    }
   ],
   "source": [
    "df.set_index(\"id\", inplace=True)\n",
    "df.head(2)"
   ]
  },
  {
   "cell_type": "code",
   "execution_count": 12,
   "id": "855c151f-b4bf-4ce0-b3f5-4d81d2f5d794",
   "metadata": {},
   "outputs": [
    {
     "data": {
      "text/plain": [
       "Index([    0,     1,     2,     3,     4,     8,     9,    12,    13,    14,\n",
       "       ...\n",
       "       99986, 99988, 99990, 99991, 99992, 99993, 99995, 99996, 99998, 99999],\n",
       "      dtype='int64', name='id', length=70000)"
      ]
     },
     "execution_count": 12,
     "metadata": {},
     "output_type": "execute_result"
    }
   ],
   "source": [
    "df.index"
   ]
  },
  {
   "cell_type": "markdown",
   "id": "bd8c4f4e",
   "metadata": {},
   "source": [
    " ### ⭐ <span style=\"color:#49519E\">3. Pick up 500 observations randomly and continue your analysis with this selected observations:<span>\n",
    "    \n",
    "**🚀 HINT: Use ``42`` as random_state.**"
   ]
  },
  {
   "cell_type": "code",
   "execution_count": 14,
   "id": "e266ea6d",
   "metadata": {},
   "outputs": [
    {
     "data": {
      "text/html": [
       "<div>\n",
       "<style scoped>\n",
       "    .dataframe tbody tr th:only-of-type {\n",
       "        vertical-align: middle;\n",
       "    }\n",
       "\n",
       "    .dataframe tbody tr th {\n",
       "        vertical-align: top;\n",
       "    }\n",
       "\n",
       "    .dataframe thead th {\n",
       "        text-align: right;\n",
       "    }\n",
       "</style>\n",
       "<table border=\"1\" class=\"dataframe\">\n",
       "  <thead>\n",
       "    <tr style=\"text-align: right;\">\n",
       "      <th></th>\n",
       "      <th>age</th>\n",
       "      <th>gender</th>\n",
       "      <th>height</th>\n",
       "      <th>weight</th>\n",
       "      <th>ap_hi</th>\n",
       "      <th>ap_lo</th>\n",
       "      <th>cholesterol</th>\n",
       "      <th>gluc</th>\n",
       "      <th>smoke</th>\n",
       "      <th>alco</th>\n",
       "      <th>active</th>\n",
       "      <th>cardio</th>\n",
       "    </tr>\n",
       "    <tr>\n",
       "      <th>id</th>\n",
       "      <th></th>\n",
       "      <th></th>\n",
       "      <th></th>\n",
       "      <th></th>\n",
       "      <th></th>\n",
       "      <th></th>\n",
       "      <th></th>\n",
       "      <th></th>\n",
       "      <th></th>\n",
       "      <th></th>\n",
       "      <th></th>\n",
       "      <th></th>\n",
       "    </tr>\n",
       "  </thead>\n",
       "  <tbody>\n",
       "    <tr>\n",
       "      <th>66728</th>\n",
       "      <td>21770</td>\n",
       "      <td>1</td>\n",
       "      <td>156</td>\n",
       "      <td>64.0</td>\n",
       "      <td>140</td>\n",
       "      <td>80</td>\n",
       "      <td>2</td>\n",
       "      <td>1</td>\n",
       "      <td>0</td>\n",
       "      <td>0</td>\n",
       "      <td>1</td>\n",
       "      <td>1</td>\n",
       "    </tr>\n",
       "    <tr>\n",
       "      <th>69098</th>\n",
       "      <td>21876</td>\n",
       "      <td>1</td>\n",
       "      <td>170</td>\n",
       "      <td>85.0</td>\n",
       "      <td>160</td>\n",
       "      <td>90</td>\n",
       "      <td>1</td>\n",
       "      <td>1</td>\n",
       "      <td>0</td>\n",
       "      <td>0</td>\n",
       "      <td>1</td>\n",
       "      <td>1</td>\n",
       "    </tr>\n",
       "    <tr>\n",
       "      <th>59185</th>\n",
       "      <td>23270</td>\n",
       "      <td>1</td>\n",
       "      <td>151</td>\n",
       "      <td>90.0</td>\n",
       "      <td>130</td>\n",
       "      <td>80</td>\n",
       "      <td>1</td>\n",
       "      <td>1</td>\n",
       "      <td>0</td>\n",
       "      <td>0</td>\n",
       "      <td>1</td>\n",
       "      <td>1</td>\n",
       "    </tr>\n",
       "    <tr>\n",
       "      <th>49288</th>\n",
       "      <td>19741</td>\n",
       "      <td>1</td>\n",
       "      <td>159</td>\n",
       "      <td>97.0</td>\n",
       "      <td>120</td>\n",
       "      <td>80</td>\n",
       "      <td>1</td>\n",
       "      <td>1</td>\n",
       "      <td>0</td>\n",
       "      <td>0</td>\n",
       "      <td>1</td>\n",
       "      <td>1</td>\n",
       "    </tr>\n",
       "    <tr>\n",
       "      <th>62481</th>\n",
       "      <td>18395</td>\n",
       "      <td>1</td>\n",
       "      <td>164</td>\n",
       "      <td>68.0</td>\n",
       "      <td>120</td>\n",
       "      <td>80</td>\n",
       "      <td>1</td>\n",
       "      <td>1</td>\n",
       "      <td>0</td>\n",
       "      <td>0</td>\n",
       "      <td>1</td>\n",
       "      <td>0</td>\n",
       "    </tr>\n",
       "  </tbody>\n",
       "</table>\n",
       "</div>"
      ],
      "text/plain": [
       "         age  gender  height  weight  ap_hi  ap_lo  cholesterol  gluc  smoke  \\\n",
       "id                                                                             \n",
       "66728  21770       1     156    64.0    140     80            2     1      0   \n",
       "69098  21876       1     170    85.0    160     90            1     1      0   \n",
       "59185  23270       1     151    90.0    130     80            1     1      0   \n",
       "49288  19741       1     159    97.0    120     80            1     1      0   \n",
       "62481  18395       1     164    68.0    120     80            1     1      0   \n",
       "\n",
       "       alco  active  cardio  \n",
       "id                           \n",
       "66728     0       1       1  \n",
       "69098     0       1       1  \n",
       "59185     0       1       1  \n",
       "49288     0       1       1  \n",
       "62481     0       1       0  "
      ]
     },
     "execution_count": 14,
     "metadata": {},
     "output_type": "execute_result"
    }
   ],
   "source": [
    "sample_df = df.sample(500, random_state=42)\n",
    "sample_df.head()"
   ]
  },
  {
   "cell_type": "markdown",
   "id": "218ddde8",
   "metadata": {},
   "source": [
    "### ⭐ <span style=\"color:#49519E\">4. Explore the Dataset:<span>\n",
    "    \n",
    "**🚀 HINT: Use te following metods or more if needed.**\n",
    "    \n",
    "``df.head()``\n",
    "``df.info()``\n",
    "``df.shape``\n",
    "``df.describe()``"
   ]
  },
  {
   "cell_type": "code",
   "execution_count": 16,
   "id": "902eee76",
   "metadata": {},
   "outputs": [
    {
     "name": "stdout",
     "output_type": "stream",
     "text": [
      "<class 'pandas.core.frame.DataFrame'>\n",
      "Index: 500 entries, 66728 to 60247\n",
      "Data columns (total 12 columns):\n",
      " #   Column       Non-Null Count  Dtype  \n",
      "---  ------       --------------  -----  \n",
      " 0   age          500 non-null    int64  \n",
      " 1   gender       500 non-null    int64  \n",
      " 2   height       500 non-null    int64  \n",
      " 3   weight       500 non-null    float64\n",
      " 4   ap_hi        500 non-null    int64  \n",
      " 5   ap_lo        500 non-null    int64  \n",
      " 6   cholesterol  500 non-null    int64  \n",
      " 7   gluc         500 non-null    int64  \n",
      " 8   smoke        500 non-null    int64  \n",
      " 9   alco         500 non-null    int64  \n",
      " 10  active       500 non-null    int64  \n",
      " 11  cardio       500 non-null    int64  \n",
      "dtypes: float64(1), int64(11)\n",
      "memory usage: 50.8 KB\n"
     ]
    }
   ],
   "source": [
    "sample_df.info()"
   ]
  },
  {
   "cell_type": "code",
   "execution_count": 17,
   "id": "61a202f8",
   "metadata": {},
   "outputs": [
    {
     "data": {
      "text/html": [
       "<div>\n",
       "<style scoped>\n",
       "    .dataframe tbody tr th:only-of-type {\n",
       "        vertical-align: middle;\n",
       "    }\n",
       "\n",
       "    .dataframe tbody tr th {\n",
       "        vertical-align: top;\n",
       "    }\n",
       "\n",
       "    .dataframe thead th {\n",
       "        text-align: right;\n",
       "    }\n",
       "</style>\n",
       "<table border=\"1\" class=\"dataframe\">\n",
       "  <thead>\n",
       "    <tr style=\"text-align: right;\">\n",
       "      <th></th>\n",
       "      <th>count</th>\n",
       "      <th>mean</th>\n",
       "      <th>std</th>\n",
       "      <th>min</th>\n",
       "      <th>25%</th>\n",
       "      <th>50%</th>\n",
       "      <th>75%</th>\n",
       "      <th>max</th>\n",
       "    </tr>\n",
       "  </thead>\n",
       "  <tbody>\n",
       "    <tr>\n",
       "      <th>age</th>\n",
       "      <td>500.0</td>\n",
       "      <td>19460.9400</td>\n",
       "      <td>2444.264657</td>\n",
       "      <td>14319.0</td>\n",
       "      <td>17804.0</td>\n",
       "      <td>19669.0</td>\n",
       "      <td>21326.25</td>\n",
       "      <td>23670.0</td>\n",
       "    </tr>\n",
       "    <tr>\n",
       "      <th>gender</th>\n",
       "      <td>500.0</td>\n",
       "      <td>1.3680</td>\n",
       "      <td>0.482744</td>\n",
       "      <td>1.0</td>\n",
       "      <td>1.0</td>\n",
       "      <td>1.0</td>\n",
       "      <td>2.00</td>\n",
       "      <td>2.0</td>\n",
       "    </tr>\n",
       "    <tr>\n",
       "      <th>height</th>\n",
       "      <td>500.0</td>\n",
       "      <td>164.7460</td>\n",
       "      <td>8.017609</td>\n",
       "      <td>144.0</td>\n",
       "      <td>159.0</td>\n",
       "      <td>165.0</td>\n",
       "      <td>170.00</td>\n",
       "      <td>198.0</td>\n",
       "    </tr>\n",
       "    <tr>\n",
       "      <th>weight</th>\n",
       "      <td>500.0</td>\n",
       "      <td>74.0934</td>\n",
       "      <td>14.340822</td>\n",
       "      <td>43.0</td>\n",
       "      <td>65.0</td>\n",
       "      <td>72.0</td>\n",
       "      <td>80.00</td>\n",
       "      <td>160.0</td>\n",
       "    </tr>\n",
       "    <tr>\n",
       "      <th>ap_hi</th>\n",
       "      <td>500.0</td>\n",
       "      <td>127.9120</td>\n",
       "      <td>40.823490</td>\n",
       "      <td>-120.0</td>\n",
       "      <td>120.0</td>\n",
       "      <td>120.0</td>\n",
       "      <td>140.00</td>\n",
       "      <td>907.0</td>\n",
       "    </tr>\n",
       "    <tr>\n",
       "      <th>ap_lo</th>\n",
       "      <td>500.0</td>\n",
       "      <td>98.9080</td>\n",
       "      <td>130.985839</td>\n",
       "      <td>0.0</td>\n",
       "      <td>80.0</td>\n",
       "      <td>80.0</td>\n",
       "      <td>90.00</td>\n",
       "      <td>1200.0</td>\n",
       "    </tr>\n",
       "    <tr>\n",
       "      <th>cholesterol</th>\n",
       "      <td>500.0</td>\n",
       "      <td>1.3380</td>\n",
       "      <td>0.651617</td>\n",
       "      <td>1.0</td>\n",
       "      <td>1.0</td>\n",
       "      <td>1.0</td>\n",
       "      <td>1.00</td>\n",
       "      <td>3.0</td>\n",
       "    </tr>\n",
       "    <tr>\n",
       "      <th>gluc</th>\n",
       "      <td>500.0</td>\n",
       "      <td>1.1920</td>\n",
       "      <td>0.540111</td>\n",
       "      <td>1.0</td>\n",
       "      <td>1.0</td>\n",
       "      <td>1.0</td>\n",
       "      <td>1.00</td>\n",
       "      <td>3.0</td>\n",
       "    </tr>\n",
       "    <tr>\n",
       "      <th>smoke</th>\n",
       "      <td>500.0</td>\n",
       "      <td>0.0780</td>\n",
       "      <td>0.268440</td>\n",
       "      <td>0.0</td>\n",
       "      <td>0.0</td>\n",
       "      <td>0.0</td>\n",
       "      <td>0.00</td>\n",
       "      <td>1.0</td>\n",
       "    </tr>\n",
       "    <tr>\n",
       "      <th>alco</th>\n",
       "      <td>500.0</td>\n",
       "      <td>0.0460</td>\n",
       "      <td>0.209695</td>\n",
       "      <td>0.0</td>\n",
       "      <td>0.0</td>\n",
       "      <td>0.0</td>\n",
       "      <td>0.00</td>\n",
       "      <td>1.0</td>\n",
       "    </tr>\n",
       "    <tr>\n",
       "      <th>active</th>\n",
       "      <td>500.0</td>\n",
       "      <td>0.7620</td>\n",
       "      <td>0.426286</td>\n",
       "      <td>0.0</td>\n",
       "      <td>1.0</td>\n",
       "      <td>1.0</td>\n",
       "      <td>1.00</td>\n",
       "      <td>1.0</td>\n",
       "    </tr>\n",
       "    <tr>\n",
       "      <th>cardio</th>\n",
       "      <td>500.0</td>\n",
       "      <td>0.4920</td>\n",
       "      <td>0.500437</td>\n",
       "      <td>0.0</td>\n",
       "      <td>0.0</td>\n",
       "      <td>0.0</td>\n",
       "      <td>1.00</td>\n",
       "      <td>1.0</td>\n",
       "    </tr>\n",
       "  </tbody>\n",
       "</table>\n",
       "</div>"
      ],
      "text/plain": [
       "             count        mean          std      min      25%      50%  \\\n",
       "age          500.0  19460.9400  2444.264657  14319.0  17804.0  19669.0   \n",
       "gender       500.0      1.3680     0.482744      1.0      1.0      1.0   \n",
       "height       500.0    164.7460     8.017609    144.0    159.0    165.0   \n",
       "weight       500.0     74.0934    14.340822     43.0     65.0     72.0   \n",
       "ap_hi        500.0    127.9120    40.823490   -120.0    120.0    120.0   \n",
       "ap_lo        500.0     98.9080   130.985839      0.0     80.0     80.0   \n",
       "cholesterol  500.0      1.3380     0.651617      1.0      1.0      1.0   \n",
       "gluc         500.0      1.1920     0.540111      1.0      1.0      1.0   \n",
       "smoke        500.0      0.0780     0.268440      0.0      0.0      0.0   \n",
       "alco         500.0      0.0460     0.209695      0.0      0.0      0.0   \n",
       "active       500.0      0.7620     0.426286      0.0      1.0      1.0   \n",
       "cardio       500.0      0.4920     0.500437      0.0      0.0      0.0   \n",
       "\n",
       "                  75%      max  \n",
       "age          21326.25  23670.0  \n",
       "gender           2.00      2.0  \n",
       "height         170.00    198.0  \n",
       "weight          80.00    160.0  \n",
       "ap_hi          140.00    907.0  \n",
       "ap_lo           90.00   1200.0  \n",
       "cholesterol      1.00      3.0  \n",
       "gluc             1.00      3.0  \n",
       "smoke            0.00      1.0  \n",
       "alco             0.00      1.0  \n",
       "active           1.00      1.0  \n",
       "cardio           1.00      1.0  "
      ]
     },
     "execution_count": 17,
     "metadata": {},
     "output_type": "execute_result"
    }
   ],
   "source": [
    "sample_df.describe().T"
   ]
  },
  {
   "cell_type": "code",
   "execution_count": 18,
   "id": "f2837859",
   "metadata": {},
   "outputs": [
    {
     "data": {
      "text/plain": [
       "gender\n",
       "1    316\n",
       "2    184\n",
       "Name: count, dtype: int64"
      ]
     },
     "execution_count": 18,
     "metadata": {},
     "output_type": "execute_result"
    }
   ],
   "source": [
    "sample_df.gender.value_counts()"
   ]
  },
  {
   "cell_type": "code",
   "execution_count": 19,
   "id": "994fd5fe",
   "metadata": {},
   "outputs": [
    {
     "data": {
      "text/plain": [
       "smoke\n",
       "0    461\n",
       "1     39\n",
       "Name: count, dtype: int64"
      ]
     },
     "execution_count": 19,
     "metadata": {},
     "output_type": "execute_result"
    }
   ],
   "source": [
    "sample_df.smoke.value_counts()"
   ]
  },
  {
   "cell_type": "markdown",
   "id": "95717d19",
   "metadata": {},
   "source": [
    "### ⭐ <span style=\"color:#49519E\">5. Check missing values; if so, handle them:<span>"
   ]
  },
  {
   "cell_type": "code",
   "execution_count": 21,
   "id": "c17ce3e8",
   "metadata": {},
   "outputs": [
    {
     "data": {
      "text/plain": [
       "age            0\n",
       "gender         0\n",
       "height         0\n",
       "weight         0\n",
       "ap_hi          0\n",
       "ap_lo          0\n",
       "cholesterol    0\n",
       "gluc           0\n",
       "smoke          0\n",
       "alco           0\n",
       "active         0\n",
       "cardio         0\n",
       "dtype: int64"
      ]
     },
     "execution_count": 21,
     "metadata": {},
     "output_type": "execute_result"
    }
   ],
   "source": [
    "sample_df.isnull().sum()"
   ]
  },
  {
   "cell_type": "markdown",
   "id": "159ec9ef",
   "metadata": {
    "id": "159ec9ef"
   },
   "source": [
    "### ⭐ <span style=\"color:#49519E\">6. Check extreme values for each feature visually; if so, handle them:<span>\n",
    "    \n",
    "**🚀 HINTS:**     \n",
    "  - <u>Blood pressure could NOT be negative value! Even it rarely exceeds some point.</u>   \n",
    "  - <u>Be careful about the row index numbers since you picked up some observations randomly.</u>   \n",
    "  - <u>Be careful about the ``age`` feature since it's given as days.</u>"
   ]
  },
  {
   "cell_type": "code",
   "execution_count": 23,
   "id": "b0487e4b",
   "metadata": {},
   "outputs": [
    {
     "data": {
      "text/html": [
       "<div>\n",
       "<style scoped>\n",
       "    .dataframe tbody tr th:only-of-type {\n",
       "        vertical-align: middle;\n",
       "    }\n",
       "\n",
       "    .dataframe tbody tr th {\n",
       "        vertical-align: top;\n",
       "    }\n",
       "\n",
       "    .dataframe thead th {\n",
       "        text-align: right;\n",
       "    }\n",
       "</style>\n",
       "<table border=\"1\" class=\"dataframe\">\n",
       "  <thead>\n",
       "    <tr style=\"text-align: right;\">\n",
       "      <th></th>\n",
       "      <th>age</th>\n",
       "      <th>gender</th>\n",
       "      <th>height</th>\n",
       "      <th>weight</th>\n",
       "      <th>ap_hi</th>\n",
       "      <th>ap_lo</th>\n",
       "      <th>cholesterol</th>\n",
       "      <th>gluc</th>\n",
       "      <th>smoke</th>\n",
       "      <th>alco</th>\n",
       "      <th>active</th>\n",
       "      <th>cardio</th>\n",
       "    </tr>\n",
       "    <tr>\n",
       "      <th>id</th>\n",
       "      <th></th>\n",
       "      <th></th>\n",
       "      <th></th>\n",
       "      <th></th>\n",
       "      <th></th>\n",
       "      <th></th>\n",
       "      <th></th>\n",
       "      <th></th>\n",
       "      <th></th>\n",
       "      <th></th>\n",
       "      <th></th>\n",
       "      <th></th>\n",
       "    </tr>\n",
       "  </thead>\n",
       "  <tbody>\n",
       "    <tr>\n",
       "      <th>66728</th>\n",
       "      <td>21770</td>\n",
       "      <td>1</td>\n",
       "      <td>156</td>\n",
       "      <td>64.0</td>\n",
       "      <td>140</td>\n",
       "      <td>80</td>\n",
       "      <td>2</td>\n",
       "      <td>1</td>\n",
       "      <td>0</td>\n",
       "      <td>0</td>\n",
       "      <td>1</td>\n",
       "      <td>1</td>\n",
       "    </tr>\n",
       "  </tbody>\n",
       "</table>\n",
       "</div>"
      ],
      "text/plain": [
       "         age  gender  height  weight  ap_hi  ap_lo  cholesterol  gluc  smoke  \\\n",
       "id                                                                             \n",
       "66728  21770       1     156    64.0    140     80            2     1      0   \n",
       "\n",
       "       alco  active  cardio  \n",
       "id                           \n",
       "66728     0       1       1  "
      ]
     },
     "execution_count": 23,
     "metadata": {},
     "output_type": "execute_result"
    }
   ],
   "source": [
    "sample_df.head(1)"
   ]
  },
  {
   "cell_type": "code",
   "execution_count": 24,
   "id": "fc52a0b4",
   "metadata": {},
   "outputs": [
    {
     "data": {
      "image/png": "[encoded data removed]",
      "text/plain": [
       "<Figure size 640x480 with 1 Axes>"
      ]
     },
     "metadata": {},
     "output_type": "display_data"
    }
   ],
   "source": [
    "sns.boxplot(data=sample_df, x=\"age\");"
   ]
  },
  {
   "cell_type": "code",
   "execution_count": 25,
   "id": "7dd6db16",
   "metadata": {},
   "outputs": [
    {
     "data": {
      "image/png": "[encoded data removed]",
      "text/plain": [
       "<Figure size 640x480 with 1 Axes>"
      ]
     },
     "metadata": {},
     "output_type": "display_data"
    }
   ],
   "source": [
    "sns.boxplot(data=sample_df, x=\"height\");"
   ]
  },
  {
   "cell_type": "code",
   "execution_count": 26,
   "id": "7e635973",
   "metadata": {},
   "outputs": [
    {
     "data": {
      "image/png": "[encoded data removed]",
      "text/plain": [
       "<Figure size 640x480 with 1 Axes>"
      ]
     },
     "metadata": {},
     "output_type": "display_data"
    }
   ],
   "source": [
    "sns.boxplot(data=sample_df, x=\"weight\");"
   ]
  },
  {
   "cell_type": "code",
   "execution_count": 27,
   "id": "b493fbe1-1473-45bb-a59d-c68d55f5bd67",
   "metadata": {},
   "outputs": [
    {
     "data": {
      "image/png": "[encoded data removed]",
      "text/plain": [
       "<Figure size 640x480 with 1 Axes>"
      ]
     },
     "metadata": {},
     "output_type": "display_data"
    }
   ],
   "source": [
    "sns.boxplot(data=sample_df, x=\"ap_hi\");"
   ]
  },
  {
   "cell_type": "code",
   "execution_count": 28,
   "id": "7371ed90-2090-4d2b-b410-dfe60a5abbbe",
   "metadata": {},
   "outputs": [
    {
     "data": {
      "image/png": "[encoded data removed]",
      "text/plain": [
       "<Figure size 640x480 with 1 Axes>"
      ]
     },
     "metadata": {},
     "output_type": "display_data"
    }
   ],
   "source": [
    "sns.boxplot(data=sample_df, x=\"ap_lo\");"
   ]
  },
  {
   "cell_type": "markdown",
   "id": "d5d0ded4",
   "metadata": {},
   "source": [
    "**🤔 DOMAIN KNOWLEDGE ABOUT SYSTOLIC BLOOD PRESSURE:**\n",
    "\n",
    "Normal blood pressure for most adults is defined as a systolic pressure of less than 120 and a diastolic pressure of less than 80. [Source](https://www.nia.nih.gov/health/high-blood-pressure/high-blood-pressure-and-older-adults#:~:text=Normal%20blood%20pressure%20for%20most,pressure%20of%20less%20than%2080.)\n",
    "\n",
    "``Can systolic blood pressure be zero?`` When blood pressure drops to zero, it typically signifies a complete failure of the circulatory system, which is a life-threatening situation...If blood pressure were to reach zero, it would indicate that blood is no longer circulating effectively, which can lead to severe complications such as Hypovolemic Shock, Cardiogenic Shock, Septic Shock, Anaphylactic Shock and so on. [Source](https://www.quora.com/What-will-happen-when-the-blood-pressure-goes-zero) If your blood pressure drops too low, your body's vital organs do not get enough oxygen and nutrients. When this happens, low blood pressure can lead to shock , which requires immediate medical attention. Signs of shock include cold and sweaty skin, rapid breathing, a blue skin tone, or a weak and rapid pulse. [Source](https://www.nhlbi.nih.gov/health/low-blood-pressure#:~:text=If%20your%20blood%20pressure%20drops,a%20weak%20and%20rapid%20pulse.)\n",
    "\n",
    "``Is it possible to have a 300 systolic blood pressure?`` Very Rare but possible.Such BP is observed when you have a stroke...Anything above 210/120 is called a Hypertensive Crisis and needs hospitalization...[Source](https://www.quora.com/Is-it-possible-to-have-a-300-systolic-blood-pressure) The commonest pattern is that of hypertensive crisis, with profound general malaise, during which the systolic blood pressure could exceed 300 mmHg and is often >250 mmHg...[Source](https://www.ncbi.nlm.nih.gov/pmc/articles/PMC2780609/#:~:text=The%20commonest%20pattern%20is%20that,Another%20presentation%20is%20volatile%20hypertension.)"
   ]
  },
  {
   "cell_type": "markdown",
   "id": "6bb957a0",
   "metadata": {},
   "source": [
    "**Analyse extreme values on systolic pressure visually via Box plot:**"
   ]
  },
  {
   "cell_type": "code",
   "execution_count": 31,
   "id": "7225d6af",
   "metadata": {},
   "outputs": [
    {
     "data": {
      "image/png": "[encoded data removed]",
      "text/plain": [
       "<Figure size 640x480 with 1 Axes>"
      ]
     },
     "metadata": {},
     "output_type": "display_data"
    }
   ],
   "source": [
    "sns.boxplot(data=sample_df, x=\"ap_hi\");"
   ]
  },
  {
   "cell_type": "markdown",
   "id": "8902cb1e",
   "metadata": {},
   "source": [
    "**Accordance with the Domain Knowledge obtained, handle unrealistic values for systolic blood pressure:**"
   ]
  },
  {
   "cell_type": "code",
   "execution_count": 33,
   "id": "9b1ee931",
   "metadata": {},
   "outputs": [
    {
     "data": {
      "text/html": [
       "<div>\n",
       "<style scoped>\n",
       "    .dataframe tbody tr th:only-of-type {\n",
       "        vertical-align: middle;\n",
       "    }\n",
       "\n",
       "    .dataframe tbody tr th {\n",
       "        vertical-align: top;\n",
       "    }\n",
       "\n",
       "    .dataframe thead th {\n",
       "        text-align: right;\n",
       "    }\n",
       "</style>\n",
       "<table border=\"1\" class=\"dataframe\">\n",
       "  <thead>\n",
       "    <tr style=\"text-align: right;\">\n",
       "      <th></th>\n",
       "      <th>age</th>\n",
       "      <th>gender</th>\n",
       "      <th>height</th>\n",
       "      <th>weight</th>\n",
       "      <th>ap_hi</th>\n",
       "      <th>ap_lo</th>\n",
       "      <th>cholesterol</th>\n",
       "      <th>gluc</th>\n",
       "      <th>smoke</th>\n",
       "      <th>alco</th>\n",
       "      <th>active</th>\n",
       "      <th>cardio</th>\n",
       "    </tr>\n",
       "    <tr>\n",
       "      <th>id</th>\n",
       "      <th></th>\n",
       "      <th></th>\n",
       "      <th></th>\n",
       "      <th></th>\n",
       "      <th></th>\n",
       "      <th></th>\n",
       "      <th></th>\n",
       "      <th></th>\n",
       "      <th></th>\n",
       "      <th></th>\n",
       "      <th></th>\n",
       "      <th></th>\n",
       "    </tr>\n",
       "  </thead>\n",
       "  <tbody>\n",
       "    <tr>\n",
       "      <th>45400</th>\n",
       "      <td>16070</td>\n",
       "      <td>1</td>\n",
       "      <td>170</td>\n",
       "      <td>64.0</td>\n",
       "      <td>907</td>\n",
       "      <td>0</td>\n",
       "      <td>1</td>\n",
       "      <td>1</td>\n",
       "      <td>0</td>\n",
       "      <td>0</td>\n",
       "      <td>1</td>\n",
       "      <td>0</td>\n",
       "    </tr>\n",
       "    <tr>\n",
       "      <th>20726</th>\n",
       "      <td>18284</td>\n",
       "      <td>1</td>\n",
       "      <td>160</td>\n",
       "      <td>63.0</td>\n",
       "      <td>12</td>\n",
       "      <td>80</td>\n",
       "      <td>1</td>\n",
       "      <td>1</td>\n",
       "      <td>0</td>\n",
       "      <td>0</td>\n",
       "      <td>1</td>\n",
       "      <td>0</td>\n",
       "    </tr>\n",
       "    <tr>\n",
       "      <th>36025</th>\n",
       "      <td>14711</td>\n",
       "      <td>2</td>\n",
       "      <td>168</td>\n",
       "      <td>50.0</td>\n",
       "      <td>-120</td>\n",
       "      <td>80</td>\n",
       "      <td>2</td>\n",
       "      <td>1</td>\n",
       "      <td>0</td>\n",
       "      <td>0</td>\n",
       "      <td>0</td>\n",
       "      <td>1</td>\n",
       "    </tr>\n",
       "  </tbody>\n",
       "</table>\n",
       "</div>"
      ],
      "text/plain": [
       "         age  gender  height  weight  ap_hi  ap_lo  cholesterol  gluc  smoke  \\\n",
       "id                                                                             \n",
       "45400  16070       1     170    64.0    907      0            1     1      0   \n",
       "20726  18284       1     160    63.0     12     80            1     1      0   \n",
       "36025  14711       2     168    50.0   -120     80            2     1      0   \n",
       "\n",
       "       alco  active  cardio  \n",
       "id                           \n",
       "45400     0       1       0  \n",
       "20726     0       1       0  \n",
       "36025     0       0       1  "
      ]
     },
     "execution_count": 33,
     "metadata": {},
     "output_type": "execute_result"
    }
   ],
   "source": [
    "sample_df[(sample_df.ap_hi < 80) | (sample_df.ap_hi > 210)]"
   ]
  },
  {
   "cell_type": "code",
   "execution_count": 34,
   "id": "20bebc75",
   "metadata": {},
   "outputs": [],
   "source": [
    "sample_df.drop([45400, 20726, 36025], axis=0, inplace=True)"
   ]
  },
  {
   "cell_type": "code",
   "execution_count": 35,
   "id": "3c4b60ce-4ba3-41da-9727-f2606aff20f5",
   "metadata": {},
   "outputs": [
    {
     "data": {
      "image/png": "[encoded data removed]",
      "text/plain": [
       "<Figure size 640x480 with 1 Axes>"
      ]
     },
     "metadata": {},
     "output_type": "display_data"
    }
   ],
   "source": [
    "sns.boxplot(data=sample_df, x=\"ap_hi\");"
   ]
  },
  {
   "cell_type": "markdown",
   "id": "d39538ec",
   "metadata": {},
   "source": [
    "**🤔 DOMAIN KNOWLEDGE ABOUT DIASTOLIC BLOOD PRESSURE:**\n",
    "\n",
    "...in September 2021, the highest recorded blood pressure in a person was reportedly 370/360 mmHg. This extreme blood pressure measurement was recorded in a man named Valentin Lupei in 1953. Valentin Lupei was a Romanian man who experienced a severe hypertensive crisis...[Source](https://pubmed.ncbi.nlm.nih.gov/7741618/#:~:text=The%20highest%20pressure%20recorded%20in,maximal%20lifting%20with%20slow%20exhalation.) [Source](https://www.quora.com/What-is-the-highest-blood-pressure-level-ever-measured-in-a-person)"
   ]
  },
  {
   "cell_type": "code",
   "execution_count": 37,
   "id": "cfa90695",
   "metadata": {},
   "outputs": [
    {
     "data": {
      "image/png": "[encoded data removed]",
      "text/plain": [
       "<Figure size 640x480 with 1 Axes>"
      ]
     },
     "metadata": {},
     "output_type": "display_data"
    }
   ],
   "source": [
    "sns.boxplot(data=sample_df, x=\"ap_lo\");"
   ]
  },
  {
   "cell_type": "code",
   "execution_count": 38,
   "id": "c2c3c21f",
   "metadata": {},
   "outputs": [
    {
     "data": {
      "text/plain": [
       "Index([10694, 48573, 24713, 64764, 99006, 69860, 69674, 38732, 53076, 39424], dtype='int64', name='id')"
      ]
     },
     "execution_count": 38,
     "metadata": {},
     "output_type": "execute_result"
    }
   ],
   "source": [
    "sample_df[sample_df.ap_lo > 300].index"
   ]
  },
  {
   "cell_type": "code",
   "execution_count": 39,
   "id": "7af85ec4",
   "metadata": {},
   "outputs": [],
   "source": [
    "sample_df.drop([10694, 48573, 24713, 64764, 99006, 69860, 69674, 38732, 53076, 39424], axis=0, inplace=True)"
   ]
  },
  {
   "cell_type": "code",
   "execution_count": 40,
   "id": "9ef1c22a",
   "metadata": {},
   "outputs": [
    {
     "data": {
      "image/png": "[encoded data removed]",
      "text/plain": [
       "<Figure size 640x480 with 1 Axes>"
      ]
     },
     "metadata": {},
     "output_type": "display_data"
    }
   ],
   "source": [
    "sns.boxplot(data=sample_df, x=\"ap_lo\");"
   ]
  },
  {
   "cell_type": "code",
   "execution_count": 41,
   "id": "a79ca991-b66d-44a6-a4a9-b7666cc37891",
   "metadata": {},
   "outputs": [
    {
     "name": "stdout",
     "output_type": "stream",
     "text": [
      "<class 'pandas.core.frame.DataFrame'>\n",
      "Index: 487 entries, 66728 to 60247\n",
      "Data columns (total 12 columns):\n",
      " #   Column       Non-Null Count  Dtype  \n",
      "---  ------       --------------  -----  \n",
      " 0   age          487 non-null    int64  \n",
      " 1   gender       487 non-null    int64  \n",
      " 2   height       487 non-null    int64  \n",
      " 3   weight       487 non-null    float64\n",
      " 4   ap_hi        487 non-null    int64  \n",
      " 5   ap_lo        487 non-null    int64  \n",
      " 6   cholesterol  487 non-null    int64  \n",
      " 7   gluc         487 non-null    int64  \n",
      " 8   smoke        487 non-null    int64  \n",
      " 9   alco         487 non-null    int64  \n",
      " 10  active       487 non-null    int64  \n",
      " 11  cardio       487 non-null    int64  \n",
      "dtypes: float64(1), int64(11)\n",
      "memory usage: 49.5 KB\n"
     ]
    }
   ],
   "source": [
    "sample_df.info()"
   ]
  },
  {
   "cell_type": "markdown",
   "id": "0841e6a6",
   "metadata": {},
   "source": [
    "## <p style=\"background-color:#58B8E4; font-family:newtimeroman; color:#FFF9ED; font-size:175%; text-align:center; border-radius:10px 10px;\">TASKS</p>"
   ]
  },
  {
   "cell_type": "markdown",
   "id": "eba8d16f",
   "metadata": {},
   "source": [
    "#### <p style=\"background-color:#8CCED1; font-family:newtimeroman; color:#635EA7; font-size:175%; text-align:left; border-radius:10px 10px;\">Task-1. Is the Systolic blood pressure population mean 122mmhg?</p>"
   ]
  },
  {
   "cell_type": "markdown",
   "id": "604a6bbe",
   "metadata": {
    "id": "604a6bbe"
   },
   "source": [
    "**🤔 DOMAIN KNOWLEDGE: What is ABOUT Systolic Blood Pressure (ap_hi):**\n",
    "\n",
    "ap_hi => It's the Systolic blood pressure i.e. Pressure exerted when Blood is ejected in arteries.<br>\n",
    "Normal value : 122 mm Hg for all adults aged 18 and over."
   ]
  },
  {
   "cell_type": "markdown",
   "id": "bb6ca4cf",
   "metadata": {
    "id": "bb6ca4cf"
   },
   "source": [
    "### ⭐ <span style=\"color:#49519E\">What is the mean for Systolic blood pressure?<span>"
   ]
  },
  {
   "cell_type": "code",
   "execution_count": 46,
   "id": "c9f4d365",
   "metadata": {},
   "outputs": [
    {
     "data": {
      "text/plain": [
       "126.52361396303901"
      ]
     },
     "execution_count": 46,
     "metadata": {},
     "output_type": "execute_result"
    }
   ],
   "source": [
    "sample_df.ap_hi.mean()"
   ]
  },
  {
   "cell_type": "markdown",
   "id": "KX4IjRriZzAi",
   "metadata": {
    "id": "KX4IjRriZzAi"
   },
   "source": [
    "### ⭐ <span style=\"color:#49519E\">What is the std dev. for Systolic blood pressure?<span>"
   ]
  },
  {
   "cell_type": "code",
   "execution_count": 48,
   "id": "4d52409f",
   "metadata": {},
   "outputs": [
    {
     "data": {
      "text/plain": [
       "16.774556867643692"
      ]
     },
     "execution_count": 48,
     "metadata": {},
     "output_type": "execute_result"
    }
   ],
   "source": [
    "sample_df.ap_hi.std()"
   ]
  },
  {
   "cell_type": "markdown",
   "id": "uUV8XmvbZ2aI",
   "metadata": {
    "id": "uUV8XmvbZ2aI"
   },
   "source": [
    "### ⭐ <span style=\"color:#49519E\">What is the standard error of the mean for Systolic blood pressure?<span>"
   ]
  },
  {
   "cell_type": "code",
   "execution_count": 50,
   "id": "3713ad01",
   "metadata": {},
   "outputs": [
    {
     "data": {
      "text/plain": [
       "0.7601277290615839"
      ]
     },
     "execution_count": 50,
     "metadata": {},
     "output_type": "execute_result"
    }
   ],
   "source": [
    "sem = sample_df.ap_hi.sem()\n",
    "sem"
   ]
  },
  {
   "cell_type": "markdown",
   "id": "hDiz0Xf6KRt7",
   "metadata": {
    "id": "hDiz0Xf6KRt7"
   },
   "source": [
    "### ⭐ <span style=\"color:#49519E\">What is the short way to calculate  descriptive statistics in  for Systolic blood pressure?<span>"
   ]
  },
  {
   "cell_type": "code",
   "execution_count": 52,
   "id": "7265fdb8",
   "metadata": {},
   "outputs": [
    {
     "data": {
      "text/plain": [
       "count    487.000000\n",
       "mean     126.523614\n",
       "std       16.774557\n",
       "min       90.000000\n",
       "25%      120.000000\n",
       "50%      120.000000\n",
       "75%      140.000000\n",
       "max      180.000000\n",
       "Name: ap_hi, dtype: float64"
      ]
     },
     "execution_count": 52,
     "metadata": {},
     "output_type": "execute_result"
    }
   ],
   "source": [
    "sample_df.ap_hi.describe()"
   ]
  },
  {
   "cell_type": "markdown",
   "id": "70b4dcd2",
   "metadata": {
    "id": "70b4dcd2"
   },
   "source": [
    "<!-- ## <span style=\"color:#49519E\">👉 SUB-TASK: Calculating Confidence Interval using the t Distribution<span> -->\n",
    "    \n",
    "### <p style=\"background-color:#58B8E4; font-family:newtimeroman; color:#FFF9ED; font-size:150%; text-align:center; border-radius:10px 10px;\">👉 SUB-TASK: Calculate the Confidence Interval using the t Distribution:</p>\n",
    "    \n",
    "**<u>🚀 Key Notes about Confidence Intervals:</u>**\n",
    "\n",
    "  - 💡 A point estimate is a single number.\n",
    "\n",
    "  - 💡 A confidence interval, naturally, is an interval.\n",
    "\n",
    "  - 💡 Confidence intervals are the typical way to present estimates as an interval range.\n",
    "\n",
    "  - 💡 The point estimate is located exactly in the middle of the confidence interval.\n",
    "\n",
    "  - 💡 However, confidence intervals provide much more information and are preferred when making inferences.\n",
    "\n",
    "  - 💡 The more data you have, the less variable a sample estimate will be.\n",
    "\n",
    "  - 💡 The lower the level of confidence you can tolerate, the narrower the confidence interval will be.\n",
    "\n",
    "### ⭐ <span style=\"color:#49519E\">Investigate the given task by calculating the confidence interval. (Use 90%, 95% and 99% CIs):<span>"
   ]
  },
  {
   "cell_type": "code",
   "execution_count": 54,
   "id": "93c89bad",
   "metadata": {},
   "outputs": [
    {
     "data": {
      "text/plain": [
       "(124.5656546840821, 128.48157324199593)"
      ]
     },
     "execution_count": 54,
     "metadata": {},
     "output_type": "execute_result"
    }
   ],
   "source": [
    "ci_99 = stats.norm.interval(0.99, loc=sample_df.ap_hi.mean(), scale=sem)\n",
    "ci_99"
   ]
  },
  {
   "cell_type": "code",
   "execution_count": 55,
   "id": "c5d9456c-5b37-488d-9558-4a141efbbd1d",
   "metadata": {},
   "outputs": [
    {
     "data": {
      "text/plain": [
       "(125.03379099042809, 128.01343693564993)"
      ]
     },
     "execution_count": 55,
     "metadata": {},
     "output_type": "execute_result"
    }
   ],
   "source": [
    "ci_95 = stats.norm.interval(0.95, loc=sample_df.ap_hi.mean(), scale=sem)\n",
    "ci_95"
   ]
  },
  {
   "cell_type": "code",
   "execution_count": 56,
   "id": "fa244a41-aa62-4610-bbe0-9bdfef892f7a",
   "metadata": {},
   "outputs": [
    {
     "data": {
      "text/plain": [
       "(125.27331511094567, 127.77391281513235)"
      ]
     },
     "execution_count": 56,
     "metadata": {},
     "output_type": "execute_result"
    }
   ],
   "source": [
    "ci_90 = stats.norm.interval(0.9, loc=sample_df.ap_hi.mean(), scale=sem)\n",
    "ci_90"
   ]
  },
  {
   "cell_type": "markdown",
   "id": "b8ea993c",
   "metadata": {
    "id": "b8ea993c"
   },
   "source": [
    "<!-- ## <span style=\"color:#49519E\">👉 SUB-TASK: Conducting One Sample t Test<span> -->\n",
    "    \n",
    "### <p style=\"background-color:#58B8E4; font-family:newtimeroman; color:#FFF9ED; font-size:150%; text-align:center; border-radius:10px 10px;\">👉 SUB-TASK: Conduct One Sample t Test:</p>\n"
   ]
  },
  {
   "cell_type": "markdown",
   "id": "3b0b1513",
   "metadata": {
    "id": "3b0b1513"
   },
   "source": [
    "### ⭐ <span style=\"color:#49519E\">Investigate the given task by conducting One Sample t Test:<span>\n",
    "\n",
    "**<u>🚀 Key Notes about Hypothesis Testing (Significance Testing):</u>**\n",
    "\n",
    "  - 💡 Assumptions\n",
    "\n",
    "  - 💡 Null and Alternative Hypothesis\n",
    "\n",
    "  - 💡 Test Statistic\n",
    "\n",
    "  - 💡 P-value\n",
    "\n",
    "  - 💡 Conclusion\n",
    "    \n",
    "**🚀 HINT:Use scipy.stats.ttest_1samp**"
   ]
  },
  {
   "cell_type": "markdown",
   "id": "815c7c17",
   "metadata": {
    "id": "815c7c17"
   },
   "source": [
    "### ⭐ <span style=\"color:#49519E\">STEP 1: State the Null (H0) & Alternative (Ha) Hypotheses:<span>"
   ]
  },
  {
   "cell_type": "code",
   "execution_count": 60,
   "id": "49f750cd-7ed2-4b2b-9e91-09dfcf584275",
   "metadata": {},
   "outputs": [
    {
     "data": {
      "text/html": [
       "<div>\n",
       "<style scoped>\n",
       "    .dataframe tbody tr th:only-of-type {\n",
       "        vertical-align: middle;\n",
       "    }\n",
       "\n",
       "    .dataframe tbody tr th {\n",
       "        vertical-align: top;\n",
       "    }\n",
       "\n",
       "    .dataframe thead th {\n",
       "        text-align: right;\n",
       "    }\n",
       "</style>\n",
       "<table border=\"1\" class=\"dataframe\">\n",
       "  <thead>\n",
       "    <tr style=\"text-align: right;\">\n",
       "      <th></th>\n",
       "      <th>age</th>\n",
       "      <th>gender</th>\n",
       "      <th>height</th>\n",
       "      <th>weight</th>\n",
       "      <th>ap_hi</th>\n",
       "      <th>ap_lo</th>\n",
       "      <th>cholesterol</th>\n",
       "      <th>gluc</th>\n",
       "      <th>smoke</th>\n",
       "      <th>alco</th>\n",
       "      <th>active</th>\n",
       "      <th>cardio</th>\n",
       "    </tr>\n",
       "    <tr>\n",
       "      <th>id</th>\n",
       "      <th></th>\n",
       "      <th></th>\n",
       "      <th></th>\n",
       "      <th></th>\n",
       "      <th></th>\n",
       "      <th></th>\n",
       "      <th></th>\n",
       "      <th></th>\n",
       "      <th></th>\n",
       "      <th></th>\n",
       "      <th></th>\n",
       "      <th></th>\n",
       "    </tr>\n",
       "  </thead>\n",
       "  <tbody>\n",
       "    <tr>\n",
       "      <th>66728</th>\n",
       "      <td>21770</td>\n",
       "      <td>1</td>\n",
       "      <td>156</td>\n",
       "      <td>64.0</td>\n",
       "      <td>140</td>\n",
       "      <td>80</td>\n",
       "      <td>2</td>\n",
       "      <td>1</td>\n",
       "      <td>0</td>\n",
       "      <td>0</td>\n",
       "      <td>1</td>\n",
       "      <td>1</td>\n",
       "    </tr>\n",
       "    <tr>\n",
       "      <th>69098</th>\n",
       "      <td>21876</td>\n",
       "      <td>1</td>\n",
       "      <td>170</td>\n",
       "      <td>85.0</td>\n",
       "      <td>160</td>\n",
       "      <td>90</td>\n",
       "      <td>1</td>\n",
       "      <td>1</td>\n",
       "      <td>0</td>\n",
       "      <td>0</td>\n",
       "      <td>1</td>\n",
       "      <td>1</td>\n",
       "    </tr>\n",
       "    <tr>\n",
       "      <th>59185</th>\n",
       "      <td>23270</td>\n",
       "      <td>1</td>\n",
       "      <td>151</td>\n",
       "      <td>90.0</td>\n",
       "      <td>130</td>\n",
       "      <td>80</td>\n",
       "      <td>1</td>\n",
       "      <td>1</td>\n",
       "      <td>0</td>\n",
       "      <td>0</td>\n",
       "      <td>1</td>\n",
       "      <td>1</td>\n",
       "    </tr>\n",
       "    <tr>\n",
       "      <th>49288</th>\n",
       "      <td>19741</td>\n",
       "      <td>1</td>\n",
       "      <td>159</td>\n",
       "      <td>97.0</td>\n",
       "      <td>120</td>\n",
       "      <td>80</td>\n",
       "      <td>1</td>\n",
       "      <td>1</td>\n",
       "      <td>0</td>\n",
       "      <td>0</td>\n",
       "      <td>1</td>\n",
       "      <td>1</td>\n",
       "    </tr>\n",
       "    <tr>\n",
       "      <th>62481</th>\n",
       "      <td>18395</td>\n",
       "      <td>1</td>\n",
       "      <td>164</td>\n",
       "      <td>68.0</td>\n",
       "      <td>120</td>\n",
       "      <td>80</td>\n",
       "      <td>1</td>\n",
       "      <td>1</td>\n",
       "      <td>0</td>\n",
       "      <td>0</td>\n",
       "      <td>1</td>\n",
       "      <td>0</td>\n",
       "    </tr>\n",
       "  </tbody>\n",
       "</table>\n",
       "</div>"
      ],
      "text/plain": [
       "         age  gender  height  weight  ap_hi  ap_lo  cholesterol  gluc  smoke  \\\n",
       "id                                                                             \n",
       "66728  21770       1     156    64.0    140     80            2     1      0   \n",
       "69098  21876       1     170    85.0    160     90            1     1      0   \n",
       "59185  23270       1     151    90.0    130     80            1     1      0   \n",
       "49288  19741       1     159    97.0    120     80            1     1      0   \n",
       "62481  18395       1     164    68.0    120     80            1     1      0   \n",
       "\n",
       "       alco  active  cardio  \n",
       "id                           \n",
       "66728     0       1       1  \n",
       "69098     0       1       1  \n",
       "59185     0       1       1  \n",
       "49288     0       1       1  \n",
       "62481     0       1       0  "
      ]
     },
     "execution_count": 60,
     "metadata": {},
     "output_type": "execute_result"
    }
   ],
   "source": [
    "sample_df.head()"
   ]
  },
  {
   "cell_type": "code",
   "execution_count": 61,
   "id": "7e6fca91-255b-4ed7-846c-92c5c422bcd6",
   "metadata": {},
   "outputs": [
    {
     "data": {
      "text/plain": [
       "128.8172857142857"
      ]
     },
     "execution_count": 61,
     "metadata": {},
     "output_type": "execute_result"
    }
   ],
   "source": [
    "df.ap_hi.mean()"
   ]
  },
  {
   "cell_type": "markdown",
   "id": "4a9625c9-4b76-4008-b412-7075a642f694",
   "metadata": {},
   "source": [
    "H0 = average ap_hi value is 128.\n",
    "Ha = average ap_hi value is more than 128.\n",
    "significance = 0.05"
   ]
  },
  {
   "cell_type": "markdown",
   "id": "76e2140e",
   "metadata": {},
   "source": [
    "### ⭐ <span style=\"color:#49519E\">STEP 2: Calculate Test Statistics:<span>"
   ]
  },
  {
   "cell_type": "code",
   "execution_count": 64,
   "id": "058d8b8c-762a-438c-a08e-f3a021c7e25c",
   "metadata": {},
   "outputs": [
    {
     "data": {
      "text/plain": [
       "TtestResult(statistic=-1.9422867769653134, pvalue=0.05267972272239347, df=486)"
      ]
     },
     "execution_count": 64,
     "metadata": {},
     "output_type": "execute_result"
    }
   ],
   "source": [
    "res = stats.ttest_1samp(sample_df.ap_hi, popmean = 128)\n",
    "res"
   ]
  },
  {
   "cell_type": "code",
   "execution_count": 65,
   "id": "76c64e31-ba5d-4144-a58a-787a433a5466",
   "metadata": {},
   "outputs": [
    {
     "data": {
      "text/plain": [
       "ConfidenceInterval(low=125.27092728457748, high=127.77630064150054)"
      ]
     },
     "execution_count": 65,
     "metadata": {},
     "output_type": "execute_result"
    }
   ],
   "source": [
    "res.confidence_interval(confidence_level=0.90)"
   ]
  },
  {
   "cell_type": "markdown",
   "id": "4d04d1dc",
   "metadata": {},
   "source": [
    "### ⭐ <span style=\"color:#49519E\">STEP 3: Calculate P-Value:<span>"
   ]
  },
  {
   "cell_type": "code",
   "execution_count": 67,
   "id": "15755cbe",
   "metadata": {},
   "outputs": [
    {
     "data": {
      "text/plain": [
       "0.026339861361196735"
      ]
     },
     "execution_count": 67,
     "metadata": {},
     "output_type": "execute_result"
    }
   ],
   "source": [
    "res.pvalue / 2"
   ]
  },
  {
   "cell_type": "markdown",
   "id": "71eb2788",
   "metadata": {},
   "source": [
    "### ⭐ <span style=\"color:#49519E\">STEP 4: Make a Decision:<span>"
   ]
  },
  {
   "cell_type": "markdown",
   "id": "eea2f5f3-a87f-4ee4-b5d3-dd1ea887b458",
   "metadata": {},
   "source": [
    "with 0.05 significance level, I reject the null hyphotesis."
   ]
  },
  {
   "cell_type": "markdown",
   "id": "e273e0c2",
   "metadata": {
    "id": "e273e0c2"
   },
   "source": [
    "#### <p style=\"background-color:#8CCED1; font-family:newtimeroman; color:#635EA7; font-size:175%; text-align:left; border-radius:10px 10px;\">Task-2. Is There a Significant Difference Between Males and Females in Systolic Blood Pressure?</p>"
   ]
  },
  {
   "cell_type": "markdown",
   "id": "a6872857",
   "metadata": {},
   "source": [
    "### ⭐ <span style=\"color:#49519E\">State the Null (H0) & Alternative (Ha) Hypotheses:<span>"
   ]
  },
  {
   "cell_type": "markdown",
   "id": "6b3c2916-bc4c-4424-ab0d-0f759b7ab3a3",
   "metadata": {},
   "source": [
    "H0 = There isn't a significant difference in systolic blood pressure of males and females.\n",
    "Ha = There is a difference."
   ]
  },
  {
   "cell_type": "markdown",
   "id": "f924f82e",
   "metadata": {
    "id": "f924f82e"
   },
   "source": [
    "### ⭐ <span style=\"color:#49519E\">Show descriptive statistics for 2 groups:<span>"
   ]
  },
  {
   "cell_type": "code",
   "execution_count": 74,
   "id": "5aff63a4",
   "metadata": {},
   "outputs": [
    {
     "data": {
      "text/html": [
       "<div>\n",
       "<style scoped>\n",
       "    .dataframe tbody tr th:only-of-type {\n",
       "        vertical-align: middle;\n",
       "    }\n",
       "\n",
       "    .dataframe tbody tr th {\n",
       "        vertical-align: top;\n",
       "    }\n",
       "\n",
       "    .dataframe thead th {\n",
       "        text-align: right;\n",
       "    }\n",
       "</style>\n",
       "<table border=\"1\" class=\"dataframe\">\n",
       "  <thead>\n",
       "    <tr style=\"text-align: right;\">\n",
       "      <th></th>\n",
       "      <th>count</th>\n",
       "      <th>mean</th>\n",
       "      <th>std</th>\n",
       "      <th>min</th>\n",
       "      <th>25%</th>\n",
       "      <th>50%</th>\n",
       "      <th>75%</th>\n",
       "      <th>max</th>\n",
       "    </tr>\n",
       "    <tr>\n",
       "      <th>gender</th>\n",
       "      <th></th>\n",
       "      <th></th>\n",
       "      <th></th>\n",
       "      <th></th>\n",
       "      <th></th>\n",
       "      <th></th>\n",
       "      <th></th>\n",
       "      <th></th>\n",
       "    </tr>\n",
       "  </thead>\n",
       "  <tbody>\n",
       "    <tr>\n",
       "      <th>1</th>\n",
       "      <td>308.0</td>\n",
       "      <td>125.655844</td>\n",
       "      <td>17.212177</td>\n",
       "      <td>90.0</td>\n",
       "      <td>120.0</td>\n",
       "      <td>120.0</td>\n",
       "      <td>130.0</td>\n",
       "      <td>180.0</td>\n",
       "    </tr>\n",
       "    <tr>\n",
       "      <th>2</th>\n",
       "      <td>179.0</td>\n",
       "      <td>128.016760</td>\n",
       "      <td>15.930141</td>\n",
       "      <td>90.0</td>\n",
       "      <td>120.0</td>\n",
       "      <td>120.0</td>\n",
       "      <td>140.0</td>\n",
       "      <td>180.0</td>\n",
       "    </tr>\n",
       "  </tbody>\n",
       "</table>\n",
       "</div>"
      ],
      "text/plain": [
       "        count        mean        std   min    25%    50%    75%    max\n",
       "gender                                                                \n",
       "1       308.0  125.655844  17.212177  90.0  120.0  120.0  130.0  180.0\n",
       "2       179.0  128.016760  15.930141  90.0  120.0  120.0  140.0  180.0"
      ]
     },
     "execution_count": 74,
     "metadata": {},
     "output_type": "execute_result"
    }
   ],
   "source": [
    "sample_df.groupby(\"gender\")[\"ap_hi\"].describe()"
   ]
  },
  {
   "cell_type": "markdown",
   "id": "84bd1c6e",
   "metadata": {
    "id": "84bd1c6e"
   },
   "source": [
    "### ⭐ <span style=\"color:#49519E\">Test the assumption of homogeneity of variance. State the Null (H0) & Alternative (Ha) Hypotheses for the assumption of homogeneity of variance:<span>\n",
    "\n",
    "**🚀 Hint: Levene’s Test**"
   ]
  },
  {
   "cell_type": "markdown",
   "id": "8623191d",
   "metadata": {},
   "source": [
    "**STEP 1: The Hypotheses for Levene’s Test are:**"
   ]
  },
  {
   "cell_type": "raw",
   "id": "7530bee0-cc98-4405-88dc-f6780725a7fa",
   "metadata": {},
   "source": [
    "H0: Two groups share a homogeneity of variance.\n",
    "Ha: Groups are not homogenious."
   ]
  },
  {
   "cell_type": "code",
   "execution_count": 77,
   "id": "c99313fc-da4e-4ca9-aa24-1413d8742bdb",
   "metadata": {},
   "outputs": [],
   "source": [
    "men = sample_df[sample_df.gender == 1].ap_hi\n",
    "women = sample_df[sample_df.gender == 2].ap_hi"
   ]
  },
  {
   "cell_type": "markdown",
   "id": "671de929",
   "metadata": {},
   "source": [
    "**STEP 2: Calculating Test Statistics for Levene’s Test:**"
   ]
  },
  {
   "cell_type": "code",
   "execution_count": 79,
   "id": "293d5387",
   "metadata": {},
   "outputs": [
    {
     "data": {
      "text/plain": [
       "LeveneResult(statistic=0.009502758693913973, pvalue=0.9223838244111067)"
      ]
     },
     "execution_count": 79,
     "metadata": {},
     "output_type": "execute_result"
    }
   ],
   "source": [
    "stats.levene(men, women)"
   ]
  },
  {
   "cell_type": "markdown",
   "id": "a691e9e3",
   "metadata": {},
   "source": [
    "**STEP 3: Calculaing P-Value for Levene’s Test:**"
   ]
  },
  {
   "cell_type": "code",
   "execution_count": 81,
   "id": "df2f581b",
   "metadata": {},
   "outputs": [
    {
     "data": {
      "text/plain": [
       "0.9223838244111067"
      ]
     },
     "execution_count": 81,
     "metadata": {},
     "output_type": "execute_result"
    }
   ],
   "source": [
    "stats.levene(men, women).pvalue"
   ]
  },
  {
   "cell_type": "markdown",
   "id": "49ac469d",
   "metadata": {},
   "source": [
    "**STEP 4: Making a Decision for Levene’s Test:**"
   ]
  },
  {
   "cell_type": "markdown",
   "id": "d22b047a-ed2d-4ac1-8a50-2becb7ad407e",
   "metadata": {},
   "source": [
    "Since the pvalue is greater than significance levels of 0.05 or 0.01, I fail to reject the null hypothesis."
   ]
  },
  {
   "cell_type": "markdown",
   "id": "da0b3968",
   "metadata": {},
   "source": [
    "### ⭐ <span style=\"color:#49519E\">Conduct the significance test:<span>\n",
    "    \n",
    "**🚀 Hint: Use scipy.stats.ttest_ind**"
   ]
  },
  {
   "cell_type": "markdown",
   "id": "2490fc0f",
   "metadata": {},
   "source": [
    "**STEP 1: The Hypotheses for t Test are:**"
   ]
  },
  {
   "cell_type": "raw",
   "id": "851ca12f",
   "metadata": {},
   "source": [
    "H0: The means of two groups are statistically equal.\n",
    "Ha: There is a significant difference between them."
   ]
  },
  {
   "cell_type": "markdown",
   "id": "255200c2",
   "metadata": {},
   "source": [
    "**STEP 2: Calculating t Test Statistics:**"
   ]
  },
  {
   "cell_type": "code",
   "execution_count": 126,
   "id": "e63c571a",
   "metadata": {},
   "outputs": [
    {
     "data": {
      "text/plain": [
       "TtestResult(statistic=-1.5304874240663586, pvalue=0.1266948831728621, df=395.8289757872827)"
      ]
     },
     "execution_count": 126,
     "metadata": {},
     "output_type": "execute_result"
    }
   ],
   "source": [
    "stats.ttest_ind(men, women, equal_var=False)"
   ]
  },
  {
   "cell_type": "markdown",
   "id": "de295c9c",
   "metadata": {},
   "source": [
    "**STEP 3: Calculaing P-Value for t Test:**"
   ]
  },
  {
   "cell_type": "code",
   "execution_count": 130,
   "id": "07e8adb7",
   "metadata": {},
   "outputs": [
    {
     "data": {
      "text/plain": [
       "0.1266948831728621"
      ]
     },
     "execution_count": 130,
     "metadata": {},
     "output_type": "execute_result"
    }
   ],
   "source": [
    "stats.ttest_ind(men, women, equal_var=False).pvalue"
   ]
  },
  {
   "cell_type": "markdown",
   "id": "04de28f1",
   "metadata": {},
   "source": [
    "**STEP 4: Making a Decision for t test:**"
   ]
  },
  {
   "cell_type": "raw",
   "id": "b390018e-709e-409d-adfb-45f1b02c5da4",
   "metadata": {},
   "source": [
    "I fail to reject the null hypothesis."
   ]
  },
  {
   "cell_type": "markdown",
   "id": "b649ecf9",
   "metadata": {
    "id": "b649ecf9"
   },
   "source": [
    "#### <p style=\"background-color:#8CCED1; font-family:newtimeroman; color:#635EA7; font-size:175%; text-align:left; border-radius:10px 10px;\">Task-3. Is There a Relationship Between Glucose and Systolic Blood Pressure?</p>"
   ]
  },
  {
   "cell_type": "markdown",
   "id": "iQnNlpE2nXym",
   "metadata": {
    "id": "iQnNlpE2nXym"
   },
   "source": [
    "### ⭐ <span style=\"color:#49519E\">Draw a boxplot to see the relationship between ``glucose`` and ``Systolic blood pressure``:<span>"
   ]
  },
  {
   "cell_type": "code",
   "execution_count": null,
   "id": "558d8d8e-57d9-4764-94b2-ac6bc01c69b1",
   "metadata": {},
   "outputs": [],
   "source": [
    "sample_df"
   ]
  },
  {
   "cell_type": "code",
   "execution_count": null,
   "id": "47304d90",
   "metadata": {},
   "outputs": [],
   "source": [
    "sns.boxplot(data=sample_df, y=\"ap_hi\", hue=\"gluc\", gap=0.2)\n"
   ]
  },
  {
   "cell_type": "markdown",
   "id": "R5W3NypFniN_",
   "metadata": {
    "id": "R5W3NypFniN_"
   },
   "source": [
    "### ⭐ <span style=\"color:#49519E\">Show the descriptive statistics of 3 groups:<span>"
   ]
  },
  {
   "cell_type": "code",
   "execution_count": null,
   "id": "8939e3df",
   "metadata": {},
   "outputs": [],
   "source": [
    "sample_df[sample_df.gluc == 1].ap_hi.describe()"
   ]
  },
  {
   "cell_type": "code",
   "execution_count": null,
   "id": "2d835941-7f1c-4d4f-a7f6-9bbda4438810",
   "metadata": {},
   "outputs": [],
   "source": [
    "sample_df[sample_df.gluc == 2].ap_hi.describe()"
   ]
  },
  {
   "cell_type": "code",
   "execution_count": null,
   "id": "a2f43588-6e5c-4ba0-8415-ea01803c5e28",
   "metadata": {},
   "outputs": [],
   "source": [
    "sample_df[sample_df.gluc == 3].ap_hi.describe()"
   ]
  },
  {
   "cell_type": "markdown",
   "id": "4eec5989",
   "metadata": {},
   "source": [
    "### ⭐ <span style=\"color:#49519E\">STEP 1: State the Null (H0) & Alternative (Ha) Hypotheses:<span>"
   ]
  },
  {
   "cell_type": "raw",
   "id": "2246ba23",
   "metadata": {},
   "source": []
  },
  {
   "cell_type": "markdown",
   "id": "6vx5akalnpn3",
   "metadata": {
    "id": "6vx5akalnpn3"
   },
   "source": [
    "### ⭐ <span style=\"color:#49519E\">STEP 2: Conduct the relavant Test Statistics to decide if there is a significant difference between the groups:<span>"
   ]
  },
  {
   "cell_type": "code",
   "execution_count": null,
   "id": "84d34bf7",
   "metadata": {},
   "outputs": [],
   "source": [
    "from scipy.stats import f_oneway\n",
    "\n",
    "f_oneway(sample_df[sample_df.gluc == 1].ap_hi, sample_df[sample_df.gluc == 2].ap_hi, sample_df[sample_df.gluc == 3].ap_hi)"
   ]
  },
  {
   "cell_type": "markdown",
   "id": "4dee5a08",
   "metadata": {},
   "source": [
    "### ⭐ <span style=\"color:#49519E\">STEP 3: Calculate P-Value:<span>"
   ]
  },
  {
   "cell_type": "code",
   "execution_count": null,
   "id": "bbdc0280",
   "metadata": {},
   "outputs": [],
   "source": []
  },
  {
   "cell_type": "markdown",
   "id": "c2f03be0",
   "metadata": {},
   "source": [
    "### ⭐ <span style=\"color:#49519E\">STEP 4: Make a Decision:<span>"
   ]
  },
  {
   "cell_type": "code",
   "execution_count": null,
   "id": "e09e666d",
   "metadata": {},
   "outputs": [],
   "source": [
    "fail to reject."
   ]
  },
  {
   "cell_type": "markdown",
   "id": "d128793f",
   "metadata": {
    "id": "d128793f"
   },
   "source": [
    "#### <p style=\"background-color:#8CCED1; font-family:newtimeroman; color:#635EA7; font-size:175%; text-align:left; border-radius:10px 10px;\">Task-4.1. Is There a Relationship Between Physical activity vs. Presence or absence of cardiovascular disease?</p>"
   ]
  },
  {
   "cell_type": "markdown",
   "id": "9d0cbaf7",
   "metadata": {
    "id": "9d0cbaf7"
   },
   "source": [
    "### Physical activity vs. Presence or absence of cardiovascular disease"
   ]
  },
  {
   "cell_type": "markdown",
   "id": "QfsEEewCadVd",
   "metadata": {
    "id": "QfsEEewCadVd"
   },
   "source": [
    "### ⭐ <span style=\"color:#49519E\">Create a crosstab using Pandas:<span>"
   ]
  },
  {
   "cell_type": "code",
   "execution_count": null,
   "id": "ff2e028d",
   "metadata": {},
   "outputs": [],
   "source": [
    "sample_df.head()"
   ]
  },
  {
   "cell_type": "code",
   "execution_count": 99,
   "id": "fc0d1207-d32b-4659-b6d3-47b9ded96fef",
   "metadata": {},
   "outputs": [
    {
     "data": {
      "text/html": [
       "<div>\n",
       "<style scoped>\n",
       "    .dataframe tbody tr th:only-of-type {\n",
       "        vertical-align: middle;\n",
       "    }\n",
       "\n",
       "    .dataframe tbody tr th {\n",
       "        vertical-align: top;\n",
       "    }\n",
       "\n",
       "    .dataframe thead th {\n",
       "        text-align: right;\n",
       "    }\n",
       "</style>\n",
       "<table border=\"1\" class=\"dataframe\">\n",
       "  <thead>\n",
       "    <tr style=\"text-align: right;\">\n",
       "      <th>cardio</th>\n",
       "      <th>0</th>\n",
       "      <th>1</th>\n",
       "    </tr>\n",
       "    <tr>\n",
       "      <th>active</th>\n",
       "      <th></th>\n",
       "      <th></th>\n",
       "    </tr>\n",
       "  </thead>\n",
       "  <tbody>\n",
       "    <tr>\n",
       "      <th>0</th>\n",
       "      <td>55</td>\n",
       "      <td>60</td>\n",
       "    </tr>\n",
       "    <tr>\n",
       "      <th>1</th>\n",
       "      <td>196</td>\n",
       "      <td>176</td>\n",
       "    </tr>\n",
       "  </tbody>\n",
       "</table>\n",
       "</div>"
      ],
      "text/plain": [
       "cardio    0    1\n",
       "active          \n",
       "0        55   60\n",
       "1       196  176"
      ]
     },
     "execution_count": 99,
     "metadata": {},
     "output_type": "execute_result"
    }
   ],
   "source": [
    "activity_cross = pd.crosstab(sample_df.active, sample_df.cardio)\n",
    "activity_cross"
   ]
  },
  {
   "cell_type": "markdown",
   "id": "353ac3bc",
   "metadata": {},
   "source": [
    "### ⭐ <span style=\"color:#49519E\">STEP 1: State the Null (H0) & Alternative (Ha) Hypotheses:<span>"
   ]
  },
  {
   "cell_type": "raw",
   "id": "a5da33d1",
   "metadata": {},
   "source": [
    "H0: Physical activity and presence or absence of cardiovascular disease are independent categories.\n",
    "Ha: There is a relationship between these two categories."
   ]
  },
  {
   "cell_type": "markdown",
   "id": "BHkX6Cdhn-cU",
   "metadata": {
    "id": "BHkX6Cdhn-cU"
   },
   "source": [
    "### ⭐ <span style=\"color:#49519E\">STEP 2: Conduct chi-square test to see if there is a relationship between 2 categorical variables:<span>"
   ]
  },
  {
   "cell_type": "code",
   "execution_count": 103,
   "id": "9d04099a",
   "metadata": {},
   "outputs": [
    {
     "data": {
      "text/plain": [
       "0.6481631282454909"
      ]
     },
     "execution_count": 103,
     "metadata": {},
     "output_type": "execute_result"
    }
   ],
   "source": [
    "from scipy.stats import chi2_contingency\n",
    "\n",
    "chi2_stat, p_value, dof, expected = stats.chi2_contingency(activity_cross)\n",
    "chi2_stat"
   ]
  },
  {
   "cell_type": "markdown",
   "id": "e65524a7",
   "metadata": {},
   "source": [
    "### ⭐ <span style=\"color:#49519E\">STEP 3: Calculate P-Value:<span>"
   ]
  },
  {
   "cell_type": "code",
   "execution_count": 105,
   "id": "39eeaf31",
   "metadata": {},
   "outputs": [
    {
     "data": {
      "text/plain": [
       "0.4207701756263591"
      ]
     },
     "execution_count": 105,
     "metadata": {},
     "output_type": "execute_result"
    }
   ],
   "source": [
    "p_value"
   ]
  },
  {
   "cell_type": "markdown",
   "id": "223adb2c",
   "metadata": {},
   "source": [
    "### ⭐ <span style=\"color:#49519E\">STEP 4: Make a Decision:<span>"
   ]
  },
  {
   "cell_type": "raw",
   "id": "027ecdaa-34fd-4c92-995e-102c563ef5be",
   "metadata": {},
   "source": [
    "Since p_value is much greater than any significance level (let's assume 0.05 for instance) I fail to reject the null hypothesis."
   ]
  },
  {
   "cell_type": "markdown",
   "id": "NWNxm6RU8kRp",
   "metadata": {
    "id": "NWNxm6RU8kRp"
   },
   "source": [
    "#### <p style=\"background-color:#8CCED1; font-family:newtimeroman; color:#635EA7; font-size:175%; text-align:left; border-radius:10px 10px;\">Task-4.2. Conduct chi-square test to decide if there is a relationship between Cholesterol and cardio:</p>"
   ]
  },
  {
   "cell_type": "markdown",
   "id": "2aae892d",
   "metadata": {},
   "source": [
    "### ⭐ <span style=\"color:#49519E\">Create a crosstab using Pandas:<span>"
   ]
  },
  {
   "cell_type": "code",
   "execution_count": 107,
   "id": "cb0dc560",
   "metadata": {},
   "outputs": [
    {
     "data": {
      "text/html": [
       "<div>\n",
       "<style scoped>\n",
       "    .dataframe tbody tr th:only-of-type {\n",
       "        vertical-align: middle;\n",
       "    }\n",
       "\n",
       "    .dataframe tbody tr th {\n",
       "        vertical-align: top;\n",
       "    }\n",
       "\n",
       "    .dataframe thead th {\n",
       "        text-align: right;\n",
       "    }\n",
       "</style>\n",
       "<table border=\"1\" class=\"dataframe\">\n",
       "  <thead>\n",
       "    <tr style=\"text-align: right;\">\n",
       "      <th></th>\n",
       "      <th>age</th>\n",
       "      <th>gender</th>\n",
       "      <th>height</th>\n",
       "      <th>weight</th>\n",
       "      <th>ap_hi</th>\n",
       "      <th>ap_lo</th>\n",
       "      <th>cholesterol</th>\n",
       "      <th>gluc</th>\n",
       "      <th>smoke</th>\n",
       "      <th>alco</th>\n",
       "      <th>active</th>\n",
       "      <th>cardio</th>\n",
       "    </tr>\n",
       "    <tr>\n",
       "      <th>id</th>\n",
       "      <th></th>\n",
       "      <th></th>\n",
       "      <th></th>\n",
       "      <th></th>\n",
       "      <th></th>\n",
       "      <th></th>\n",
       "      <th></th>\n",
       "      <th></th>\n",
       "      <th></th>\n",
       "      <th></th>\n",
       "      <th></th>\n",
       "      <th></th>\n",
       "    </tr>\n",
       "  </thead>\n",
       "  <tbody>\n",
       "    <tr>\n",
       "      <th>66728</th>\n",
       "      <td>21770</td>\n",
       "      <td>1</td>\n",
       "      <td>156</td>\n",
       "      <td>64.0</td>\n",
       "      <td>140</td>\n",
       "      <td>80</td>\n",
       "      <td>2</td>\n",
       "      <td>1</td>\n",
       "      <td>0</td>\n",
       "      <td>0</td>\n",
       "      <td>1</td>\n",
       "      <td>1</td>\n",
       "    </tr>\n",
       "  </tbody>\n",
       "</table>\n",
       "</div>"
      ],
      "text/plain": [
       "         age  gender  height  weight  ap_hi  ap_lo  cholesterol  gluc  smoke  \\\n",
       "id                                                                             \n",
       "66728  21770       1     156    64.0    140     80            2     1      0   \n",
       "\n",
       "       alco  active  cardio  \n",
       "id                           \n",
       "66728     0       1       1  "
      ]
     },
     "execution_count": 107,
     "metadata": {},
     "output_type": "execute_result"
    }
   ],
   "source": [
    "sample_df.head(1)"
   ]
  },
  {
   "cell_type": "code",
   "execution_count": 109,
   "id": "f2d1c315-e396-43ee-b334-41dde96ce5b4",
   "metadata": {},
   "outputs": [
    {
     "data": {
      "text/html": [
       "<div>\n",
       "<style scoped>\n",
       "    .dataframe tbody tr th:only-of-type {\n",
       "        vertical-align: middle;\n",
       "    }\n",
       "\n",
       "    .dataframe tbody tr th {\n",
       "        vertical-align: top;\n",
       "    }\n",
       "\n",
       "    .dataframe thead th {\n",
       "        text-align: right;\n",
       "    }\n",
       "</style>\n",
       "<table border=\"1\" class=\"dataframe\">\n",
       "  <thead>\n",
       "    <tr style=\"text-align: right;\">\n",
       "      <th>cardio</th>\n",
       "      <th>0</th>\n",
       "      <th>1</th>\n",
       "    </tr>\n",
       "    <tr>\n",
       "      <th>cholesterol</th>\n",
       "      <th></th>\n",
       "      <th></th>\n",
       "    </tr>\n",
       "  </thead>\n",
       "  <tbody>\n",
       "    <tr>\n",
       "      <th>1</th>\n",
       "      <td>209</td>\n",
       "      <td>163</td>\n",
       "    </tr>\n",
       "    <tr>\n",
       "      <th>2</th>\n",
       "      <td>32</td>\n",
       "      <td>35</td>\n",
       "    </tr>\n",
       "    <tr>\n",
       "      <th>3</th>\n",
       "      <td>10</td>\n",
       "      <td>38</td>\n",
       "    </tr>\n",
       "  </tbody>\n",
       "</table>\n",
       "</div>"
      ],
      "text/plain": [
       "cardio         0    1\n",
       "cholesterol          \n",
       "1            209  163\n",
       "2             32   35\n",
       "3             10   38"
      ]
     },
     "execution_count": 109,
     "metadata": {},
     "output_type": "execute_result"
    }
   ],
   "source": [
    "chol_cross = pd.crosstab(sample_df.cholesterol, sample_df.cardio)\n",
    "chol_cross"
   ]
  },
  {
   "cell_type": "markdown",
   "id": "b5a86bfd",
   "metadata": {},
   "source": [
    "### ⭐ <span style=\"color:#49519E\">STEP 1: State the Null (H0) & Alternative (Ha) Hypotheses:<span>"
   ]
  },
  {
   "cell_type": "raw",
   "id": "b4c4b33e",
   "metadata": {},
   "source": [
    "H0: Cholesterol levels and the presence or absence of cardiovascular disease are two independent variables.\n",
    "Ha: There is a dependency between these two categories."
   ]
  },
  {
   "cell_type": "markdown",
   "id": "7ef4d447",
   "metadata": {},
   "source": [
    "### ⭐ <span style=\"color:#49519E\">STEP 3: Calculate P-Value:<span>"
   ]
  },
  {
   "cell_type": "code",
   "execution_count": 111,
   "id": "f87b5b60",
   "metadata": {},
   "outputs": [
    {
     "data": {
      "text/plain": [
       "21.714421681875088"
      ]
     },
     "execution_count": 111,
     "metadata": {},
     "output_type": "execute_result"
    }
   ],
   "source": [
    "chi2_stat, p_value, dof, expected = stats.chi2_contingency(chol_cross)\n",
    "chi2_stat"
   ]
  },
  {
   "cell_type": "markdown",
   "id": "b0a85a72",
   "metadata": {},
   "source": [
    "### ⭐ <span style=\"color:#49519E\">STEP 3: Calculate P-Value:<span>"
   ]
  },
  {
   "cell_type": "code",
   "execution_count": 113,
   "id": "78f9ec94",
   "metadata": {},
   "outputs": [
    {
     "data": {
      "text/plain": [
       "1.9265187621758576e-05"
      ]
     },
     "execution_count": 113,
     "metadata": {},
     "output_type": "execute_result"
    }
   ],
   "source": [
    "p_value"
   ]
  },
  {
   "cell_type": "markdown",
   "id": "d8f5b07e",
   "metadata": {},
   "source": [
    "### ⭐ <span style=\"color:#49519E\">STEP 4: Make a Decision:<span>"
   ]
  },
  {
   "cell_type": "code",
   "execution_count": 119,
   "id": "0b793751",
   "metadata": {},
   "outputs": [
    {
     "name": "stdout",
     "output_type": "stream",
     "text": [
      "The chi-test indicates that there's enough evidence to reject the null hypothesis in favor of the alternative hypothesis.\n"
     ]
    }
   ],
   "source": [
    "if p_value > 0.05:\n",
    "    print(\"We fail to reject the null hypothesis.\")\n",
    "else:\n",
    "    print(\"The chi-test indicates that there's enough evidence to reject the null hypothesis in favor of the alternative hypothesis.\")"
   ]
  },
  {
   "cell_type": "markdown",
   "id": "a1cf636f",
   "metadata": {},
   "source": [
    "## <p style=\"background-color:#8CCED1; font-family:newtimeroman; color:#49519E; font-size:150%; text-align:center; border-radius:10px 10px;\">END of the CASE STUDY (Cardiovascular Disease)</p>\n",
    "\n",
    "# Now. it's time to relax!\n",
    "\n",
    "<p style=\"text-align: center;\"> <img src=\"https://i.ibb.co/nQvgZ4W/relaxing-with-book.png\" width=\"800\" height=\"200\"\n",
    "\n",
    "[Image Credit](https://philanthropynw.org/news/ignite-your-passion-positive-change-summer-reading-list)\n",
    "\n",
    "<p style=\"text-align: center;\"><img src=\"https://i.ibb.co/99DQ3TY/DS-Courses.png\" class=\"img-fluid\" \n",
    "alt=\"CLRSWY_Courses\"></p>"
   ]
  },
  {
   "cell_type": "markdown",
   "id": "8850dc7d",
   "metadata": {
    "deletable": false,
    "editable": false
   },
   "source": [
    "<a href=\"https://ondiande.com/contact/\"><img align=\"center\" src=\"https://i.ibb.co/B43qn24/officially-licensed-logo.png\" alt=\"ONDIA Contact\" width=\"110\" height=\"200\" title=\"This notebook is licensed by ONDIA. Please contact the authorized persons about the conditions under which you can use or share.\"></a>"
   ]
  }
 ],
 "metadata": {
  "colab": {
   "provenance": []
  },
  "kernelspec": {
   "display_name": "Python 3 (ipykernel)",
   "language": "python",
   "name": "python3"
  },
  "language_info": {
   "codemirror_mode": {
    "name": "ipython",
    "version": 3
   },
   "file_extension": ".py",
   "mimetype": "text/x-python",
   "name": "python",
   "nbconvert_exporter": "python",
   "pygments_lexer": "ipython3",
   "version": "3.12.4"
  },
  "toc": {
   "base_numbering": "",
   "nav_menu": {},
   "number_sections": false,
   "sideBar": true,
   "skip_h1_title": false,
   "title_cell": "Table of Contents",
   "title_sidebar": "Contents",
   "toc_cell": false,
   "toc_position": {
    "height": "calc(100% - 180px)",
    "left": "10px",
    "top": "150px",
    "width": "307.2px"
   },
   "toc_section_display": true,
   "toc_window_display": true
  },
  "varInspector": {
   "cols": {
    "lenName": 16,
    "lenType": 16,
    "lenVar": 40
   },
   "kernels_config": {
    "python": {
     "delete_cmd_postfix": "",
     "delete_cmd_prefix": "del ",
     "library": "var_list.py",
     "varRefreshCmd": "print(var_dic_list())"
    },
    "r": {
     "delete_cmd_postfix": ") ",
     "delete_cmd_prefix": "rm(",
     "library": "var_list.r",
     "varRefreshCmd": "cat(var_dic_list()) "
    }
   },
   "types_to_exclude": [
    "module",
    "function",
    "builtin_function_or_method",
    "instance",
    "_Feature"
   ],
   "window_display": false
  }
 },
 "nbformat": 4,
 "nbformat_minor": 5
}
